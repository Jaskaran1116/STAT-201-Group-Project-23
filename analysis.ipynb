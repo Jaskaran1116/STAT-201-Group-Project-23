{
 "cells": [
  {
   "cell_type": "markdown",
   "id": "b6f0a107-f9a3-4819-9e7f-113ab46bdadf",
   "metadata": {},
   "source": [
    "Wine Quality Data Set:\n",
    "https://archive.ics.uci.edu/ml/datasets/Wine+Quality"
   ]
  },
  {
   "cell_type": "markdown",
   "id": "d044236b-ceff-4dd9-8740-333f0c213f24",
   "metadata": {},
   "source": [
    "# Predicting the Quality of Red Wines"
   ]
  },
  {
   "cell_type": "markdown",
   "id": "963cf8a2-3894-45d7-9549-067fcda5e48d",
   "metadata": {},
   "source": [
    "By: Jaskaran Singh, Justin Wong, Matthew Gillies, Shehab Khan"
   ]
  },
  {
   "cell_type": "markdown",
   "id": "816dd235-b45b-4890-b1b1-150a0bcf2bb9",
   "metadata": {},
   "source": [
    "# Introduction"
   ]
  },
  {
   "cell_type": "markdown",
   "id": "16d663ff-399d-4e0b-9f60-daecff9b48cd",
   "metadata": {},
   "source": [
    "For those who drink wine, knowing the quality of the wine is often very important to them. In our study, we look at four factors to predict whether the quality of wine out of 10. Our data set contains 1599 red wines with data on their acidity, composition, density, and quality. First, we will identify the 4 factors with the highest correlations to quality. To ensure that these factors do have a postive correlation with the quality of the wine, we will perform a hypothesis test and obtain a confidence interval regarding the correlatons. Using these factors we will predict the quality of the wines.\n",
    "\n",
    "-2 parameters?\n",
    "-frame question based on papers."
   ]
  },
  {
   "cell_type": "markdown",
   "id": "5da4893a-8ee2-4958-a8fc-3ac13d81a371",
   "metadata": {},
   "source": [
    "# Preliminary Results"
   ]
  },
  {
   "cell_type": "code",
   "execution_count": 2,
   "id": "be3bd660-7d27-49bc-9224-91beee1314bc",
   "metadata": {},
   "outputs": [
    {
     "name": "stderr",
     "output_type": "stream",
     "text": [
      "Warning message in system(\"timedatectl\", intern = TRUE):\n",
      "“running command 'timedatectl' had status 1”\n",
      "── \u001b[1mAttaching packages\u001b[22m ─────────────────────────────────────── tidyverse 1.3.1 ──\n",
      "\n",
      "\u001b[32m✔\u001b[39m \u001b[34mggplot2\u001b[39m 3.3.5     \u001b[32m✔\u001b[39m \u001b[34mpurrr  \u001b[39m 0.3.4\n",
      "\u001b[32m✔\u001b[39m \u001b[34mtibble \u001b[39m 3.1.6     \u001b[32m✔\u001b[39m \u001b[34mdplyr  \u001b[39m 1.0.7\n",
      "\u001b[32m✔\u001b[39m \u001b[34mtidyr  \u001b[39m 1.1.4     \u001b[32m✔\u001b[39m \u001b[34mstringr\u001b[39m 1.4.0\n",
      "\u001b[32m✔\u001b[39m \u001b[34mreadr  \u001b[39m 2.1.1     \u001b[32m✔\u001b[39m \u001b[34mforcats\u001b[39m 0.5.1\n",
      "\n",
      "── \u001b[1mConflicts\u001b[22m ────────────────────────────────────────── tidyverse_conflicts() ──\n",
      "\u001b[31m✖\u001b[39m \u001b[34mdplyr\u001b[39m::\u001b[32mcombine()\u001b[39m masks \u001b[34mgridExtra\u001b[39m::combine()\n",
      "\u001b[31m✖\u001b[39m \u001b[34mdplyr\u001b[39m::\u001b[32mfilter()\u001b[39m  masks \u001b[34mstats\u001b[39m::filter()\n",
      "\u001b[31m✖\u001b[39m \u001b[34mdplyr\u001b[39m::\u001b[32mlag()\u001b[39m     masks \u001b[34mstats\u001b[39m::lag()\n",
      "\n"
     ]
    },
    {
     "ename": "ERROR",
     "evalue": "Error in library(tidymodels): there is no package called ‘tidymodels’\n",
     "output_type": "error",
     "traceback": [
      "Error in library(tidymodels): there is no package called ‘tidymodels’\nTraceback:\n",
      "1. library(tidymodels)"
     ]
    }
   ],
   "source": [
    "library(cowplot)\n",
    "library(digest)\n",
    "library(gridExtra)\n",
    "library(repr)\n",
    "library(tidyverse)\n",
    "library(infer)\n",
    "library(tidymodels)\n",
    "library(GGally)\n"
   ]
  },
  {
   "cell_type": "code",
   "execution_count": null,
   "id": "7d217eff-9f52-4f22-834b-2bb2ef83353e",
   "metadata": {},
   "outputs": [],
   "source": [
    "wine_quality <- read_delim('winequality-red.csv', show_col_types = FALSE)\n",
    "names(wine_quality) <- make.names(names(wine_quality), unique = TRUE)\n",
    "\n",
    "\n",
    "head(wine_quality)"
   ]
  },
  {
   "cell_type": "markdown",
   "id": "0406a5ea-7cf4-4e99-990e-0b71d611a7f8",
   "metadata": {},
   "source": [
    "### UNIVARIATE ANALYSIS\n",
    "\n",
    "For this analysis, we took bootstrap samples for each of the variables individually to check which of them deem neccessary for our analysis. "
   ]
  },
  {
   "cell_type": "code",
   "execution_count": null,
   "id": "bc0120a5-b2e9-4ad5-805b-054d02688443",
   "metadata": {},
   "outputs": [],
   "source": [
    "# We check first for wine_quality \n",
    "wine_quality_bootstrap <- wine_quality %>% \n",
    "    rep_sample_n(size = 40, reps = 2000, replace = TRUE)\n",
    "\n",
    "wine_quality_hist_fixed <- wine_quality_bootstrap %>% \n",
    "    ggplot(aes(x = fixed.acidity)) + \n",
    "    #geom_histogram(aes(y = ..density.. ), colour = \"#FF6666\", fill = \"white\", binwidth = 0.8) + \n",
    "    geom_density(alpha=.2, fill=\"#e34444\", colour = \"#FF6666\") \n",
    "\n",
    "wine_quality_hist_volatile <- wine_quality_bootstrap %>% \n",
    "    ggplot(aes(x = volatile.acidity)) + \n",
    "    #geom_histogram(aes(y = ..density.. ), colour = \"#FF6666\", fill = \"white\", binwidth = 0.1) + \n",
    "    geom_density(alpha=.2, fill=\"#e34444\", colour = \"#FF6666\")\n",
    "\n",
    "wine_quality_hist_citric <- wine_quality_bootstrap %>% \n",
    "    ggplot(aes(x = citric.acid)) + \n",
    "    #geom_histogram(aes(y = ..density.. ), colour = \"#FF6666\", fill = \"white\", binwidth = 0.04) + \n",
    "    geom_density(alpha=.2, fill=\"#e34444\", colour = \"#FF6666\")\n",
    "\n",
    "wine_quality_hist_sulfur <- wine_quality_bootstrap %>% \n",
    "    ggplot(aes(x = free.sulfur.dioxide)) + \n",
    "    #geom_histogram(aes(y = ..density.. ), colour = \"#FF6666\", fill = \"white\", binwidth = 0.8) + \n",
    "    geom_density(alpha=.2, fill=\"#e34444\", colour = \"#FF6666\")\n",
    "\n",
    "wine_quality_hist_sulfur_total <- wine_quality_bootstrap %>% \n",
    "    ggplot(aes(x = total.sulfur.dioxide)) + \n",
    "    #geom_histogram(aes(y = ..density.. ), colour = \"#FF6666\", fill = \"white\", binwidth = 0.8) + \n",
    "    geom_density(alpha=.2, fill=\"#e34444\", colour = \"#FF6666\")\n",
    "\n",
    "wine_quality_hist_chlorides <- wine_quality_bootstrap %>% \n",
    "    ggplot(aes(x = chlorides)) + \n",
    "    #geom_histogram(aes(y = ..density.. ), colour = \"#FF6666\", fill = \"white\", binwidth = 0.8) + \n",
    "    geom_density(alpha=.2, fill=\"#e34444\", colour = \"#FF6666\")\n",
    "\n",
    "wine_quality_hist_density <- wine_quality_bootstrap %>% \n",
    "    ggplot(aes(x = density)) + \n",
    "    #geom_histogram(aes(y = ..density.. ), colour = \"#FF6666\", fill = \"white\", binwidth = 0.02) + \n",
    "    geom_density(alpha=.2, fill=\"#e34444\", colour = \"#FF6666\")\n",
    "\n",
    "wine_quality_hist_ph <- wine_quality_bootstrap %>% \n",
    "    ggplot(aes(x = pH)) + \n",
    "    #geom_histogram(aes(y = ..density.. ), colour = \"#FF6666\", fill = \"white\", binwidth = 0.04) + \n",
    "    geom_density(alpha=.2, fill=\"#e34444\", colour = \"#FF6666\")\n",
    "\n",
    "wine_quality_hist_sulphates <- wine_quality_bootstrap %>% \n",
    "    ggplot(aes(x = sulphates)) + \n",
    "    #geom_histogram(aes(y = ..density.. ), colour = \"#FF6666\", fill = \"white\", binwidth = 0.8) + \n",
    "    geom_density(alpha=.2, fill=\"#e34444\", colour = \"#FF6666\")\n",
    "\n",
    "wine_quality_hist_alcohol <- wine_quality_bootstrap %>% \n",
    "    ggplot(aes(x = alcohol)) + \n",
    "    #geom_histogram(aes(y = ..density.. ), colour = \"#FF6666\", fill = \"white\", binwidth = 0.07) + \n",
    "    geom_density(alpha=.2, fill=\"#e34444\", colour = \"#FF6666\")\n",
    "\n",
    "head(wine_quality_bootstrap)\n",
    "\n",
    "all_plots_row <- plot_grid(wine_quality_hist_fixed + \n",
    "                           theme(axis.text.x = element_text(angle = 90)),\n",
    "\n",
    "                           wine_quality_hist_volatile +  \n",
    "                           theme(axis.text.x = element_text(angle = 90)), \n",
    "                        \n",
    "                           wine_quality_hist_citric +\n",
    "                           theme(axis.text.x = element_text(angle = 90)), \n",
    "\n",
    "                           wine_quality_hist_sulfur + \n",
    "                           theme(axis.text.x = element_text(angle = 90)),\n",
    "                           \n",
    "                           wine_quality_hist_sulfur_total + \n",
    "                           theme(axis.text.x = element_text(angle = 90)),\n",
    "                           \n",
    "                           wine_quality_hist_chlorides + \n",
    "                           theme(axis.text.x = element_text(angle = 90)),\n",
    "                           \n",
    "                           wine_quality_hist_density + \n",
    "                           theme(axis.text.x = element_text(angle = 90)),\n",
    "                           \n",
    "                           wine_quality_hist_ph + \n",
    "                           theme(axis.text.x = element_text(angle = 90)),\n",
    "                           \n",
    "                           wine_quality_hist_alcohol + \n",
    "                           theme(axis.text.x = element_text(angle = 90)),\n",
    "                           ncol = 2)\n",
    "\n",
    "means_grid <- plot_grid(all_plots_row, \n",
    "                        rel_heights = c(0.5, 1))\n",
    "    \n",
    "means_grid"
   ]
  },
  {
   "cell_type": "markdown",
   "id": "70d36afc-bd82-4655-8bd3-2d67aa108623",
   "metadata": {},
   "source": [
    "Based on the univariate graphs, we can see that on taking bootstrap samples, fixed acidity and volatile acidity follow a somewhat normal distribution wherein the histogram for volatile acidity follows a somewhat bimodal distribution. \n",
    "\n",
    "It can be seen that pH and density follows an almost perfect normal distribution while total and free sulfur dioxide follow a right skewed distribution. This suggests that the variables fixed acidity, volatile acidity, pH, and density should be our ideal variables for our analysis to predict the quality of the wine. \n",
    "\n"
   ]
  },
  {
   "cell_type": "code",
   "execution_count": null,
   "id": "d9ab99a8-d99b-451c-a9ac-ae93bfcb93d7",
   "metadata": {},
   "outputs": [],
   "source": [
    "# Now we split data into a 75:25 training and testing data, which is then scaled and centered \n",
    "# to make sure all variables are comparable\n",
    "\n",
    "wine_split <- initial_split(wine_quality, prop = 0.75, strata = quality)\n",
    "wine_train <- training(wine_split)\n",
    "wine_test <- testing(wine_split)\n",
    "\n",
    "wine_recipe <- recipe(quality ~ . , data = wine_train) %>%\n",
    "                step_scale(all_predictors()) %>%\n",
    "                step_center(all_predictors())\n",
    "\n",
    "wine_scaled <- wine_recipe %>%\n",
    "            prep() %>%\n",
    "            bake(wine_train)\n"
   ]
  },
  {
   "cell_type": "code",
   "execution_count": 3,
   "id": "bf1fc3be-1337-4407-bc1e-0f95e376e4c3",
   "metadata": {},
   "outputs": [
    {
     "ename": "ERROR",
     "evalue": "Error in ggpairs(wine_scaled): could not find function \"ggpairs\"\n",
     "output_type": "error",
     "traceback": [
      "Error in ggpairs(wine_scaled): could not find function \"ggpairs\"\nTraceback:\n"
     ]
    }
   ],
   "source": [
    "options(repr.plot.width = 15, repr.plot.height = 12)\n",
    "\n",
    "ggpairs(wine_scaled) + \n",
    "     ggtitle(\"Figure 1: Correlation Matrix Between Pairs of Variables\")"
   ]
  },
  {
   "cell_type": "markdown",
   "id": "39dce667-df0e-4810-82df-dd80bae887c9",
   "metadata": {},
   "source": [
    "# Methods and Results"
   ]
  },
  {
   "cell_type": "code",
   "execution_count": null,
   "id": "617f8512-568e-4727-8809-14646f4ed234",
   "metadata": {},
   "outputs": [],
   "source": []
  },
  {
   "cell_type": "markdown",
   "id": "8ec27a4c-51c5-4317-a24f-8980ae439404",
   "metadata": {},
   "source": [
    "# References\n"
   ]
  },
  {
   "cell_type": "markdown",
   "id": "3af06135-70cc-4e95-973c-4e706613ce9f",
   "metadata": {},
   "source": [
    " Zhang, Qing-An, et al. “Preliminary Study of the Effect of Ultrasound on Physicochemical Properties of Red Wine.” CyTA - Journal of Food, vol. 14, no. 1, 2015, pp. 55–64., https://doi.org/10.1080/19476337.2015.1045036. \n",
    "\n",
    "P. Cortez, A. Cerdeira, F. Almeida, T. Matos and J. Reis. Modeling wine preferences by data mining from physicochemical properties.\n",
    "In Decision Support Systems, Elsevier, 47(4):547-553, 2009.\n",
    "\n",
    "P. Cortez, A. Cerdeira, F. Almeida, T. Matos and J. Reis.\n",
    "Modeling wine preferences by data mining from physicochemical properties. In Decision Support Systems, Elsevier, 47(4):547-553, 2009."
   ]
  },
  {
   "cell_type": "code",
   "execution_count": null,
   "id": "1abaf29f-7aea-4fc7-a048-7951246ded34",
   "metadata": {},
   "outputs": [],
   "source": []
  },
  {
   "cell_type": "code",
   "execution_count": null,
   "id": "feb532d6-8105-4f7c-9635-d5e25181a72f",
   "metadata": {},
   "outputs": [],
   "source": []
  },
  {
   "cell_type": "code",
   "execution_count": null,
   "id": "0f5f0a71-4f94-4405-9f5e-8d947e5b7997",
   "metadata": {},
   "outputs": [],
   "source": []
  }
 ],
 "metadata": {
  "kernelspec": {
   "display_name": "R",
   "language": "R",
   "name": "ir"
  },
  "language_info": {
   "codemirror_mode": "r",
   "file_extension": ".r",
   "mimetype": "text/x-r-source",
   "name": "R",
   "pygments_lexer": "r",
   "version": "4.1.2"
  }
 },
 "nbformat": 4,
 "nbformat_minor": 5
}
