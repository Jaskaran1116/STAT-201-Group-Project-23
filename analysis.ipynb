{
 "cells": [
  {
   "cell_type": "markdown",
   "id": "b6f0a107-f9a3-4819-9e7f-113ab46bdadf",
   "metadata": {},
   "source": [
    "Wine Quality Data Set:\n",
    "https://archive.ics.uci.edu/ml/datasets/Wine+Quality"
   ]
  },
  {
   "cell_type": "markdown",
   "id": "d044236b-ceff-4dd9-8740-333f0c213f24",
   "metadata": {},
   "source": [
    "# Predicting the Quality of Red Wines"
   ]
  },
  {
   "cell_type": "markdown",
   "id": "963cf8a2-3894-45d7-9549-067fcda5e48d",
   "metadata": {},
   "source": [
    "By: Jaskaran Singh, Justin Wong, Matthew Gillies, Shehab Khan"
   ]
  },
  {
   "cell_type": "markdown",
   "id": "816dd235-b45b-4890-b1b1-150a0bcf2bb9",
   "metadata": {},
   "source": [
    "# Introduction"
   ]
  },
  {
   "cell_type": "markdown",
   "id": "16d663ff-399d-4e0b-9f60-daecff9b48cd",
   "metadata": {},
   "source": [
    "For those who drink wine, knowing the alcohol content of the wine is often very important to them. The alcohol content of both red and white wines are a quality of interest for both consumers and producers. In our study, we compare the mean alcohol content of wines from red and white wine datasets. Our first data set contains 1599 red wines with data on their composition and quality. The other data set contains 4898 white wines with data on their composition and quality. We will perform a hypothesis test comparing the mean alcohol content of the 2 types of wine and obtain a confidence interval of the difference of means of alcohol content in the two types of wine(red and white). We plan to estimate this confidence interval using asymptotics and will compare the two techniques. We additionally plan to analyze the quantiles for the alcohol concentration in red and white wine.\n",
    "\n",
    "## Attribute Information \n",
    "- `fixed acidity` - Primary fixed acids found in wine such as tartaric and malic acid. \n",
    "- `volatile acidity` - It is the gaseous acids present in the wine \n",
    "- `citric acid` - It is a weak organic fluid, found in citrus fruits naturally\n",
    "- `residual sugar` - Amount of sugar left after fermentation \n",
    "- `chlorides` - Amount of salt present in wine \n",
    "- `free sulfur dioxide` - So2 is used for prevention of wine by oxidation and microbial spoilage \n",
    "- `total sulfur dioxide`\n",
    "- `density` - The density of the wine \n",
    "- `pH` - Used for checking the amount of acidity \n",
    "- `sulphates` - Additional sulfites preserve the freshness and protects the wine from oxidation and bacteria \n",
    "- `alcohol` - Percent of alcohol present in the wine\n",
    "- `quality` - Output variable \n",
    "\n"
   ]
  },
  {
   "cell_type": "markdown",
   "id": "5da4893a-8ee2-4958-a8fc-3ac13d81a371",
   "metadata": {},
   "source": [
    "# Preliminary Results"
   ]
  },
  {
   "cell_type": "code",
   "execution_count": 13,
   "id": "be3bd660-7d27-49bc-9224-91beee1314bc",
   "metadata": {},
   "outputs": [],
   "source": [
    "suppressPackageStartupMessages({\n",
    "library(cowplot)\n",
    "library(digest)\n",
    "library(gridExtra)\n",
    "library(repr)\n",
    "library(tidyverse)\n",
    "library(tidymodels)\n",
    "library(GGally)\n",
    "library(infer)\n",
    "})\n"
   ]
  },
  {
   "cell_type": "code",
   "execution_count": 14,
   "id": "7d217eff-9f52-4f22-834b-2bb2ef83353e",
   "metadata": {},
   "outputs": [
    {
     "name": "stdout",
     "output_type": "stream",
     "text": [
      "[1] \"Figure 1: Initial Wine Data\"\n"
     ]
    },
    {
     "data": {
      "text/html": [
       "<table class=\"dataframe\">\n",
       "<caption>A data.frame: 6 × 13</caption>\n",
       "<thead>\n",
       "\t<tr><th></th><th scope=col>fixed.acidity</th><th scope=col>volatile.acidity</th><th scope=col>citric.acid</th><th scope=col>residual.sugar</th><th scope=col>chlorides</th><th scope=col>free.sulfur.dioxide</th><th scope=col>total.sulfur.dioxide</th><th scope=col>density</th><th scope=col>pH</th><th scope=col>sulphates</th><th scope=col>alcohol</th><th scope=col>quality</th><th scope=col>type</th></tr>\n",
       "\t<tr><th></th><th scope=col>&lt;dbl&gt;</th><th scope=col>&lt;dbl&gt;</th><th scope=col>&lt;dbl&gt;</th><th scope=col>&lt;dbl&gt;</th><th scope=col>&lt;dbl&gt;</th><th scope=col>&lt;dbl&gt;</th><th scope=col>&lt;dbl&gt;</th><th scope=col>&lt;dbl&gt;</th><th scope=col>&lt;dbl&gt;</th><th scope=col>&lt;dbl&gt;</th><th scope=col>&lt;dbl&gt;</th><th scope=col>&lt;dbl&gt;</th><th scope=col>&lt;chr&gt;</th></tr>\n",
       "</thead>\n",
       "<tbody>\n",
       "\t<tr><th scope=row>1</th><td> 7.4</td><td>0.70</td><td>0.00</td><td>1.9</td><td>0.076</td><td>11</td><td>34</td><td>0.9978</td><td>3.51</td><td>0.56</td><td>9.4</td><td>5</td><td>red</td></tr>\n",
       "\t<tr><th scope=row>2</th><td> 7.8</td><td>0.88</td><td>0.00</td><td>2.6</td><td>0.098</td><td>25</td><td>67</td><td>0.9968</td><td>3.20</td><td>0.68</td><td>9.8</td><td>5</td><td>red</td></tr>\n",
       "\t<tr><th scope=row>3</th><td> 7.8</td><td>0.76</td><td>0.04</td><td>2.3</td><td>0.092</td><td>15</td><td>54</td><td>0.9970</td><td>3.26</td><td>0.65</td><td>9.8</td><td>5</td><td>red</td></tr>\n",
       "\t<tr><th scope=row>4</th><td>11.2</td><td>0.28</td><td>0.56</td><td>1.9</td><td>0.075</td><td>17</td><td>60</td><td>0.9980</td><td>3.16</td><td>0.58</td><td>9.8</td><td>6</td><td>red</td></tr>\n",
       "\t<tr><th scope=row>5</th><td> 7.4</td><td>0.70</td><td>0.00</td><td>1.9</td><td>0.076</td><td>11</td><td>34</td><td>0.9978</td><td>3.51</td><td>0.56</td><td>9.4</td><td>5</td><td>red</td></tr>\n",
       "\t<tr><th scope=row>6</th><td> 7.4</td><td>0.66</td><td>0.00</td><td>1.8</td><td>0.075</td><td>13</td><td>40</td><td>0.9978</td><td>3.51</td><td>0.56</td><td>9.4</td><td>5</td><td>red</td></tr>\n",
       "</tbody>\n",
       "</table>\n"
      ],
      "text/latex": [
       "A data.frame: 6 × 13\n",
       "\\begin{tabular}{r|lllllllllllll}\n",
       "  & fixed.acidity & volatile.acidity & citric.acid & residual.sugar & chlorides & free.sulfur.dioxide & total.sulfur.dioxide & density & pH & sulphates & alcohol & quality & type\\\\\n",
       "  & <dbl> & <dbl> & <dbl> & <dbl> & <dbl> & <dbl> & <dbl> & <dbl> & <dbl> & <dbl> & <dbl> & <dbl> & <chr>\\\\\n",
       "\\hline\n",
       "\t1 &  7.4 & 0.70 & 0.00 & 1.9 & 0.076 & 11 & 34 & 0.9978 & 3.51 & 0.56 & 9.4 & 5 & red\\\\\n",
       "\t2 &  7.8 & 0.88 & 0.00 & 2.6 & 0.098 & 25 & 67 & 0.9968 & 3.20 & 0.68 & 9.8 & 5 & red\\\\\n",
       "\t3 &  7.8 & 0.76 & 0.04 & 2.3 & 0.092 & 15 & 54 & 0.9970 & 3.26 & 0.65 & 9.8 & 5 & red\\\\\n",
       "\t4 & 11.2 & 0.28 & 0.56 & 1.9 & 0.075 & 17 & 60 & 0.9980 & 3.16 & 0.58 & 9.8 & 6 & red\\\\\n",
       "\t5 &  7.4 & 0.70 & 0.00 & 1.9 & 0.076 & 11 & 34 & 0.9978 & 3.51 & 0.56 & 9.4 & 5 & red\\\\\n",
       "\t6 &  7.4 & 0.66 & 0.00 & 1.8 & 0.075 & 13 & 40 & 0.9978 & 3.51 & 0.56 & 9.4 & 5 & red\\\\\n",
       "\\end{tabular}\n"
      ],
      "text/markdown": [
       "\n",
       "A data.frame: 6 × 13\n",
       "\n",
       "| <!--/--> | fixed.acidity &lt;dbl&gt; | volatile.acidity &lt;dbl&gt; | citric.acid &lt;dbl&gt; | residual.sugar &lt;dbl&gt; | chlorides &lt;dbl&gt; | free.sulfur.dioxide &lt;dbl&gt; | total.sulfur.dioxide &lt;dbl&gt; | density &lt;dbl&gt; | pH &lt;dbl&gt; | sulphates &lt;dbl&gt; | alcohol &lt;dbl&gt; | quality &lt;dbl&gt; | type &lt;chr&gt; |\n",
       "|---|---|---|---|---|---|---|---|---|---|---|---|---|---|\n",
       "| 1 |  7.4 | 0.70 | 0.00 | 1.9 | 0.076 | 11 | 34 | 0.9978 | 3.51 | 0.56 | 9.4 | 5 | red |\n",
       "| 2 |  7.8 | 0.88 | 0.00 | 2.6 | 0.098 | 25 | 67 | 0.9968 | 3.20 | 0.68 | 9.8 | 5 | red |\n",
       "| 3 |  7.8 | 0.76 | 0.04 | 2.3 | 0.092 | 15 | 54 | 0.9970 | 3.26 | 0.65 | 9.8 | 5 | red |\n",
       "| 4 | 11.2 | 0.28 | 0.56 | 1.9 | 0.075 | 17 | 60 | 0.9980 | 3.16 | 0.58 | 9.8 | 6 | red |\n",
       "| 5 |  7.4 | 0.70 | 0.00 | 1.9 | 0.076 | 11 | 34 | 0.9978 | 3.51 | 0.56 | 9.4 | 5 | red |\n",
       "| 6 |  7.4 | 0.66 | 0.00 | 1.8 | 0.075 | 13 | 40 | 0.9978 | 3.51 | 0.56 | 9.4 | 5 | red |\n",
       "\n"
      ],
      "text/plain": [
       "  fixed.acidity volatile.acidity citric.acid residual.sugar chlorides\n",
       "1  7.4          0.70             0.00        1.9            0.076    \n",
       "2  7.8          0.88             0.00        2.6            0.098    \n",
       "3  7.8          0.76             0.04        2.3            0.092    \n",
       "4 11.2          0.28             0.56        1.9            0.075    \n",
       "5  7.4          0.70             0.00        1.9            0.076    \n",
       "6  7.4          0.66             0.00        1.8            0.075    \n",
       "  free.sulfur.dioxide total.sulfur.dioxide density pH   sulphates alcohol\n",
       "1 11                  34                   0.9978  3.51 0.56      9.4    \n",
       "2 25                  67                   0.9968  3.20 0.68      9.8    \n",
       "3 15                  54                   0.9970  3.26 0.65      9.8    \n",
       "4 17                  60                   0.9980  3.16 0.58      9.8    \n",
       "5 11                  34                   0.9978  3.51 0.56      9.4    \n",
       "6 13                  40                   0.9978  3.51 0.56      9.4    \n",
       "  quality type\n",
       "1 5       red \n",
       "2 5       red \n",
       "3 5       red \n",
       "4 6       red \n",
       "5 5       red \n",
       "6 5       red "
      ]
     },
     "metadata": {},
     "output_type": "display_data"
    }
   ],
   "source": [
    "# Read the two dataset(red wine and white wine csv) into jupyter notebook\n",
    "\n",
    "wine_quality <- read_delim('winequality-red.csv', show_col_types = FALSE)\n",
    "names(wine_quality) <- make.names(names(wine_quality), unique = TRUE)\n",
    "\n",
    "wine_quality <- cbind(wine_quality, type = \"red\")\n",
    "\n",
    "\n",
    "wine_quality_white <- read_delim('winequality-white.csv', show_col_types = FALSE)\n",
    "names(wine_quality_white) <- make.names(names(wine_quality_white), unique = TRUE)\n",
    "\n",
    "wine_quality_white <- cbind(wine_quality_white, type = \"white\")\n",
    "\n",
    "# Now we would combine the two datasets based on the type of wine(red and white)\n",
    "\n",
    "combined_data <- rbind(wine_quality, wine_quality_white)  \n",
    "print(\"Figure 1: Initial Wine Data\")\n",
    "head(combined_data) "
   ]
  },
  {
   "cell_type": "markdown",
   "id": "04f385ba-659e-4caa-a7c7-5d165d6aee3a",
   "metadata": {},
   "source": [
    "## Observed means for alcohol content in red and white wine\n",
    "A random sample of size 100 was taken from each dataset and the average alcohol content was estimated for both red and white wine."
   ]
  },
  {
   "cell_type": "code",
   "execution_count": 24,
   "id": "456fb8f7-e46e-4e88-b333-a1c12ab323ab",
   "metadata": {},
   "outputs": [
    {
     "name": "stderr",
     "output_type": "stream",
     "text": [
      "Adding missing grouping variables: `replicate`\n",
      "\n",
      "Adding missing grouping variables: `replicate`\n",
      "\n"
     ]
    },
    {
     "name": "stdout",
     "output_type": "stream",
     "text": [
      "[1] \"Mean of alcohol content from red wine sample\"\n"
     ]
    },
    {
     "data": {
      "text/html": [
       "<table class=\"dataframe\">\n",
       "<caption>A infer: 1 × 1</caption>\n",
       "<thead>\n",
       "\t<tr><th scope=col>stat</th></tr>\n",
       "\t<tr><th scope=col>&lt;dbl&gt;</th></tr>\n",
       "</thead>\n",
       "<tbody>\n",
       "\t<tr><td>10.2775</td></tr>\n",
       "</tbody>\n",
       "</table>\n"
      ],
      "text/latex": [
       "A infer: 1 × 1\n",
       "\\begin{tabular}{l}\n",
       " stat\\\\\n",
       " <dbl>\\\\\n",
       "\\hline\n",
       "\t 10.2775\\\\\n",
       "\\end{tabular}\n"
      ],
      "text/markdown": [
       "\n",
       "A infer: 1 × 1\n",
       "\n",
       "| stat &lt;dbl&gt; |\n",
       "|---|\n",
       "| 10.2775 |\n",
       "\n"
      ],
      "text/plain": [
       "  stat   \n",
       "1 10.2775"
      ]
     },
     "metadata": {},
     "output_type": "display_data"
    },
    {
     "name": "stdout",
     "output_type": "stream",
     "text": [
      "[1] \"Mean of alcohol content from white wine sample\"\n"
     ]
    },
    {
     "data": {
      "text/html": [
       "<table class=\"dataframe\">\n",
       "<caption>A infer: 1 × 1</caption>\n",
       "<thead>\n",
       "\t<tr><th scope=col>stat</th></tr>\n",
       "\t<tr><th scope=col>&lt;dbl&gt;</th></tr>\n",
       "</thead>\n",
       "<tbody>\n",
       "\t<tr><td>10.429</td></tr>\n",
       "</tbody>\n",
       "</table>\n"
      ],
      "text/latex": [
       "A infer: 1 × 1\n",
       "\\begin{tabular}{l}\n",
       " stat\\\\\n",
       " <dbl>\\\\\n",
       "\\hline\n",
       "\t 10.429\\\\\n",
       "\\end{tabular}\n"
      ],
      "text/markdown": [
       "\n",
       "A infer: 1 × 1\n",
       "\n",
       "| stat &lt;dbl&gt; |\n",
       "|---|\n",
       "| 10.429 |\n",
       "\n"
      ],
      "text/plain": [
       "  stat  \n",
       "1 10.429"
      ]
     },
     "metadata": {},
     "output_type": "display_data"
    }
   ],
   "source": [
    "set.seed(4242)\n",
    "\n",
    "#Taking a sample of size 100 from the dataset\n",
    "\n",
    "#red wine sample\n",
    "alcohol_sample <- wine_quality %>% \n",
    "    rep_sample_n(size = 100, replace = FALSE) %>% \n",
    "    select(alcohol)\n",
    "\n",
    "#white wine sample\n",
    "alcohol_white_sample <- wine_quality_white %>% \n",
    "     rep_sample_n(size = 100, replace = FALSE) %>% \n",
    "     select(alcohol)\n",
    "\n",
    "\n",
    "#Calculate the mean of alcohol content from the red wine sample \n",
    "observed_alc_mean <- alcohol_sample %>% \n",
    "    specify(response = alcohol) %>% \n",
    "    calculate(stat = \"mean\")\n",
    "\n",
    "#Calculate the mean of alcohol content from the white wine sample\n",
    "observed_alc_white_mean <- alcohol_white_sample %>% \n",
    "    specify(response = alcohol) %>% \n",
    "    calculate(stat = \"mean\")\n",
    "\n",
    "print(\"Mean of alcohol content from red wine sample\")\n",
    "observed_alc_mean\n",
    "print(\"Mean of alcohol content from white wine sample\")\n",
    "observed_alc_white_mean\n",
    "\n"
   ]
  },
  {
   "cell_type": "markdown",
   "id": "dac34400-5a2f-4203-9a58-0b6f99eb645a",
   "metadata": {},
   "source": [
    "It can be estimated that the mean alcohol content in red wine is 10.277(vol.%) and the mean alcohol content in white wine is 10.429(vol.%)"
   ]
  },
  {
   "cell_type": "markdown",
   "id": "09465a4b-fe61-4502-b0e9-a53faaf3b601",
   "metadata": {},
   "source": [
    "## Investigation on Quantiles for the alcohol content in red and white wine "
   ]
  },
  {
   "cell_type": "code",
   "execution_count": 25,
   "id": "8dacd9ef-8091-4529-9117-d614bbbe01d5",
   "metadata": {},
   "outputs": [],
   "source": [
    "## Take a sample of the datasets and select the variable of interest (alcohol)\n",
    "sample <- wine_quality %>%\n",
    "    rep_sample_n(reps = 1, size = 200, replace = FALSE) %>%\n",
    "    ungroup() %>%\n",
    "    select(alcohol)\n",
    "\n",
    "sample_white <- wine_quality_white %>%\n",
    "    rep_sample_n(reps = 1, size = 200, replace = FALSE) %>%\n",
    "    ungroup() %>%\n",
    "    select(alcohol)\n"
   ]
  },
  {
   "cell_type": "code",
   "execution_count": 17,
   "id": "4bf2e726-ccf6-4a24-9dcf-8d1a36f1704d",
   "metadata": {},
   "outputs": [
    {
     "data": {
      "text/html": [
       "<strong>25%:</strong> 9.5"
      ],
      "text/latex": [
       "\\textbf{25\\textbackslash{}\\%:} 9.5"
      ],
      "text/markdown": [
       "**25%:** 9.5"
      ],
      "text/plain": [
       "25% \n",
       "9.5 "
      ]
     },
     "metadata": {},
     "output_type": "display_data"
    },
    {
     "data": {
      "text/html": [
       "<strong>75%:</strong> 11"
      ],
      "text/latex": [
       "\\textbf{75\\textbackslash{}\\%:} 11"
      ],
      "text/markdown": [
       "**75%:** 11"
      ],
      "text/plain": [
       "75% \n",
       " 11 "
      ]
     },
     "metadata": {},
     "output_type": "display_data"
    },
    {
     "data": {
      "text/html": [
       "<strong>25%:</strong> 9.4"
      ],
      "text/latex": [
       "\\textbf{25\\textbackslash{}\\%:} 9.4"
      ],
      "text/markdown": [
       "**25%:** 9.4"
      ],
      "text/plain": [
       "25% \n",
       "9.4 "
      ]
     },
     "metadata": {},
     "output_type": "display_data"
    },
    {
     "data": {
      "text/html": [
       "<strong>75%:</strong> 11.325"
      ],
      "text/latex": [
       "\\textbf{75\\textbackslash{}\\%:} 11.325"
      ],
      "text/markdown": [
       "**75%:** 11.325"
      ],
      "text/plain": [
       "   75% \n",
       "11.325 "
      ]
     },
     "metadata": {},
     "output_type": "display_data"
    },
    {
     "data": {
      "text/html": [
       "<strong>75%:</strong> 1.5"
      ],
      "text/latex": [
       "\\textbf{75\\textbackslash{}\\%:} 1.5"
      ],
      "text/markdown": [
       "**75%:** 1.5"
      ],
      "text/plain": [
       "75% \n",
       "1.5 "
      ]
     },
     "metadata": {},
     "output_type": "display_data"
    },
    {
     "data": {
      "text/html": [
       "<strong>75%:</strong> 1.925"
      ],
      "text/latex": [
       "\\textbf{75\\textbackslash{}\\%:} 1.925"
      ],
      "text/markdown": [
       "**75%:** 1.925"
      ],
      "text/plain": [
       "  75% \n",
       "1.925 "
      ]
     },
     "metadata": {},
     "output_type": "display_data"
    }
   ],
   "source": [
    "## Calculate 0.25th and 0.75th quantiles\n",
    "\n",
    "#0.25th quantile for red wine \n",
    "lower_quantile <- sample %>%\n",
    "    pull(alcohol) %>%\n",
    "    quantile(0.25)\n",
    "\n",
    "#0.75th quantile for red wine\n",
    "upper_quantile <- sample %>%\n",
    "    pull(alcohol) %>%\n",
    "    quantile(0.75)\n",
    "\n",
    "#0.25th quantile for white wine \n",
    "lower_quantile_white <- sample_white %>%\n",
    "    pull(alcohol) %>%\n",
    "    quantile(0.25)\n",
    "\n",
    "#0.75th quantile for white wine \n",
    "upper_quantile_white <- sample_white %>%\n",
    "    pull(alcohol) %>%\n",
    "    quantile(0.75)\n",
    "\n",
    "# difference of upper and lower quantile for red wine \n",
    "iqr <- upper_quantile - lower_quantile\n",
    "\n",
    "#difference of upper and lower quantile for white wine \n",
    "iqr_white <- upper_quantile_white - lower_quantile_white\n",
    "\n",
    "\n",
    "\n",
    "lower_quantile #0.25th quantile for red wine \n",
    "upper_quantile #0.75th quantile for red wine\n",
    "lower_quantile_white #0.25th quantile for white wine \n",
    "upper_quantile_white #0.75th quantile for white wine \n",
    "iqr # difference of upper and lower quantile for red wine \n",
    "iqr_white #difference of upper and lower quantile for white wine "
   ]
  },
  {
   "cell_type": "markdown",
   "id": "9619fa21-32bc-40fb-aa03-c5e2281ea154",
   "metadata": {},
   "source": [
    "From the values produced above we see that the alcohol content in white wine is not equal to the alcohol content in red wine. "
   ]
  },
  {
   "cell_type": "code",
   "execution_count": 71,
   "id": "893b559a-ab71-48c4-a818-80af622a2b12",
   "metadata": {},
   "outputs": [
    {
     "name": "stdout",
     "output_type": "stream",
     "text": [
      "[1] \"Figure 2: Sample distributions of red and white wine populations\"\n"
     ]
    },
    {
     "data": {
      "image/png": "[encoded data removed]",
      "text/plain": [
       "plot without title"
      ]
     },
     "metadata": {
      "image/png": {
       "height": 480,
       "width": 480
      }
     },
     "output_type": "display_data"
    }
   ],
   "source": [
    "options(repr.plot.width = 8, repr.plot.height = 8)\n",
    "## Plot the distribution of the sample with quantiles \n",
    "quantile_plot <- \n",
    "    sample %>% \n",
    "    ggplot(aes(x = alcohol)) +\n",
    "    theme_bw() +\n",
    "    geom_histogram(binwidth = 0.25, color = 'white') +\n",
    "    geom_vline(xintercept = lower_quantile, colour = \"red\", size = 1) +\n",
    "    geom_vline(xintercept = upper_quantile, colour = \"red\", size = 1) +\n",
    "    labs(title = \"Sample Distribution of red wine population (200 observations)\",\n",
    "         x = \"Alcohol Concentration\") +\n",
    "    theme(plot.title = element_text(size = 9)) +\n",
    "    theme(axis.title = element_text(size = 15))\n",
    "\n",
    "quantile_plot_white <- \n",
    "    sample_white %>% \n",
    "    ggplot(aes(x = alcohol)) +\n",
    "    theme_bw() +\n",
    "    geom_histogram(binwidth = 0.25, color = 'white') +\n",
    "    geom_vline(xintercept = lower_quantile_white, colour = \"red\", size = 1) +\n",
    "    geom_vline(xintercept = upper_quantile_white, colour = \"red\", size = 1) +\n",
    "    labs(title = \"Sample Distribution of white wine population (200 observations)\",\n",
    "         x = \"Alcohol Concentration\") +\n",
    "    theme(plot.title = element_text(size = 9)) +\n",
    "    theme(axis.title = element_text(size = 15))\n",
    "\n",
    "\n",
    "\n",
    "plots_row <- plot_grid(quantile_plot + \n",
    "                           theme(axis.text.x = element_text(angle = 90)),\n",
    "\n",
    "                           quantile_plot_white +  \n",
    "                           theme(axis.text.x = element_text(angle = 90)), \n",
    "                           ncol = 2)\n",
    "\n",
    "dist_grid <- plot_grid(plots_row, \n",
    "                        rel_heights = c(0.5, 1), rel_widths = c(2, 1))\n",
    "print(\"Figure 2: Sample distributions of red and white wine populations\")\n",
    "dist_grid\n"
   ]
  },
  {
   "cell_type": "markdown",
   "id": "1af74031-2a0b-4623-8621-0d14f6bfdfa4",
   "metadata": {},
   "source": [
    "After examining the histograms, the previous statement can be refuted, as it seems there is an usual amount of \n",
    "values around the point 9.5. It seems that the sample taken from the red wine population is slightly right-skewed, which explains the larger IQR. Therefore an estimate is formed that the variance of alcohol in red wine and alcohol in white wine are approximately similar. To test this observation a hypothesis test will be conducted examining to see if the difference in means of the alcohol contents are significant with a 5% significance level.\n"
   ]
  },
  {
   "cell_type": "markdown",
   "id": "b258e0fe-af8a-4168-8b7b-b396f59b1ad5",
   "metadata": {},
   "source": [
    "# Methods and Results\n",
    "## Methods: Plan\n",
    "This dataset is trustworthy since it comes from a reliable source since it was from a database recommended on the course page. Moreover, an academic paper was written on this data, further suggesting that it is a reliable source of data.\n",
    "To summarize what we have analyzed above, using sampling we estimated the observed mean alcohol content for both red and white wines. Additionally, we analyzed the IQR of the alcohol content of both types of wine to check the differences in alcohol content. From this we observed that the alcohol contents of both wines were fairly similar. However, to test the significance of this difference we conducted a hypothesis test on these variables. \n",
    "\n",
    "We conducted a hypothesis test using the infer package wherein the null hypothesis states that there is no significant difference between average alcohol amount in red wine and average alcohol amount in white wine. We further plan to include a 95% confidence interval for the difference in means. \n",
    "\n",
    "## Expected Outcomes Significance\n",
    "### What do you expect to find?\n",
    "The plan is to obtain the p-value using the hypothesis test. If the p-value comes out to be less than 0.05, we would reject the null hypothesis. \n",
    "### What impact could such findings have?\n",
    "These findings could provide insights for wine making companies as well as consumers regarding what the alcohol content in wines are.\n",
    "### What future questions could this lead to?\n",
    "The study can be further analyzed by possibly exploring the relation between alcohol content and the other variables in the dataset. We could see if any of the other variables are correlated with the alcohol concentration to help make a regression model in future. \n",
    "\n",
    "## Results\n",
    "## Hypothesis Test\n",
    "H<sub>0</sub> : There is no significant difference between average alcohol amount in red wine and average alcohol amount in white wine (alcohol content of red wine - alcohol content of white wine)\n",
    "\n",
    "H<sub>A</sub> : There is significant difference between average alcohol amount in red wine and average alcohol amount in white wine"
   ]
  },
  {
   "cell_type": "code",
   "execution_count": 28,
   "id": "d20559fb-6271-4018-ad19-9deb8df9927f",
   "metadata": {},
   "outputs": [
    {
     "name": "stdout",
     "output_type": "stream",
     "text": [
      "[1] \"Figure 3: Filtered data containing only alcohol amount and type of wine\"\n"
     ]
    },
    {
     "data": {
      "text/html": [
       "<table class=\"dataframe\">\n",
       "<caption>A data.frame: 6 × 2</caption>\n",
       "<thead>\n",
       "\t<tr><th></th><th scope=col>alcohol</th><th scope=col>type</th></tr>\n",
       "\t<tr><th></th><th scope=col>&lt;dbl&gt;</th><th scope=col>&lt;chr&gt;</th></tr>\n",
       "</thead>\n",
       "<tbody>\n",
       "\t<tr><th scope=row>1</th><td>9.4</td><td>red</td></tr>\n",
       "\t<tr><th scope=row>2</th><td>9.8</td><td>red</td></tr>\n",
       "\t<tr><th scope=row>3</th><td>9.8</td><td>red</td></tr>\n",
       "\t<tr><th scope=row>4</th><td>9.8</td><td>red</td></tr>\n",
       "\t<tr><th scope=row>5</th><td>9.4</td><td>red</td></tr>\n",
       "\t<tr><th scope=row>6</th><td>9.4</td><td>red</td></tr>\n",
       "</tbody>\n",
       "</table>\n"
      ],
      "text/latex": [
       "A data.frame: 6 × 2\n",
       "\\begin{tabular}{r|ll}\n",
       "  & alcohol & type\\\\\n",
       "  & <dbl> & <chr>\\\\\n",
       "\\hline\n",
       "\t1 & 9.4 & red\\\\\n",
       "\t2 & 9.8 & red\\\\\n",
       "\t3 & 9.8 & red\\\\\n",
       "\t4 & 9.8 & red\\\\\n",
       "\t5 & 9.4 & red\\\\\n",
       "\t6 & 9.4 & red\\\\\n",
       "\\end{tabular}\n"
      ],
      "text/markdown": [
       "\n",
       "A data.frame: 6 × 2\n",
       "\n",
       "| <!--/--> | alcohol &lt;dbl&gt; | type &lt;chr&gt; |\n",
       "|---|---|---|\n",
       "| 1 | 9.4 | red |\n",
       "| 2 | 9.8 | red |\n",
       "| 3 | 9.8 | red |\n",
       "| 4 | 9.8 | red |\n",
       "| 5 | 9.4 | red |\n",
       "| 6 | 9.4 | red |\n",
       "\n"
      ],
      "text/plain": [
       "  alcohol type\n",
       "1 9.4     red \n",
       "2 9.8     red \n",
       "3 9.8     red \n",
       "4 9.8     red \n",
       "5 9.4     red \n",
       "6 9.4     red "
      ]
     },
     "metadata": {},
     "output_type": "display_data"
    }
   ],
   "source": [
    "# First we select the columns of interest from the data\n",
    "alcohol_data <-\n",
    "combined_data %>% \n",
    "select(alcohol, type) %>% \n",
    "filter(!is.na(alcohol))\n",
    "print(\"Figure 3: Filtered data containing only alcohol amount and type of wine\")\n",
    "head(alcohol_data)"
   ]
  },
  {
   "cell_type": "code",
   "execution_count": 29,
   "id": "9081dbdb-05e7-41f2-b59a-0cec58fb3cb3",
   "metadata": {},
   "outputs": [
    {
     "name": "stdout",
     "output_type": "stream",
     "text": [
      "[1] \"Figure 4: Number of data points for red and white wine\"\n"
     ]
    },
    {
     "data": {
      "text/html": [
       "<table class=\"dataframe\">\n",
       "<caption>A data.frame: 2 × 2</caption>\n",
       "<thead>\n",
       "\t<tr><th scope=col>type</th><th scope=col>n</th></tr>\n",
       "\t<tr><th scope=col>&lt;chr&gt;</th><th scope=col>&lt;int&gt;</th></tr>\n",
       "</thead>\n",
       "<tbody>\n",
       "\t<tr><td>red  </td><td>1599</td></tr>\n",
       "\t<tr><td>white</td><td>4898</td></tr>\n",
       "</tbody>\n",
       "</table>\n"
      ],
      "text/latex": [
       "A data.frame: 2 × 2\n",
       "\\begin{tabular}{ll}\n",
       " type & n\\\\\n",
       " <chr> & <int>\\\\\n",
       "\\hline\n",
       "\t red   & 1599\\\\\n",
       "\t white & 4898\\\\\n",
       "\\end{tabular}\n"
      ],
      "text/markdown": [
       "\n",
       "A data.frame: 2 × 2\n",
       "\n",
       "| type &lt;chr&gt; | n &lt;int&gt; |\n",
       "|---|---|\n",
       "| red   | 1599 |\n",
       "| white | 4898 |\n",
       "\n"
      ],
      "text/plain": [
       "  type  n   \n",
       "1 red   1599\n",
       "2 white 4898"
      ]
     },
     "metadata": {},
     "output_type": "display_data"
    }
   ],
   "source": [
    "# Next we count the amount of each type\n",
    "wines_count <-\n",
    "    alcohol_data %>% \n",
    "    count(type)\n",
    "print(\"Figure 4: Number of data points for red and white wine\")\n",
    "wines_count"
   ]
  },
  {
   "cell_type": "code",
   "execution_count": 21,
   "id": "a455bea5-0ddb-4986-917e-8d167dac249d",
   "metadata": {},
   "outputs": [
    {
     "data": {
      "text/html": [
       "<table class=\"dataframe\">\n",
       "<caption>A infer: 1 × 1</caption>\n",
       "<thead>\n",
       "\t<tr><th scope=col>stat</th></tr>\n",
       "\t<tr><th scope=col>&lt;dbl&gt;</th></tr>\n",
       "</thead>\n",
       "<tbody>\n",
       "\t<tr><td>-0.09128393</td></tr>\n",
       "</tbody>\n",
       "</table>\n"
      ],
      "text/latex": [
       "A infer: 1 × 1\n",
       "\\begin{tabular}{l}\n",
       " stat\\\\\n",
       " <dbl>\\\\\n",
       "\\hline\n",
       "\t -0.09128393\\\\\n",
       "\\end{tabular}\n"
      ],
      "text/markdown": [
       "\n",
       "A infer: 1 × 1\n",
       "\n",
       "| stat &lt;dbl&gt; |\n",
       "|---|\n",
       "| -0.09128393 |\n",
       "\n"
      ],
      "text/plain": [
       "  stat       \n",
       "1 -0.09128393"
      ]
     },
     "metadata": {},
     "output_type": "display_data"
    }
   ],
   "source": [
    "# Next we calculate the observed test statistic using the inferpackage\n",
    "obs_diff_in_means <- \n",
    "    alcohol_data  %>% \n",
    "    specify(formula = alcohol ~ type) %>%\n",
    "    calculate(stat = \"diff in means\", order = c(\"red\", \"white\"))\n",
    "obs_diff_in_means"
   ]
  },
  {
   "cell_type": "code",
   "execution_count": 23,
   "id": "cc73b9ad-eb6f-4541-a304-0916eb37c11c",
   "metadata": {},
   "outputs": [
    {
     "data": {
      "text/html": [
       "<table class=\"dataframe\">\n",
       "<caption>A infer: 6 × 2</caption>\n",
       "<thead>\n",
       "\t<tr><th scope=col>replicate</th><th scope=col>stat</th></tr>\n",
       "\t<tr><th scope=col>&lt;int&gt;</th><th scope=col>&lt;dbl&gt;</th></tr>\n",
       "</thead>\n",
       "<tbody>\n",
       "\t<tr><td>1</td><td> 0.01655833</td></tr>\n",
       "\t<tr><td>2</td><td> 0.01361893</td></tr>\n",
       "\t<tr><td>3</td><td> 0.02062868</td></tr>\n",
       "\t<tr><td>4</td><td> 0.06468639</td></tr>\n",
       "\t<tr><td>5</td><td>-0.05336770</td></tr>\n",
       "\t<tr><td>6</td><td> 0.03065248</td></tr>\n",
       "</tbody>\n",
       "</table>\n"
      ],
      "text/latex": [
       "A infer: 6 × 2\n",
       "\\begin{tabular}{ll}\n",
       " replicate & stat\\\\\n",
       " <int> & <dbl>\\\\\n",
       "\\hline\n",
       "\t 1 &  0.01655833\\\\\n",
       "\t 2 &  0.01361893\\\\\n",
       "\t 3 &  0.02062868\\\\\n",
       "\t 4 &  0.06468639\\\\\n",
       "\t 5 & -0.05336770\\\\\n",
       "\t 6 &  0.03065248\\\\\n",
       "\\end{tabular}\n"
      ],
      "text/markdown": [
       "\n",
       "A infer: 6 × 2\n",
       "\n",
       "| replicate &lt;int&gt; | stat &lt;dbl&gt; |\n",
       "|---|---|\n",
       "| 1 |  0.01655833 |\n",
       "| 2 |  0.01361893 |\n",
       "| 3 |  0.02062868 |\n",
       "| 4 |  0.06468639 |\n",
       "| 5 | -0.05336770 |\n",
       "| 6 |  0.03065248 |\n",
       "\n"
      ],
      "text/plain": [
       "  replicate stat       \n",
       "1 1          0.01655833\n",
       "2 2          0.01361893\n",
       "3 3          0.02062868\n",
       "4 4          0.06468639\n",
       "5 5         -0.05336770\n",
       "6 6          0.03065248"
      ]
     },
     "metadata": {},
     "output_type": "display_data"
    }
   ],
   "source": [
    "set.seed(1234)\n",
    "\n",
    "# We generate 1000 samples from the null distribution\n",
    "null_diff_in_means <- \n",
    "    alcohol_data %>% \n",
    "    specify(formula = alcohol ~ type) %>%\n",
    "    hypothesize(null = \"independence\") %>% \n",
    "    generate(reps = 1000, type = \"permute\")  %>%\n",
    "    calculate(stat = \"diff in means\", order = c(\"red\", \"white\"))\n",
    "head(null_diff_in_means)"
   ]
  },
  {
   "cell_type": "code",
   "execution_count": 61,
   "id": "aff7c603-3c73-40af-96bf-f3206d63fd8a",
   "metadata": {},
   "outputs": [
    {
     "name": "stdout",
     "output_type": "stream",
     "text": [
      "[1] \"Figure 5: Results of hypothesis test with test-statistic shown\"\n"
     ]
    },
    {
     "data": {
      "image/png": "[encoded data removed]",
      "text/plain": [
       "plot without title"
      ]
     },
     "metadata": {
      "image/png": {
       "height": 480,
       "width": 480
      }
     },
     "output_type": "display_data"
    }
   ],
   "source": [
    "options(repr.plot.width = 8, repr.plot.height = 8)\n",
    "\n",
    "# Plot results of hypothesis test and observe the test-statistic using the vertical bar \n",
    "diff_in_means_plot <-\n",
    "    visualize(null_diff_in_means, bins = 10) + \n",
    "    shade_p_value(obs_stat = obs_diff_in_means, direction = \"both\") +\n",
    "    xlab(\"Difference in means\") +\n",
    "    theme(text = element_text(size = 20))\n",
    "print(\"Figure 5: Results of hypothesis test with test-statistic shown\")\n",
    "diff_in_means_plot"
   ]
  },
  {
   "cell_type": "markdown",
   "id": "1d16c6a5-6748-44bc-910a-cc37a5a3f118",
   "metadata": {},
   "source": [
    "The above distribution shows the null distribution of the difference in means and where the test statistic lies. This distribution makes our analysis stronger since there is hardly any shaded region, suggesting that the likelihood of the null hypothesis being true is quite small. If the null hypothesis was true, the shaded area would be much larger. \n",
    "\n",
    "In the next step we find the p-value "
   ]
  },
  {
   "cell_type": "code",
   "execution_count": 32,
   "id": "3880d47e-733c-4d84-9999-0cea2ffddb18",
   "metadata": {},
   "outputs": [
    {
     "data": {
      "text/html": [
       "<table class=\"dataframe\">\n",
       "<caption>A tibble: 1 × 1</caption>\n",
       "<thead>\n",
       "\t<tr><th scope=col>p_value</th></tr>\n",
       "\t<tr><th scope=col>&lt;dbl&gt;</th></tr>\n",
       "</thead>\n",
       "<tbody>\n",
       "\t<tr><td>0.006</td></tr>\n",
       "</tbody>\n",
       "</table>\n"
      ],
      "text/latex": [
       "A tibble: 1 × 1\n",
       "\\begin{tabular}{l}\n",
       " p\\_value\\\\\n",
       " <dbl>\\\\\n",
       "\\hline\n",
       "\t 0.006\\\\\n",
       "\\end{tabular}\n"
      ],
      "text/markdown": [
       "\n",
       "A tibble: 1 × 1\n",
       "\n",
       "| p_value &lt;dbl&gt; |\n",
       "|---|\n",
       "| 0.006 |\n",
       "\n"
      ],
      "text/plain": [
       "  p_value\n",
       "1 0.006  "
      ]
     },
     "metadata": {},
     "output_type": "display_data"
    }
   ],
   "source": [
    "# Finding the p-value\n",
    "p_value <-\n",
    "    null_diff_in_means %>% \n",
    "    get_p_value(obs_stat =  obs_diff_in_means, direction = \"both\")\n",
    "p_value"
   ]
  },
  {
   "cell_type": "markdown",
   "id": "a454a922-270f-4317-bc5d-1ecff0d6d0a4",
   "metadata": {},
   "source": [
    "The obtained p-value is 0.006. At 5% significance level(0.05),the null hypothesis is rejected since the observed p-value is less than the significance level. Based on the hypothesis test, we are 95% confident that the alcohol content of white wine is not equal to the alcohol content of red wine. Based on previous calculations an estimate is created that white wine would have a higher mean alcohol content of 10.429(vol.%) as compared to red wine that has a mean alcohol content of 10.277(vol.%). \n"
   ]
  },
  {
   "cell_type": "markdown",
   "id": "b3ed9627-16dd-48ca-8c4c-85954d272b82",
   "metadata": {},
   "source": [
    "### 95% Confidence Interval for difference in means \n",
    "\n",
    "For this, we would be finding the 95% confidence interval for the difference in means to check whether the observed value of difference in means i.e -0.0912 lies within the bounds of the interval. "
   ]
  },
  {
   "cell_type": "code",
   "execution_count": 33,
   "id": "a326e3e6-09e3-4c97-b136-10065707179b",
   "metadata": {},
   "outputs": [
    {
     "data": {
      "text/html": [
       "<table class=\"dataframe\">\n",
       "<caption>A infer: 6 × 2</caption>\n",
       "<thead>\n",
       "\t<tr><th scope=col>replicate</th><th scope=col>stat</th></tr>\n",
       "\t<tr><th scope=col>&lt;int&gt;</th><th scope=col>&lt;dbl&gt;</th></tr>\n",
       "</thead>\n",
       "<tbody>\n",
       "\t<tr><td>1</td><td>-0.10710693</td></tr>\n",
       "\t<tr><td>2</td><td>-0.08261224</td></tr>\n",
       "\t<tr><td>3</td><td>-0.07735657</td></tr>\n",
       "\t<tr><td>4</td><td>-0.14462761</td></tr>\n",
       "\t<tr><td>5</td><td>-0.07860291</td></tr>\n",
       "\t<tr><td>6</td><td>-0.10362998</td></tr>\n",
       "</tbody>\n",
       "</table>\n"
      ],
      "text/latex": [
       "A infer: 6 × 2\n",
       "\\begin{tabular}{ll}\n",
       " replicate & stat\\\\\n",
       " <int> & <dbl>\\\\\n",
       "\\hline\n",
       "\t 1 & -0.10710693\\\\\n",
       "\t 2 & -0.08261224\\\\\n",
       "\t 3 & -0.07735657\\\\\n",
       "\t 4 & -0.14462761\\\\\n",
       "\t 5 & -0.07860291\\\\\n",
       "\t 6 & -0.10362998\\\\\n",
       "\\end{tabular}\n"
      ],
      "text/markdown": [
       "\n",
       "A infer: 6 × 2\n",
       "\n",
       "| replicate &lt;int&gt; | stat &lt;dbl&gt; |\n",
       "|---|---|\n",
       "| 1 | -0.10710693 |\n",
       "| 2 | -0.08261224 |\n",
       "| 3 | -0.07735657 |\n",
       "| 4 | -0.14462761 |\n",
       "| 5 | -0.07860291 |\n",
       "| 6 | -0.10362998 |\n",
       "\n"
      ],
      "text/plain": [
       "  replicate stat       \n",
       "1 1         -0.10710693\n",
       "2 2         -0.08261224\n",
       "3 3         -0.07735657\n",
       "4 4         -0.14462761\n",
       "5 5         -0.07860291\n",
       "6 6         -0.10362998"
      ]
     },
     "metadata": {},
     "output_type": "display_data"
    }
   ],
   "source": [
    "# Finding bootstrap distribution for the difference in means \n",
    "diff_in_means_bootstrap_dist <- \n",
    "    alcohol_data %>%\n",
    "    specify(formula = alcohol ~ type) %>%\n",
    "    generate(reps = 1000, type = \"bootstrap\") %>%\n",
    "    calculate(stat = \"diff in means\", order = c(\"red\", \"white\"))  \n",
    "head(diff_in_means_bootstrap_dist)"
   ]
  },
  {
   "cell_type": "code",
   "execution_count": 34,
   "id": "fd1e400f-e157-42ad-85b0-6c02845551c9",
   "metadata": {},
   "outputs": [
    {
     "name": "stdout",
     "output_type": "stream",
     "text": [
      "[1] \"For the 95% confidence interval:\"\n"
     ]
    },
    {
     "data": {
      "text/html": [
       "<table class=\"dataframe\">\n",
       "<caption>A tibble: 1 × 2</caption>\n",
       "<thead>\n",
       "\t<tr><th scope=col>lower_ci</th><th scope=col>upper_ci</th></tr>\n",
       "\t<tr><th scope=col>&lt;dbl&gt;</th><th scope=col>&lt;dbl&gt;</th></tr>\n",
       "</thead>\n",
       "<tbody>\n",
       "\t<tr><td>-0.1510787</td><td>-0.02972907</td></tr>\n",
       "</tbody>\n",
       "</table>\n"
      ],
      "text/latex": [
       "A tibble: 1 × 2\n",
       "\\begin{tabular}{ll}\n",
       " lower\\_ci & upper\\_ci\\\\\n",
       " <dbl> & <dbl>\\\\\n",
       "\\hline\n",
       "\t -0.1510787 & -0.02972907\\\\\n",
       "\\end{tabular}\n"
      ],
      "text/markdown": [
       "\n",
       "A tibble: 1 × 2\n",
       "\n",
       "| lower_ci &lt;dbl&gt; | upper_ci &lt;dbl&gt; |\n",
       "|---|---|\n",
       "| -0.1510787 | -0.02972907 |\n",
       "\n"
      ],
      "text/plain": [
       "  lower_ci   upper_ci   \n",
       "1 -0.1510787 -0.02972907"
      ]
     },
     "metadata": {},
     "output_type": "display_data"
    }
   ],
   "source": [
    "# Finding the 95% confidence interval\n",
    "diff_in_means_ci <- \n",
    "    diff_in_means_bootstrap_dist %>% \n",
    "    get_confidence_interval(level = 0.95, type = \"percentile\")\n",
    "print(\"For the 95% confidence interval:\")\n",
    "diff_in_means_ci"
   ]
  },
  {
   "cell_type": "markdown",
   "id": "71d3a7c9-3e52-406c-bf00-9faf0812983e",
   "metadata": {},
   "source": [
    "<b>Lower Bound : -0.1514</b>\n",
    "\n",
    "<b>Upper Bound : -0.0291</b>"
   ]
  },
  {
   "cell_type": "code",
   "execution_count": 36,
   "id": "de31c892-2447-4fa8-b244-a30d5490d58a",
   "metadata": {},
   "outputs": [
    {
     "name": "stdout",
     "output_type": "stream",
     "text": [
      "[1] \"Figure 6: Distribution of the differnce in means with 95% CI shaded\"\n"
     ]
    },
    {
     "data": {
      "image/png": "[encoded data removed]",
      "text/plain": [
       "plot without title"
      ]
     },
     "metadata": {
      "image/png": {
       "height": 480,
       "width": 480
      }
     },
     "output_type": "display_data"
    }
   ],
   "source": [
    "options(repr.plot.width = 8, repr.plot.height = 8)\n",
    "# Plotting the difference in means\n",
    "diff_in_means_ci_plot <-\n",
    "    visualize(diff_in_means_bootstrap_dist) + \n",
    "    shade_confidence_interval(endpoints = diff_in_means_ci) + \n",
    "    theme(text = element_text(size = 20)) + \n",
    "    xlab(\"Difference in Means\")\n",
    "print(\"Figure 6: Distribution of the differnce in means with 95% CI shaded\")\n",
    "diff_in_means_ci_plot"
   ]
  },
  {
   "cell_type": "markdown",
   "id": "701986f6-94ef-43a8-a2c2-f78997f94710",
   "metadata": {},
   "source": [
    "From the distribution, it can be concluded that observed value of difference in means i.e -0.09128 is contained inside the confidence interval. This means that if we keep on taking repeated samples, we are 95% confident that the observed value would lie inside the confidence interval."
   ]
  },
  {
   "cell_type": "markdown",
   "id": "37ab7c6b-9232-42cd-a12d-8caaacbb4bb6",
   "metadata": {
    "tags": []
   },
   "source": [
    "# References\n",
    "Zhang, Qing-An, et al. “Preliminary Study of the Effect of Ultrasound on Physicochemical Properties of Red Wine.” CyTA - Journal of Food, vol. 14, no. 1, 2015, pp. 55–64., https://doi.org/10.1080/19476337.2015.1045036.\n",
    "\n",
    "P. Cortez, A. Cerdeira, F. Almeida, T. Matos and J. Reis. Modeling wine preferences by data mining from physicochemical properties. In Decision Support Systems, Elsevier, 47(4):547-553, 2009."
   ]
  }
 ],
 "metadata": {
  "kernelspec": {
   "display_name": "R",
   "language": "R",
   "name": "ir"
  },
  "language_info": {
   "codemirror_mode": "r",
   "file_extension": ".r",
   "mimetype": "text/x-r-source",
   "name": "R",
   "pygments_lexer": "r",
   "version": "4.1.2"
  }
 },
 "nbformat": 4,
 "nbformat_minor": 5
}
