{
 "cells": [
  {
   "cell_type": "markdown",
   "id": "d044236b-ceff-4dd9-8740-333f0c213f24",
   "metadata": {
    "tags": []
   },
   "source": [
    "# Comparing Alcohol Content in Red and White Wines"
   ]
  },
  {
   "cell_type": "markdown",
   "id": "963cf8a2-3894-45d7-9549-067fcda5e48d",
   "metadata": {},
   "source": [
    "#### By: Jaskaran Singh, Justin Wong, Matthew Gillies, Shehab Khan"
   ]
  },
  {
   "cell_type": "markdown",
   "id": "935dc1c2-0952-4bb8-b46e-d330a2399583",
   "metadata": {},
   "source": [
    "Wine Quality Data Set:\n",
    "https://archive.ics.uci.edu/ml/datasets/Wine+Quality"
   ]
  },
  {
   "cell_type": "markdown",
   "id": "816dd235-b45b-4890-b1b1-150a0bcf2bb9",
   "metadata": {},
   "source": [
    "# Introduction"
   ]
  },
  {
   "cell_type": "markdown",
   "id": "16d663ff-399d-4e0b-9f60-daecff9b48cd",
   "metadata": {},
   "source": [
    "#### Introduction and Significance\n",
    "For those who drink wine, knowing the alcohol content of the wine is often very important to them. The alcohol content of both red and white wines is a point of interest for both consumers and producers. \n",
    "\n",
    "For the consumer, alcohol equivalence can factor in purchasing decisions, especially with the type of liquor, brand, and the moderation in which the liquor is consumed. On the other hand, suppliers must maintain a consistent alcohol significance as several jurisdictions require a precise alcohol percentage listed on wine labels (The Nutrition Source, 2012). Furthermore, long-term cooperage can cause changing alcohol concentration levels, and it is thus essential that manufacturers predict and confirm the changing alcohol equivalencies and are precise to the listing on the wine label for utmost quality and satisfaction (The Nutrition Source, 2012). Additionally, the ethanol carries the scent that can differentiate different wines, and the alcohol equivalency is critical with this, too, meaning that differing alcohol percentages can change the taste and smell of the liquor (P. Cortez, n.d.). \n",
    "\n",
    "Evidently, the alcohol content of wine is a crucial factor for both sides of the business and can detail a lot about the quality of the wine. It is thus imperative that these measurements are accurate, and as such, it has prompted the following study.\n",
    "\n",
    "#### This study\n",
    "This study compares the mean alcohol content of wines from red and white wine datasets. The first data set contains 1599 red wines with data on their composition and quality. The other data set includes 4898 white wines with data on their composition and quality. These datasets will help to correlate the composition and quality of the two different types of wines from various data points. A hypothesis test will be performed comparing the mean alcohol content of the two types of wine, and a confidence interval of the difference in means of alcohol content in the two types of wine (red and white) will be obtained. Another aspect of this report will be to estimate this confidence interval using asymptotics and bootstrapping and comparing the two techniques. Along with this, the quantiles for the alcohol concentration in red and white wine will be analyzed.\n",
    "\n",
    "\n",
    "### Attribute Information \n",
    "- `fixed acidity` - Primary fixed acids found in wine such as tartaric and malic acid. \n",
    "- `volatile acidity` - It is the gaseous acids present in the wine \n",
    "- `citric acid` - It is a weak organic fluid, found in citrus fruits naturally\n",
    "- `residual sugar` - Amount of sugar left after fermentation \n",
    "- `chlorides` - Amount of salt present in wine \n",
    "- `free sulfur dioxide` - So2 is used for prevention of wine by oxidation and microbial spoilage \n",
    "- `total sulfur dioxide`\n",
    "- `density` - The density of the wine \n",
    "- `pH` - Used for checking the amount of acidity \n",
    "- `sulphates` - Additional sulfites preserve the freshness and protects the wine from oxidation and bacteria \n",
    "- `alcohol` - Percent of alcohol present in the wine\n",
    "- `quality` - Output variable \n",
    "\n"
   ]
  },
  {
   "cell_type": "markdown",
   "id": "5da4893a-8ee2-4958-a8fc-3ac13d81a371",
   "metadata": {},
   "source": [
    "# Methods and Results\n",
    "## Preliminary Results"
   ]
  },
  {
   "cell_type": "code",
   "execution_count": 62,
   "id": "be3bd660-7d27-49bc-9224-91beee1314bc",
   "metadata": {},
   "outputs": [],
   "source": [
    "# The packages required for the analysis of this project \n",
    "\n",
    "suppressPackageStartupMessages({\n",
    "library(cowplot)\n",
    "library(digest)\n",
    "library(gridExtra)\n",
    "library(repr)\n",
    "library(tidyverse)\n",
    "library(tidymodels)\n",
    "library(GGally)\n",
    "library(infer)\n",
    "library(knitr)\n",
    "})\n"
   ]
  },
  {
   "cell_type": "code",
   "execution_count": 98,
   "id": "7d217eff-9f52-4f22-834b-2bb2ef83353e",
   "metadata": {},
   "outputs": [
    {
     "name": "stdout",
     "output_type": "stream",
     "text": [
      "Table 1: Initial Wine Combined Data"
     ]
    },
    {
     "data": {
      "text/html": [
       "<table class=\"dataframe\">\n",
       "<caption>A data.frame: 6 × 13</caption>\n",
       "<thead>\n",
       "\t<tr><th></th><th scope=col>fixed.acidity</th><th scope=col>volatile.acidity</th><th scope=col>citric.acid</th><th scope=col>residual.sugar</th><th scope=col>chlorides</th><th scope=col>free.sulfur.dioxide</th><th scope=col>total.sulfur.dioxide</th><th scope=col>density</th><th scope=col>pH</th><th scope=col>sulphates</th><th scope=col>alcohol</th><th scope=col>quality</th><th scope=col>type</th></tr>\n",
       "\t<tr><th></th><th scope=col>&lt;dbl&gt;</th><th scope=col>&lt;dbl&gt;</th><th scope=col>&lt;dbl&gt;</th><th scope=col>&lt;dbl&gt;</th><th scope=col>&lt;dbl&gt;</th><th scope=col>&lt;dbl&gt;</th><th scope=col>&lt;dbl&gt;</th><th scope=col>&lt;dbl&gt;</th><th scope=col>&lt;dbl&gt;</th><th scope=col>&lt;dbl&gt;</th><th scope=col>&lt;dbl&gt;</th><th scope=col>&lt;dbl&gt;</th><th scope=col>&lt;chr&gt;</th></tr>\n",
       "</thead>\n",
       "<tbody>\n",
       "\t<tr><th scope=row>1</th><td> 7.4</td><td>0.70</td><td>0.00</td><td>1.9</td><td>0.076</td><td>11</td><td>34</td><td>0.9978</td><td>3.51</td><td>0.56</td><td>9.4</td><td>5</td><td>red</td></tr>\n",
       "\t<tr><th scope=row>2</th><td> 7.8</td><td>0.88</td><td>0.00</td><td>2.6</td><td>0.098</td><td>25</td><td>67</td><td>0.9968</td><td>3.20</td><td>0.68</td><td>9.8</td><td>5</td><td>red</td></tr>\n",
       "\t<tr><th scope=row>3</th><td> 7.8</td><td>0.76</td><td>0.04</td><td>2.3</td><td>0.092</td><td>15</td><td>54</td><td>0.9970</td><td>3.26</td><td>0.65</td><td>9.8</td><td>5</td><td>red</td></tr>\n",
       "\t<tr><th scope=row>4</th><td>11.2</td><td>0.28</td><td>0.56</td><td>1.9</td><td>0.075</td><td>17</td><td>60</td><td>0.9980</td><td>3.16</td><td>0.58</td><td>9.8</td><td>6</td><td>red</td></tr>\n",
       "\t<tr><th scope=row>5</th><td> 7.4</td><td>0.70</td><td>0.00</td><td>1.9</td><td>0.076</td><td>11</td><td>34</td><td>0.9978</td><td>3.51</td><td>0.56</td><td>9.4</td><td>5</td><td>red</td></tr>\n",
       "\t<tr><th scope=row>6</th><td> 7.4</td><td>0.66</td><td>0.00</td><td>1.8</td><td>0.075</td><td>13</td><td>40</td><td>0.9978</td><td>3.51</td><td>0.56</td><td>9.4</td><td>5</td><td>red</td></tr>\n",
       "</tbody>\n",
       "</table>\n"
      ],
      "text/latex": [
       "A data.frame: 6 × 13\n",
       "\\begin{tabular}{r|lllllllllllll}\n",
       "  & fixed.acidity & volatile.acidity & citric.acid & residual.sugar & chlorides & free.sulfur.dioxide & total.sulfur.dioxide & density & pH & sulphates & alcohol & quality & type\\\\\n",
       "  & <dbl> & <dbl> & <dbl> & <dbl> & <dbl> & <dbl> & <dbl> & <dbl> & <dbl> & <dbl> & <dbl> & <dbl> & <chr>\\\\\n",
       "\\hline\n",
       "\t1 &  7.4 & 0.70 & 0.00 & 1.9 & 0.076 & 11 & 34 & 0.9978 & 3.51 & 0.56 & 9.4 & 5 & red\\\\\n",
       "\t2 &  7.8 & 0.88 & 0.00 & 2.6 & 0.098 & 25 & 67 & 0.9968 & 3.20 & 0.68 & 9.8 & 5 & red\\\\\n",
       "\t3 &  7.8 & 0.76 & 0.04 & 2.3 & 0.092 & 15 & 54 & 0.9970 & 3.26 & 0.65 & 9.8 & 5 & red\\\\\n",
       "\t4 & 11.2 & 0.28 & 0.56 & 1.9 & 0.075 & 17 & 60 & 0.9980 & 3.16 & 0.58 & 9.8 & 6 & red\\\\\n",
       "\t5 &  7.4 & 0.70 & 0.00 & 1.9 & 0.076 & 11 & 34 & 0.9978 & 3.51 & 0.56 & 9.4 & 5 & red\\\\\n",
       "\t6 &  7.4 & 0.66 & 0.00 & 1.8 & 0.075 & 13 & 40 & 0.9978 & 3.51 & 0.56 & 9.4 & 5 & red\\\\\n",
       "\\end{tabular}\n"
      ],
      "text/markdown": [
       "\n",
       "A data.frame: 6 × 13\n",
       "\n",
       "| <!--/--> | fixed.acidity &lt;dbl&gt; | volatile.acidity &lt;dbl&gt; | citric.acid &lt;dbl&gt; | residual.sugar &lt;dbl&gt; | chlorides &lt;dbl&gt; | free.sulfur.dioxide &lt;dbl&gt; | total.sulfur.dioxide &lt;dbl&gt; | density &lt;dbl&gt; | pH &lt;dbl&gt; | sulphates &lt;dbl&gt; | alcohol &lt;dbl&gt; | quality &lt;dbl&gt; | type &lt;chr&gt; |\n",
       "|---|---|---|---|---|---|---|---|---|---|---|---|---|---|\n",
       "| 1 |  7.4 | 0.70 | 0.00 | 1.9 | 0.076 | 11 | 34 | 0.9978 | 3.51 | 0.56 | 9.4 | 5 | red |\n",
       "| 2 |  7.8 | 0.88 | 0.00 | 2.6 | 0.098 | 25 | 67 | 0.9968 | 3.20 | 0.68 | 9.8 | 5 | red |\n",
       "| 3 |  7.8 | 0.76 | 0.04 | 2.3 | 0.092 | 15 | 54 | 0.9970 | 3.26 | 0.65 | 9.8 | 5 | red |\n",
       "| 4 | 11.2 | 0.28 | 0.56 | 1.9 | 0.075 | 17 | 60 | 0.9980 | 3.16 | 0.58 | 9.8 | 6 | red |\n",
       "| 5 |  7.4 | 0.70 | 0.00 | 1.9 | 0.076 | 11 | 34 | 0.9978 | 3.51 | 0.56 | 9.4 | 5 | red |\n",
       "| 6 |  7.4 | 0.66 | 0.00 | 1.8 | 0.075 | 13 | 40 | 0.9978 | 3.51 | 0.56 | 9.4 | 5 | red |\n",
       "\n"
      ],
      "text/plain": [
       "  fixed.acidity volatile.acidity citric.acid residual.sugar chlorides\n",
       "1  7.4          0.70             0.00        1.9            0.076    \n",
       "2  7.8          0.88             0.00        2.6            0.098    \n",
       "3  7.8          0.76             0.04        2.3            0.092    \n",
       "4 11.2          0.28             0.56        1.9            0.075    \n",
       "5  7.4          0.70             0.00        1.9            0.076    \n",
       "6  7.4          0.66             0.00        1.8            0.075    \n",
       "  free.sulfur.dioxide total.sulfur.dioxide density pH   sulphates alcohol\n",
       "1 11                  34                   0.9978  3.51 0.56      9.4    \n",
       "2 25                  67                   0.9968  3.20 0.68      9.8    \n",
       "3 15                  54                   0.9970  3.26 0.65      9.8    \n",
       "4 17                  60                   0.9980  3.16 0.58      9.8    \n",
       "5 11                  34                   0.9978  3.51 0.56      9.4    \n",
       "6 13                  40                   0.9978  3.51 0.56      9.4    \n",
       "  quality type\n",
       "1 5       red \n",
       "2 5       red \n",
       "3 5       red \n",
       "4 6       red \n",
       "5 5       red \n",
       "6 5       red "
      ]
     },
     "metadata": {},
     "output_type": "display_data"
    }
   ],
   "source": [
    "# Read the two datasets (red wine and white wine csv) into jupyter notebook\n",
    "\n",
    "wine_quality_red <- read_delim('winequality-red.csv', show_col_types = FALSE)\n",
    "names(wine_quality_red) <- make.names(names(wine_quality_red), unique = TRUE)\n",
    "\n",
    "\n",
    "wine_quality_white <- read_delim('winequality-white.csv', show_col_types = FALSE)\n",
    "names(wine_quality_white) <- make.names(names(wine_quality_white), unique = TRUE)\n",
    "\n",
    "\n",
    "# Combine the columns of the two datasets and specifying the type.\n",
    "\n",
    "wine_quality_red <- cbind(wine_quality_red, type = \"red\")\n",
    "wine_quality_white <- cbind(wine_quality_white, type = \"white\")\n",
    "\n",
    "# Combine the rows of the two datasets based on the type of wine (red and white).\n",
    "\n",
    "combined_data <- rbind(wine_quality_red, wine_quality_white)  \n",
    "cat(\"Table 1: Initial Wine Combined Data\")\n",
    "head(combined_data) "
   ]
  },
  {
   "cell_type": "markdown",
   "id": "04f385ba-659e-4caa-a7c7-5d165d6aee3a",
   "metadata": {},
   "source": [
    "### Observed means for alcohol content in red and white wine\n",
    "A random sample of size 100 was taken from each dataset and the mean alcohol content was estimated for both red and white wine."
   ]
  },
  {
   "cell_type": "code",
   "execution_count": 99,
   "id": "456fb8f7-e46e-4e88-b333-a1c12ab323ab",
   "metadata": {},
   "outputs": [
    {
     "name": "stderr",
     "output_type": "stream",
     "text": [
      "Adding missing grouping variables: `replicate`\n",
      "\n",
      "Adding missing grouping variables: `replicate`\n",
      "\n"
     ]
    },
    {
     "name": "stdout",
     "output_type": "stream",
     "text": [
      "\u001b[1mMean of alcohol content from red wine sample:\u001b[22m"
     ]
    },
    {
     "data": {
      "text/html": [
       "10.2775"
      ],
      "text/latex": [
       "10.2775"
      ],
      "text/markdown": [
       "10.2775"
      ],
      "text/plain": [
       "[1] 10.2775"
      ]
     },
     "metadata": {},
     "output_type": "display_data"
    },
    {
     "name": "stdout",
     "output_type": "stream",
     "text": [
      "\u001b[1mMean of alcohol content from white wine sample:\u001b[22m"
     ]
    },
    {
     "data": {
      "text/html": [
       "10.429"
      ],
      "text/latex": [
       "10.429"
      ],
      "text/markdown": [
       "10.429"
      ],
      "text/plain": [
       "[1] 10.429"
      ]
     },
     "metadata": {},
     "output_type": "display_data"
    }
   ],
   "source": [
    "set.seed(4242)\n",
    "\n",
    "#Taking a sample of size 100 from the dataset\n",
    "\n",
    "#red wine sample\n",
    "alcohol_red_sample <- wine_quality_red %>% \n",
    "    rep_sample_n(size = 100, replace = FALSE) %>% \n",
    "    select(alcohol)\n",
    "\n",
    "#white wine sample\n",
    "alcohol_white_sample <- wine_quality_white %>% \n",
    "     rep_sample_n(size = 100, replace = FALSE) %>% \n",
    "     select(alcohol)\n",
    "\n",
    "\n",
    "#Calculate the mean of alcohol content from the red wine sample \n",
    "observed_alc_red_mean <- alcohol_red_sample %>% \n",
    "    specify(response = alcohol) %>% \n",
    "    calculate(stat = \"mean\")\n",
    "\n",
    "#Calculate the mean of alcohol content from the white wine sample\n",
    "observed_alc_white_mean <- alcohol_white_sample %>% \n",
    "    specify(response = alcohol) %>% \n",
    "    calculate(stat = \"mean\")\n",
    "\n",
    "cat(crayon::bold(\"Mean of alcohol content from red wine sample:\"))\n",
    "pull(observed_alc_red_mean)\n",
    "cat(crayon::bold(\"Mean of alcohol content from white wine sample:\"))\n",
    "pull(observed_alc_white_mean)\n",
    "\n"
   ]
  },
  {
   "cell_type": "markdown",
   "id": "dac34400-5a2f-4203-9a58-0b6f99eb645a",
   "metadata": {},
   "source": [
    "It can be estimated that the mean alcohol content in red wine is 10.2775 (vol.%) and the mean alcohol content in white wine is 10.429 (vol.%)"
   ]
  },
  {
   "cell_type": "markdown",
   "id": "09465a4b-fe61-4502-b0e9-a53faaf3b601",
   "metadata": {},
   "source": [
    "### Investigation on Quantiles for the alcohol content in red and white wine "
   ]
  },
  {
   "cell_type": "code",
   "execution_count": 100,
   "id": "8dacd9ef-8091-4529-9117-d614bbbe01d5",
   "metadata": {},
   "outputs": [],
   "source": [
    "## Take a sample from the datasets and select the variable of interest (alcohol)\n",
    "\n",
    "# sample from the red wine dataset\n",
    "sample_red <- wine_quality_red%>%\n",
    "    rep_sample_n(reps = 1, size = 200, replace = FALSE) %>%\n",
    "    ungroup() %>%\n",
    "    select(alcohol)\n",
    "\n",
    "# sample from the white wine dataset\n",
    "sample_white <- wine_quality_white %>%\n",
    "    rep_sample_n(reps = 1, size = 200, replace = FALSE) %>%\n",
    "    ungroup() %>%\n",
    "    select(alcohol)\n"
   ]
  },
  {
   "cell_type": "code",
   "execution_count": 104,
   "id": "4bf2e726-ccf6-4a24-9dcf-8d1a36f1704d",
   "metadata": {
    "scrolled": true
   },
   "outputs": [
    {
     "name": "stdout",
     "output_type": "stream",
     "text": [
      "\u001b[1m0.25th quantile for Red Wine:\u001b[22m"
     ]
    },
    {
     "data": {
      "text/html": [
       "<strong>25%:</strong> 9.5"
      ],
      "text/latex": [
       "\\textbf{25\\textbackslash{}\\%:} 9.5"
      ],
      "text/markdown": [
       "**25%:** 9.5"
      ],
      "text/plain": [
       "25% \n",
       "9.5 "
      ]
     },
     "metadata": {},
     "output_type": "display_data"
    },
    {
     "name": "stdout",
     "output_type": "stream",
     "text": [
      "\u001b[1m0.75th quantile for Red Wine:\u001b[22m"
     ]
    },
    {
     "data": {
      "text/html": [
       "<strong>75%:</strong> 11"
      ],
      "text/latex": [
       "\\textbf{75\\textbackslash{}\\%:} 11"
      ],
      "text/markdown": [
       "**75%:** 11"
      ],
      "text/plain": [
       "75% \n",
       " 11 "
      ]
     },
     "metadata": {},
     "output_type": "display_data"
    },
    {
     "name": "stdout",
     "output_type": "stream",
     "text": [
      "\u001b[1mDifference of Upper and Lower Quantile for Red Wine:\u001b[22m"
     ]
    },
    {
     "data": {
      "text/html": [
       "1.5"
      ],
      "text/latex": [
       "1.5"
      ],
      "text/markdown": [
       "1.5"
      ],
      "text/plain": [
       "[1] 1.5"
      ]
     },
     "metadata": {},
     "output_type": "display_data"
    },
    {
     "name": "stdout",
     "output_type": "stream",
     "text": [
      "\u001b[1m0.25th quantile for White Wine:\u001b[22m"
     ]
    },
    {
     "data": {
      "text/html": [
       "<strong>25%:</strong> 9.4"
      ],
      "text/latex": [
       "\\textbf{25\\textbackslash{}\\%:} 9.4"
      ],
      "text/markdown": [
       "**25%:** 9.4"
      ],
      "text/plain": [
       "25% \n",
       "9.4 "
      ]
     },
     "metadata": {},
     "output_type": "display_data"
    },
    {
     "name": "stdout",
     "output_type": "stream",
     "text": [
      "\u001b[1m0.75th quantile for White Wine:\u001b[22m"
     ]
    },
    {
     "data": {
      "text/html": [
       "<strong>75%:</strong> 11.325"
      ],
      "text/latex": [
       "\\textbf{75\\textbackslash{}\\%:} 11.325"
      ],
      "text/markdown": [
       "**75%:** 11.325"
      ],
      "text/plain": [
       "   75% \n",
       "11.325 "
      ]
     },
     "metadata": {},
     "output_type": "display_data"
    },
    {
     "name": "stdout",
     "output_type": "stream",
     "text": [
      "\u001b[1mDifference of Upper and Lower Quantile for White Wine:\u001b[22m"
     ]
    },
    {
     "data": {
      "text/html": [
       "1.925"
      ],
      "text/latex": [
       "1.925"
      ],
      "text/markdown": [
       "1.925"
      ],
      "text/plain": [
       "[1] 1.925"
      ]
     },
     "metadata": {},
     "output_type": "display_data"
    }
   ],
   "source": [
    "## Calculate 0.25th and 0.75th quantiles\n",
    "\n",
    "#0.25th quantile for red wine \n",
    "lower_quantile <- sample_red %>%\n",
    "    pull(alcohol) %>%\n",
    "    quantile(0.25)\n",
    "\n",
    "#0.75th quantile for red wine\n",
    "upper_quantile <- sample_red %>%\n",
    "    pull(alcohol) %>%\n",
    "    quantile(0.75)\n",
    "\n",
    "#0.25th quantile for white wine \n",
    "lower_quantile_white <- sample_white %>%\n",
    "    pull(alcohol) %>%\n",
    "    quantile(0.25)\n",
    "\n",
    "#0.75th quantile for white wine \n",
    "upper_quantile_white <- sample_white %>%\n",
    "    pull(alcohol) %>%\n",
    "    quantile(0.75)\n",
    "\n",
    "# difference of upper and lower quantile for red wine \n",
    "iqr <- as.numeric(upper_quantile) - as.numeric(lower_quantile)\n",
    "\n",
    "#difference of upper and lower quantile for white wine \n",
    "iqr_white <- as.numeric(upper_quantile_white) - as.numeric(lower_quantile_white)\n",
    "\n",
    "\n",
    "cat(crayon::bold(\"0.25th quantile for Red Wine:\"))\n",
    "lower_quantile #0.25th quantile for red wine \n",
    "\n",
    "cat(crayon::bold(\"0.75th quantile for Red Wine:\"))\n",
    "upper_quantile #0.75th quantile for red wine\n",
    "\n",
    "cat(crayon::bold(\"Difference of Upper and Lower Quantile for Red Wine:\"))\n",
    "iqr # difference of upper and lower quantile for red wine \n",
    "\n",
    "cat(crayon::bold(\"0.25th quantile for White Wine:\"))\n",
    "lower_quantile_white #0.25th quantile for white wine \n",
    "\n",
    "cat(crayon::bold(\"0.75th quantile for White Wine:\"))\n",
    "upper_quantile_white #0.75th quantile for white wine \n",
    "\n",
    "cat(crayon::bold(\"Difference of Upper and Lower Quantile for White Wine:\"))\n",
    "iqr_white #difference of upper and lower quantile for white wine "
   ]
  },
  {
   "cell_type": "markdown",
   "id": "9619fa21-32bc-40fb-aa03-c5e2281ea154",
   "metadata": {},
   "source": [
    "Based on the quantiles produced above, it appears that the alcohol content in white wine is not equal to the alcohol content in red wine. "
   ]
  },
  {
   "cell_type": "code",
   "execution_count": 111,
   "id": "893b559a-ab71-48c4-a818-80af622a2b12",
   "metadata": {},
   "outputs": [
    {
     "name": "stdout",
     "output_type": "stream",
     "text": [
      "Figure 1: Sample Distributions of Red and White Wine Populations"
     ]
    },
    {
     "data": {
      "image/png": "[encoded data removed]",
      "text/plain": [
       "plot without title"
      ]
     },
     "metadata": {
      "image/png": {
       "height": 480,
       "width": 900
      }
     },
     "output_type": "display_data"
    }
   ],
   "source": [
    "options(repr.plot.width = 15, repr.plot.height = 8)\n",
    "## Plot the distribution of the sample with quantiles \n",
    "quantile_plot_red <- \n",
    "    sample_red %>% \n",
    "    ggplot(aes(x = alcohol)) +\n",
    "    theme_bw() +\n",
    "    geom_histogram(binwidth = 0.25, color = 'white') +\n",
    "    geom_vline(xintercept = lower_quantile, colour = \"red\", size = 1) +\n",
    "    geom_vline(xintercept = upper_quantile, colour = \"red\", size = 1) +\n",
    "    labs(title = \"Sample Distribution of red wine population (200 observations)\",\n",
    "         x = \"Alcohol Concentration\") +\n",
    "    theme(plot.title = element_text(size = 15)) +\n",
    "    theme(axis.title = element_text(size = 15))\n",
    "\n",
    "quantile_plot_white <- \n",
    "    sample_white %>% \n",
    "    ggplot(aes(x = alcohol)) +\n",
    "    theme_bw() +\n",
    "    geom_histogram(binwidth = 0.25, color = 'white') +\n",
    "    geom_vline(xintercept = lower_quantile_white, colour = \"red\", size = 1) +\n",
    "    geom_vline(xintercept = upper_quantile_white, colour = \"red\", size = 1) +\n",
    "    labs(title = \"Sample Distribution of white wine population (200 observations)\",\n",
    "         x = \"Alcohol Concentration\") +\n",
    "    theme(plot.title = element_text(size = 15)) +\n",
    "    theme(axis.title = element_text(size = 15))\n",
    "\n",
    "\n",
    "\n",
    "plots_row <- plot_grid(quantile_plot_red + \n",
    "                           theme(axis.text.x = element_text(angle = 90)),\n",
    "\n",
    "                           quantile_plot_white +  \n",
    "                           theme(axis.text.x = element_text(angle = 90)), \n",
    "                           ncol = 2)\n",
    "\n",
    "dist_grid <- plot_grid(plots_row, \n",
    "                        rel_heights = c(0.5, 1), rel_widths = c(2, 1))\n",
    "cat(\"Figure 1: Sample Distributions of Red and White Wine Populations\")\n",
    "dist_grid\n"
   ]
  },
  {
   "cell_type": "code",
   "execution_count": 105,
   "id": "3abba394",
   "metadata": {},
   "outputs": [
    {
     "name": "stdout",
     "output_type": "stream",
     "text": [
      "Figure 2: Boxplots for Sample Distribution Quantiles"
     ]
    },
    {
     "data": {
      "image/png": "[encoded data removed]",
      "text/plain": [
       "plot without title"
      ]
     },
     "metadata": {
      "image/png": {
       "height": 480,
       "width": 480
      }
     },
     "output_type": "display_data"
    }
   ],
   "source": [
    "## Plot the distribution of the sample with boxplots  \n",
    "options(warn = -1) \n",
    "\n",
    "quantile_box_plot_red <- ggplot(sample_red, aes(x = alcohol)) + \n",
    "    geom_boxplot(fill = \"light blue\") + xlim(8, 14) + coord_flip() + \n",
    "    xlab(\"Alcohol Content (%Vol)\") + ggtitle(\"Boxplot of Alcohol Content of Red Wine\")\n",
    "\n",
    "quantile_box_plot_white <- ggplot(sample_white, aes(x = alcohol)) + \n",
    "    geom_boxplot(fill = \"light blue\") + xlim(8, 14) + coord_flip() +\n",
    "    xlab(\"Alcohol Content (%Vol)\") + ggtitle(\"Boxplot of Alcohol Content of White Wine\")\n",
    "\n",
    "cat(\"Figure 2: Boxplots for Sample Distribution Quantiles\")\n",
    "grid.arrange(quantile_box_plot_red, quantile_box_plot_white, ncol=2)"
   ]
  },
  {
   "cell_type": "markdown",
   "id": "1af74031-2a0b-4623-8621-0d14f6bfdfa4",
   "metadata": {},
   "source": [
    "After examining the histograms and boxplots above, the previous statement of the means in alcohol content being different can be refuted, as it seems there is a usual number of values around point 9.5. It appears that the sample taken from the red wine population is slightly right-skewed, which explains the larger IQR. Therefore, an estimate is formed that the variance of alcohol in red wine and alcohol in white wine are approximately similar. A hypothesis test will be conducted later in the report to test this observation to see if the difference in means of the alcohol contents is significant, with a 5% significance level."
   ]
  },
  {
   "cell_type": "markdown",
   "id": "b258e0fe-af8a-4168-8b7b-b396f59b1ad5",
   "metadata": {},
   "source": [
    "### Methods: Plan\n",
    "This dataset is trustworthy since it comes from from a database recommended on the course page and is a reliable source. Moreover, an academic paper (Cortez et. al, 2009) was written on this data, further suggesting that it is a reliable source of data. To summarize the preliminary findings, the observed mean alcohol content for red and white wines was estimated through sampling. Furthermore, the IQR of the alcohol content of both types of wine was analyzed to compare the differences in alcohol content. This illustrated that the alcohol contents of both wines were reasonably similar. However, to test the significance of this difference, a hypothesis test will be conducted on these variables.\n",
    "\n",
    "A hypothesis test will be conducted using the infer package wherein the null hypothesis states no significant difference between the mean alcohol amount in red wine and the mean alcohol amount in white wine. Additionally, a 95% confidence interval for the difference in means will be determined to support the analysis further.\n",
    "\n",
    "\n",
    "\n",
    "## Results\n",
    "### Hypothesis Test\n",
    "H<sub>0</sub> : There is no significant difference between average alcohol amount in red wine and average alcohol amount in white wine <br />\n",
    "(Alcohol Content of Red Wine - Alcohol Content of White Wine)\n",
    "\n",
    "H<sub>A</sub> : There is significant difference between average alcohol amount in red wine and average alcohol amount in white wine <br /> (Alcohol Content of Red Wine - Alcohol Content of White Wine)"
   ]
  },
  {
   "cell_type": "code",
   "execution_count": 112,
   "id": "d20559fb-6271-4018-ad19-9deb8df9927f",
   "metadata": {},
   "outputs": [
    {
     "name": "stdout",
     "output_type": "stream",
     "text": [
      "Table 2: Filtered Combined Data Containing Alcohol and Type of Wine"
     ]
    },
    {
     "data": {
      "text/html": [
       "<table class=\"dataframe\">\n",
       "<caption>A data.frame: 6 × 2</caption>\n",
       "<thead>\n",
       "\t<tr><th></th><th scope=col>alcohol</th><th scope=col>type</th></tr>\n",
       "\t<tr><th></th><th scope=col>&lt;dbl&gt;</th><th scope=col>&lt;chr&gt;</th></tr>\n",
       "</thead>\n",
       "<tbody>\n",
       "\t<tr><th scope=row>1</th><td>9.4</td><td>red</td></tr>\n",
       "\t<tr><th scope=row>2</th><td>9.8</td><td>red</td></tr>\n",
       "\t<tr><th scope=row>3</th><td>9.8</td><td>red</td></tr>\n",
       "\t<tr><th scope=row>4</th><td>9.8</td><td>red</td></tr>\n",
       "\t<tr><th scope=row>5</th><td>9.4</td><td>red</td></tr>\n",
       "\t<tr><th scope=row>6</th><td>9.4</td><td>red</td></tr>\n",
       "</tbody>\n",
       "</table>\n"
      ],
      "text/latex": [
       "A data.frame: 6 × 2\n",
       "\\begin{tabular}{r|ll}\n",
       "  & alcohol & type\\\\\n",
       "  & <dbl> & <chr>\\\\\n",
       "\\hline\n",
       "\t1 & 9.4 & red\\\\\n",
       "\t2 & 9.8 & red\\\\\n",
       "\t3 & 9.8 & red\\\\\n",
       "\t4 & 9.8 & red\\\\\n",
       "\t5 & 9.4 & red\\\\\n",
       "\t6 & 9.4 & red\\\\\n",
       "\\end{tabular}\n"
      ],
      "text/markdown": [
       "\n",
       "A data.frame: 6 × 2\n",
       "\n",
       "| <!--/--> | alcohol &lt;dbl&gt; | type &lt;chr&gt; |\n",
       "|---|---|---|\n",
       "| 1 | 9.4 | red |\n",
       "| 2 | 9.8 | red |\n",
       "| 3 | 9.8 | red |\n",
       "| 4 | 9.8 | red |\n",
       "| 5 | 9.4 | red |\n",
       "| 6 | 9.4 | red |\n",
       "\n"
      ],
      "text/plain": [
       "  alcohol type\n",
       "1 9.4     red \n",
       "2 9.8     red \n",
       "3 9.8     red \n",
       "4 9.8     red \n",
       "5 9.4     red \n",
       "6 9.4     red "
      ]
     },
     "metadata": {},
     "output_type": "display_data"
    }
   ],
   "source": [
    "# Selecting the columns of interest from the combined dataset (alcohol and type) and \n",
    "# filtering out the na values from the alcohol column\n",
    "\n",
    "alcohol_data <-\n",
    "combined_data %>% \n",
    "select(alcohol, type) %>% \n",
    "filter(!is.na(alcohol))\n",
    "cat(\"Table 2: Filtered Combined Data Containing Alcohol and Type of Wine\")\n",
    "head(alcohol_data)"
   ]
  },
  {
   "cell_type": "code",
   "execution_count": 113,
   "id": "9081dbdb-05e7-41f2-b59a-0cec58fb3cb3",
   "metadata": {},
   "outputs": [
    {
     "name": "stdout",
     "output_type": "stream",
     "text": [
      "Table 3: Number of Data Points for Red and White Wine"
     ]
    },
    {
     "data": {
      "text/html": [
       "<table class=\"dataframe\">\n",
       "<caption>A data.frame: 2 × 2</caption>\n",
       "<thead>\n",
       "\t<tr><th scope=col>type</th><th scope=col>n</th></tr>\n",
       "\t<tr><th scope=col>&lt;chr&gt;</th><th scope=col>&lt;int&gt;</th></tr>\n",
       "</thead>\n",
       "<tbody>\n",
       "\t<tr><td>red  </td><td>1599</td></tr>\n",
       "\t<tr><td>white</td><td>4898</td></tr>\n",
       "</tbody>\n",
       "</table>\n"
      ],
      "text/latex": [
       "A data.frame: 2 × 2\n",
       "\\begin{tabular}{ll}\n",
       " type & n\\\\\n",
       " <chr> & <int>\\\\\n",
       "\\hline\n",
       "\t red   & 1599\\\\\n",
       "\t white & 4898\\\\\n",
       "\\end{tabular}\n"
      ],
      "text/markdown": [
       "\n",
       "A data.frame: 2 × 2\n",
       "\n",
       "| type &lt;chr&gt; | n &lt;int&gt; |\n",
       "|---|---|\n",
       "| red   | 1599 |\n",
       "| white | 4898 |\n",
       "\n"
      ],
      "text/plain": [
       "  type  n   \n",
       "1 red   1599\n",
       "2 white 4898"
      ]
     },
     "metadata": {},
     "output_type": "display_data"
    }
   ],
   "source": [
    "# Counting the amount of each type of wine (red and white)\n",
    "wines_count <-\n",
    "    alcohol_data %>% \n",
    "    count(type)\n",
    "cat(\"Table 3: Number of Data Points for Red and White Wine\")\n",
    "wines_count"
   ]
  },
  {
   "cell_type": "code",
   "execution_count": 71,
   "id": "a455bea5-0ddb-4986-917e-8d167dac249d",
   "metadata": {},
   "outputs": [
    {
     "name": "stdout",
     "output_type": "stream",
     "text": [
      "Test Statistic:"
     ]
    },
    {
     "data": {
      "text/html": [
       "-0.0912839333280733"
      ],
      "text/latex": [
       "-0.0912839333280733"
      ],
      "text/markdown": [
       "-0.0912839333280733"
      ],
      "text/plain": [
       "[1] -0.09128393"
      ]
     },
     "metadata": {},
     "output_type": "display_data"
    }
   ],
   "source": [
    "# Calculating the observed test statistic using the infer package\n",
    "obs_diff_in_means <- \n",
    "    alcohol_data  %>% \n",
    "    specify(formula = alcohol ~ type) %>%\n",
    "    calculate(stat = \"diff in means\", order = c(\"red\", \"white\")) %>% \n",
    "    pull(stat)\n",
    "cat(\"Test Statistic:\")\n",
    "obs_diff_in_means"
   ]
  },
  {
   "cell_type": "code",
   "execution_count": 72,
   "id": "cc73b9ad-eb6f-4541-a304-0916eb37c11c",
   "metadata": {},
   "outputs": [],
   "source": [
    "set.seed(1234)\n",
    "\n",
    "# Generating 1000 samples from the null distribution\n",
    "null_diff_in_means <- \n",
    "    alcohol_data %>% \n",
    "    specify(formula = alcohol ~ type) %>%\n",
    "    hypothesize(null = \"independence\") %>% \n",
    "    generate(reps = 1000, type = \"permute\")  %>%\n",
    "    calculate(stat = \"diff in means\", order = c(\"red\", \"white\"))"
   ]
  },
  {
   "cell_type": "code",
   "execution_count": 114,
   "id": "aff7c603-3c73-40af-96bf-f3206d63fd8a",
   "metadata": {},
   "outputs": [
    {
     "name": "stdout",
     "output_type": "stream",
     "text": [
      "Figure 3: Null Distribution and Test Statistic"
     ]
    },
    {
     "data": {
      "image/png": "[encoded data removed]",
      "text/plain": [
       "plot without title"
      ]
     },
     "metadata": {
      "image/png": {
       "height": 480,
       "width": 480
      }
     },
     "output_type": "display_data"
    }
   ],
   "source": [
    "options(repr.plot.width = 8, repr.plot.height = 8)\n",
    "\n",
    "# Plot null distribution and observed the test-statistic \n",
    "diff_in_means_plot <-\n",
    "    visualize(null_diff_in_means, bins = 10) + \n",
    "    shade_p_value(obs_stat = obs_diff_in_means, direction = \"both\") +\n",
    "    xlab(\"Difference in means\") +\n",
    "    theme(text = element_text(size = 20))\n",
    "cat(\"Figure 3: Null Distribution and Test Statistic\")\n",
    "diff_in_means_plot"
   ]
  },
  {
   "cell_type": "markdown",
   "id": "1d16c6a5-6748-44bc-910a-cc37a5a3f118",
   "metadata": {},
   "source": [
    "The above distribution shows the null distribution of the difference in means and where the test statistic lies. This distribution supports the analysis since there is hardly any shaded region in the tails, suggesting that the likelihood of the null hypothesis being true is relatively small. If the null hypothesis were true, the shaded area would be larger."
   ]
  },
  {
   "cell_type": "code",
   "execution_count": 115,
   "id": "3880d47e-733c-4d84-9999-0cea2ffddb18",
   "metadata": {},
   "outputs": [
    {
     "name": "stdout",
     "output_type": "stream",
     "text": [
      "p Value:"
     ]
    },
    {
     "data": {
      "text/html": [
       "0.006"
      ],
      "text/latex": [
       "0.006"
      ],
      "text/markdown": [
       "0.006"
      ],
      "text/plain": [
       "[1] 0.006"
      ]
     },
     "metadata": {},
     "output_type": "display_data"
    }
   ],
   "source": [
    "# Finding the p-value using the infer package\n",
    "p_value <-\n",
    "    null_diff_in_means %>% \n",
    "    get_p_value(obs_stat = obs_diff_in_means, direction = \"both\") %>% \n",
    "    pull(p_value)\n",
    "\n",
    "cat(\"p Value:\")\n",
    "p_value"
   ]
  },
  {
   "cell_type": "markdown",
   "id": "a454a922-270f-4317-bc5d-1ecff0d6d0a4",
   "metadata": {},
   "source": [
    "The obtained p-value is 0.006. The null hypothesis is rejected at a 5% significance level (0.05) since the observed p-value is less than the significance level. Based on the hypothesis test, there is a 95% confidence that the alcohol content of red wine is not equal to the alcohol content of white wine. The hypothesis test supports previous findings that estimate that white wine would have a higher mean alcohol content of 10.429 (vol.%) than red wine with a mean alcohol content of 10.277 (vol.%)."
   ]
  },
  {
   "cell_type": "markdown",
   "id": "b3ed9627-16dd-48ca-8c4c-85954d272b82",
   "metadata": {},
   "source": [
    "### 95% Confidence Interval for Difference in Means Using Bootstrapping\n",
    "\n",
    "Next, the 95% confidence interval for the difference in means of alcohol content is constructed to examine the range of plausible values."
   ]
  },
  {
   "cell_type": "code",
   "execution_count": 116,
   "id": "a326e3e6-09e3-4c97-b136-10065707179b",
   "metadata": {},
   "outputs": [],
   "source": [
    "# Obtaining bootstrap distribution for the difference in means using the infer package \n",
    "\n",
    "diff_in_means_bootstrap_dist <- \n",
    "    alcohol_data %>%\n",
    "    specify(formula = alcohol ~ type) %>%\n",
    "    generate(reps = 1000, type = \"bootstrap\") %>%\n",
    "    calculate(stat = \"diff in means\", order = c(\"red\", \"white\"))  "
   ]
  },
  {
   "cell_type": "code",
   "execution_count": 117,
   "id": "fd1e400f-e157-42ad-85b0-6c02845551c9",
   "metadata": {},
   "outputs": [
    {
     "name": "stdout",
     "output_type": "stream",
     "text": [
      "95% Confidence Interval From Bootstrapping:"
     ]
    },
    {
     "data": {
      "text/html": [
       "<table class=\"dataframe\">\n",
       "<caption>A tibble: 1 × 2</caption>\n",
       "<thead>\n",
       "\t<tr><th scope=col>lower_ci</th><th scope=col>upper_ci</th></tr>\n",
       "\t<tr><th scope=col>&lt;dbl&gt;</th><th scope=col>&lt;dbl&gt;</th></tr>\n",
       "</thead>\n",
       "<tbody>\n",
       "\t<tr><td>-0.1510787</td><td>-0.02972907</td></tr>\n",
       "</tbody>\n",
       "</table>\n"
      ],
      "text/latex": [
       "A tibble: 1 × 2\n",
       "\\begin{tabular}{ll}\n",
       " lower\\_ci & upper\\_ci\\\\\n",
       " <dbl> & <dbl>\\\\\n",
       "\\hline\n",
       "\t -0.1510787 & -0.02972907\\\\\n",
       "\\end{tabular}\n"
      ],
      "text/markdown": [
       "\n",
       "A tibble: 1 × 2\n",
       "\n",
       "| lower_ci &lt;dbl&gt; | upper_ci &lt;dbl&gt; |\n",
       "|---|---|\n",
       "| -0.1510787 | -0.02972907 |\n",
       "\n"
      ],
      "text/plain": [
       "  lower_ci   upper_ci   \n",
       "1 -0.1510787 -0.02972907"
      ]
     },
     "metadata": {},
     "output_type": "display_data"
    }
   ],
   "source": [
    "# Finding the 95% confidence interval of the bootstrap distribution for the difference in means \n",
    "# using the infer package\n",
    "\n",
    "diff_in_means_ci <- \n",
    "    diff_in_means_bootstrap_dist %>% \n",
    "    get_confidence_interval(level = 0.95, type = \"percentile\")\n",
    "cat(\"95% Confidence Interval From Bootstrapping:\")\n",
    "diff_in_means_ci"
   ]
  },
  {
   "cell_type": "markdown",
   "id": "71d3a7c9-3e52-406c-bf00-9faf0812983e",
   "metadata": {},
   "source": [
    "<b>Lower Bound : -0.1514</b>\n",
    "\n",
    "<b>Upper Bound : -0.0291</b>"
   ]
  },
  {
   "cell_type": "code",
   "execution_count": 119,
   "id": "de31c892-2447-4fa8-b244-a30d5490d58a",
   "metadata": {},
   "outputs": [
    {
     "name": "stdout",
     "output_type": "stream",
     "text": [
      "Figure 4: Bootstrap Distribution with 95% Confidence Interval"
     ]
    },
    {
     "data": {
      "image/png": "[encoded data removed]",
      "text/plain": [
       "plot without title"
      ]
     },
     "metadata": {
      "image/png": {
       "height": 480,
       "width": 480
      }
     },
     "output_type": "display_data"
    }
   ],
   "source": [
    "options(repr.plot.width = 8, repr.plot.height = 8)\n",
    "# Plotting the 95% confidence interval and bootstrap distribution\n",
    "\n",
    "diff_in_means_ci_plot <-\n",
    "    visualize(diff_in_means_bootstrap_dist) + \n",
    "    shade_confidence_interval(endpoints = diff_in_means_ci) + \n",
    "    theme(text = element_text(size = 20)) + \n",
    "    xlab(\"Difference in Means\")\n",
    "cat(\"Figure 4: Bootstrap Distribution with 95% Confidence Interval\")\n",
    "diff_in_means_ci_plot"
   ]
  },
  {
   "cell_type": "markdown",
   "id": "701986f6-94ef-43a8-a2c2-f78997f94710",
   "metadata": {},
   "source": [
    "From the distribution, it can be seen that the observed value of the difference in means, i.e. -0.09128, is contained inside the confidence interval. If repeated samples are taken, there is a 95% confidence that the observed value would lie inside the confidence interval. Additionally, it can be seen that 0 is not in the interval, further supporting the results of the hypothesis that the difference in means of alcohol content in red and white wines is not equal."
   ]
  },
  {
   "cell_type": "markdown",
   "id": "b64b3c3a-0e41-4e29-a8b1-2049b5f9b4ef",
   "metadata": {},
   "source": [
    "### 95% Confidence Interval for Difference in Means Using Asymptotics"
   ]
  },
  {
   "cell_type": "markdown",
   "id": "61f8ebd0",
   "metadata": {},
   "source": [
    "<b>95% Confidence Interval for Difference in Means Using Central Limit Theorem"
   ]
  },
  {
   "cell_type": "markdown",
   "id": "d42132e8-baa0-4c7b-9358-d06713d6daa9",
   "metadata": {},
   "source": [
    "Next, the difference in means of the two wines is analyzed using asymptotics under the assumption of normality through the Central Limit Theorem."
   ]
  },
  {
   "cell_type": "code",
   "execution_count": 78,
   "id": "869fe61c-34cd-451f-8e01-fdca1da4ffc7",
   "metadata": {},
   "outputs": [],
   "source": [
    "# Taking a sample of 650 from the combined dataset for each type of wine (red and white)\n",
    "set.seed(1234)\n",
    "\n",
    "alcohol_sample <- \n",
    "    alcohol_data %>% \n",
    "    group_by(type) %>% \n",
    "    sample_n(size = case_when(type == \"red\" ~ 650,\n",
    "                              type == \"white\" ~ 650), replace = FALSE) %>% \n",
    "    ungroup()"
   ]
  },
  {
   "cell_type": "code",
   "execution_count": 79,
   "id": "0b34aa8e-8264-4489-8289-5cb2735b425f",
   "metadata": {},
   "outputs": [
    {
     "name": "stdout",
     "output_type": "stream",
     "text": [
      "Figure 5: Sample Distribution of Alcohol Content of Red and White Wines"
     ]
    },
    {
     "data": {
      "image/png": "[encoded data removed]",
      "text/plain": [
       "plot without title"
      ]
     },
     "metadata": {
      "image/png": {
       "height": 480,
       "width": 540
      }
     },
     "output_type": "display_data"
    }
   ],
   "source": [
    "# Observe the sample distribution of each type of wine\n",
    "\n",
    "options(repr.plot.width = 9, repr.plot.height = 8)\n",
    "\n",
    "alocohol_samp_dist_plot <- \n",
    "    alcohol_sample %>% \n",
    "    ggplot() + \n",
    "    geom_histogram(aes(alcohol), binwidth = 1, color = 'white') +\n",
    "    facet_wrap(~ type) + \n",
    "    theme(text = element_text(size = 16)) +\n",
    "    ggtitle(\"Sample Distribution of Alcohol Content of Red and White Wines\") + \n",
    "    xlab(\"Alcohol Content\")\n",
    "\n",
    "cat(\"Figure 5: Sample Distribution of Alcohol Content of Red and White Wines\")\n",
    "alocohol_samp_dist_plot\n",
    "\n"
   ]
  },
  {
   "cell_type": "markdown",
   "id": "a629aa62-1c25-4e59-8c41-f3c44c849259",
   "metadata": {},
   "source": [
    "The plots above show that the sample distributions are not normally distributed as both plots are right-skewed. However, since the sample size is large enough and the samples are taken independently, by the Central Limit Theorem, the distribution can be approximated by the Normal distribution."
   ]
  },
  {
   "cell_type": "code",
   "execution_count": 120,
   "id": "edc8cd13-ff94-4876-8980-7f42fd802046",
   "metadata": {},
   "outputs": [
    {
     "name": "stdout",
     "output_type": "stream",
     "text": [
      "Table 4: Sample Means and Standard Errors"
     ]
    },
    {
     "data": {
      "text/html": [
       "<table class=\"dataframe\">\n",
       "<caption>A tibble: 2 × 3</caption>\n",
       "<thead>\n",
       "\t<tr><th scope=col>type</th><th scope=col>sample_mean</th><th scope=col>sample_std_error</th></tr>\n",
       "\t<tr><th scope=col>&lt;chr&gt;</th><th scope=col>&lt;dbl&gt;</th><th scope=col>&lt;dbl&gt;</th></tr>\n",
       "</thead>\n",
       "<tbody>\n",
       "\t<tr><td>red  </td><td>10.44428</td><td>0.04289367</td></tr>\n",
       "\t<tr><td>white</td><td>10.59132</td><td>0.05071732</td></tr>\n",
       "</tbody>\n",
       "</table>\n"
      ],
      "text/latex": [
       "A tibble: 2 × 3\n",
       "\\begin{tabular}{lll}\n",
       " type & sample\\_mean & sample\\_std\\_error\\\\\n",
       " <chr> & <dbl> & <dbl>\\\\\n",
       "\\hline\n",
       "\t red   & 10.44428 & 0.04289367\\\\\n",
       "\t white & 10.59132 & 0.05071732\\\\\n",
       "\\end{tabular}\n"
      ],
      "text/markdown": [
       "\n",
       "A tibble: 2 × 3\n",
       "\n",
       "| type &lt;chr&gt; | sample_mean &lt;dbl&gt; | sample_std_error &lt;dbl&gt; |\n",
       "|---|---|---|\n",
       "| red   | 10.44428 | 0.04289367 |\n",
       "| white | 10.59132 | 0.05071732 |\n",
       "\n"
      ],
      "text/plain": [
       "  type  sample_mean sample_std_error\n",
       "1 red   10.44428    0.04289367      \n",
       "2 white 10.59132    0.05071732      "
      ]
     },
     "metadata": {},
     "output_type": "display_data"
    }
   ],
   "source": [
    "# Obtain the sample mean and standard error of alcohol content for each type of wine.\n",
    "\n",
    "alcohol_summary <- \n",
    "    alcohol_sample %>% \n",
    "    group_by(type) %>% \n",
    "    summarise(sample_mean = mean(alcohol),\n",
    "              sample_std_error = sd(alcohol)/sqrt(n())) \n",
    "\n",
    "cat(\"Table 4: Sample Means and Standard Errors\")\n",
    "alcohol_summary"
   ]
  },
  {
   "cell_type": "code",
   "execution_count": 121,
   "id": "3748c89a",
   "metadata": {},
   "outputs": [
    {
     "name": "stdout",
     "output_type": "stream",
     "text": [
      "95% Confidence Interval From Central Limit Theorem:"
     ]
    },
    {
     "data": {
      "text/html": [
       "<table class=\"dataframe\">\n",
       "<caption>A tibble: 1 × 2</caption>\n",
       "<thead>\n",
       "\t<tr><th scope=col>lower_ci</th><th scope=col>upper_ci</th></tr>\n",
       "\t<tr><th scope=col>&lt;dbl&gt;</th><th scope=col>&lt;dbl&gt;</th></tr>\n",
       "</thead>\n",
       "<tbody>\n",
       "\t<tr><td>-0.2772292</td><td>-0.01685289</td></tr>\n",
       "</tbody>\n",
       "</table>\n"
      ],
      "text/latex": [
       "A tibble: 1 × 2\n",
       "\\begin{tabular}{ll}\n",
       " lower\\_ci & upper\\_ci\\\\\n",
       " <dbl> & <dbl>\\\\\n",
       "\\hline\n",
       "\t -0.2772292 & -0.01685289\\\\\n",
       "\\end{tabular}\n"
      ],
      "text/markdown": [
       "\n",
       "A tibble: 1 × 2\n",
       "\n",
       "| lower_ci &lt;dbl&gt; | upper_ci &lt;dbl&gt; |\n",
       "|---|---|\n",
       "| -0.2772292 | -0.01685289 |\n",
       "\n"
      ],
      "text/plain": [
       "  lower_ci   upper_ci   \n",
       "1 -0.2772292 -0.01685289"
      ]
     },
     "metadata": {},
     "output_type": "display_data"
    }
   ],
   "source": [
    "# Obtain a 95% confidence interval for the difference in means using the Central Limit Theorem(CLT). \n",
    "\n",
    "red_mean <- alcohol_summary$sample_mean[1]\n",
    "red_var <- alcohol_summary$sample_std_error[1]^2\n",
    "white_mean <- alcohol_summary$sample_mean[2]\n",
    "white_var <- alcohol_summary$sample_std_error[2]^2\n",
    "\n",
    "alcohol_clt_ci <- \n",
    "    tibble(lower_ci = (red_mean - white_mean - qnorm(0.975) * sqrt(white_var + red_var)),\n",
    "           upper_ci = (red_mean - white_mean + qnorm(0.975) * sqrt(white_var + red_var)))\n",
    "\n",
    "cat(\"95% Confidence Interval From Central Limit Theorem:\")\n",
    "alcohol_clt_ci"
   ]
  },
  {
   "cell_type": "markdown",
   "id": "e9eacb0d",
   "metadata": {},
   "source": [
    "<b>Lower Bound : -0.2772</b>\n",
    "\n",
    "<b>Upper Bound : -0.0169</b>"
   ]
  },
  {
   "cell_type": "markdown",
   "id": "9df7fe0d-287e-4dbf-b831-55fd7cf7db96",
   "metadata": {},
   "source": [
    "Under the assumption of normality, the confidence interval for the difference of means in alcohol content is [-0.2722, 0.0169]. This is somewhat similar to the previous interval obtained by bootstrapping. However, to analyze the approximation, the accuracy of this interval is tested below."
   ]
  },
  {
   "cell_type": "code",
   "execution_count": 126,
   "id": "ba72f680-6b6f-4667-aa3b-fd2c4699ddf3",
   "metadata": {},
   "outputs": [
    {
     "name": "stderr",
     "output_type": "stream",
     "text": [
      "`summarise()` has grouped output by 'replicate'. You can override using the `.groups` argument.\n",
      "\n"
     ]
    }
   ],
   "source": [
    "# Testing accuracy of the confidence interval by finding 100 95% confidence intervals\n",
    "\n",
    "set.seed(1234)\n",
    "\n",
    "# Obtain the means\n",
    "true_means <-\n",
    "    alcohol_data %>% \n",
    "    group_by(type) %>% \n",
    "    summarise(sample_mean = mean(alcohol)) %>% \n",
    "    pull(sample_mean)\n",
    "\n",
    "# Obtain the true difference in mean\n",
    "true_diff = true_means[1] - true_means[2]\n",
    "\n",
    "# Taking 100 samples for the confidence intervals using samples of 650 for each type of wine (red and white)\n",
    "alcohol_multiple_samples <- \n",
    "    tibble(replicate = 1:100) %>% \n",
    "    mutate(sample = map(replicate,\n",
    "                        `.f` = ~\n",
    "                            alcohol_data %>% \n",
    "                            group_by(type) %>% \n",
    "                            sample_n(size = case_when(type == \"red\" ~ 650,\n",
    "                                                      type == \"white\" ~ 650), replace = FALSE) %>% \n",
    "                            ungroup() \n",
    "                    )\n",
    "    ) %>% \n",
    "    unnest(sample) %>% \n",
    "    group_by(replicate, type) %>% \n",
    "    summarise(sample_mean = mean(alcohol),\n",
    "              sample_std_error = sd(alcohol)/sqrt(n()),\n",
    "              n = n()) %>% \n",
    "    pivot_wider(names_from = type, values_from = c(sample_mean, sample_std_error, n))\n"
   ]
  },
  {
   "cell_type": "code",
   "execution_count": 127,
   "id": "ac9be70d-5f45-4331-91a6-32102ad0ede5",
   "metadata": {},
   "outputs": [],
   "source": [
    "# Obtaining multiple confidence intervals from different samples.\n",
    "\n",
    "alcohol_multiple_ci <-\n",
    "    alcohol_multiple_samples %>% \n",
    "    mutate(lower_ci = sample_mean_red - sample_mean_white - qnorm(0.975) * sqrt(sample_std_error_red^2+sample_std_error_white^2),\n",
    "           upper_ci = sample_mean_red - sample_mean_white + qnorm(0.975) * sqrt(sample_std_error_red^2+sample_std_error_white^2)) %>% \n",
    "    select(replicate, lower_ci, upper_ci) %>% \n",
    "    mutate(captured = between(true_diff, lower_ci, upper_ci))\n"
   ]
  },
  {
   "cell_type": "code",
   "execution_count": 128,
   "id": "db700520-2a36-472a-9e7a-b2831858838c",
   "metadata": {},
   "outputs": [
    {
     "name": "stdout",
     "output_type": "stream",
     "text": [
      "Figure 6: 100 95% Confidence Intervals"
     ]
    },
    {
     "data": {
      "image/png": "[encoded data removed]",
      "text/plain": [
       "plot without title"
      ]
     },
     "metadata": {
      "image/png": {
       "height": 480,
       "width": 480
      }
     },
     "output_type": "display_data"
    }
   ],
   "source": [
    "# Plotting multiple confidence intervals and observing if they capture the true difference in means\n",
    "\n",
    "alcohol_multiple_ci %>% \n",
    "    ggplot() +\n",
    "    scale_colour_manual(breaks = c(\"TRUE\", \"FALSE\"), \n",
    "                        values = c(\"grey\", \"black\")) +\n",
    "    geom_segment(aes(x = lower_ci,\n",
    "                     xend = upper_ci,\n",
    "                     y = replicate,\n",
    "                     yend = replicate,\n",
    "                     colour = captured)) +\n",
    "    geom_vline(xintercept = true_diff, colour = \"red\", size = 1) +\n",
    "    labs(title = \"100 95% Confidence Intervals\",\n",
    "         x = 'Difference in means',\n",
    "         y = \"Sample ID\",\n",
    "         colour = \"Captured?\") +\n",
    "    theme_bw() + \n",
    "    theme(text = element_text(size = 18))\n",
    "\n",
    "cat(\"Figure 6: 100 95% Confidence Intervals\")\n",
    "\n"
   ]
  },
  {
   "cell_type": "markdown",
   "id": "dd64c2ef-666f-4f66-bc5a-5ab74564b24b",
   "metadata": {},
   "source": [
    "The plot above shows that even though the population is not Normal, the CLT approximation is relatively accurate. Only 4 intervals do not capture the true difference in means, which is about what is expected with a 95% confidence interval. However, the plot also shows that many of the intervals include 0, which would contradict the results obtained from the hypothesis test. To further investigate the 95% confidence interval of the difference of means, the interval is obtained using the t-distribution."
   ]
  },
  {
   "cell_type": "markdown",
   "id": "0b854a5b",
   "metadata": {},
   "source": [
    "<b>95% Confidence Interval for Difference in Means Using t Distribution"
   ]
  },
  {
   "cell_type": "markdown",
   "id": "800e855b",
   "metadata": {},
   "source": [
    "Next, the confidence interval for the difference in means of the two wines is analyzed using asymptotics and the t-distribution."
   ]
  },
  {
   "cell_type": "code",
   "execution_count": 129,
   "id": "259facf8",
   "metadata": {},
   "outputs": [
    {
     "name": "stdout",
     "output_type": "stream",
     "text": [
      "Table 5: Result of t.test"
     ]
    },
    {
     "data": {
      "text/html": [
       "<table class=\"dataframe\">\n",
       "<caption>A tibble: 1 × 10</caption>\n",
       "<thead>\n",
       "\t<tr><th scope=col>estimate</th><th scope=col>estimate1</th><th scope=col>estimate2</th><th scope=col>statistic</th><th scope=col>p.value</th><th scope=col>parameter</th><th scope=col>conf.low</th><th scope=col>conf.high</th><th scope=col>method</th><th scope=col>alternative</th></tr>\n",
       "\t<tr><th scope=col>&lt;dbl&gt;</th><th scope=col>&lt;dbl&gt;</th><th scope=col>&lt;dbl&gt;</th><th scope=col>&lt;dbl&gt;</th><th scope=col>&lt;dbl&gt;</th><th scope=col>&lt;dbl&gt;</th><th scope=col>&lt;dbl&gt;</th><th scope=col>&lt;dbl&gt;</th><th scope=col>&lt;chr&gt;</th><th scope=col>&lt;chr&gt;</th></tr>\n",
       "</thead>\n",
       "<tbody>\n",
       "\t<tr><td>-0.09128393</td><td>10.42298</td><td>10.51427</td><td>-2.859029</td><td>0.00427778</td><td>3100.475</td><td>-0.1538867</td><td>-0.02868117</td><td>Welch Two Sample t-test</td><td>two.sided</td></tr>\n",
       "</tbody>\n",
       "</table>\n"
      ],
      "text/latex": [
       "A tibble: 1 × 10\n",
       "\\begin{tabular}{llllllllll}\n",
       " estimate & estimate1 & estimate2 & statistic & p.value & parameter & conf.low & conf.high & method & alternative\\\\\n",
       " <dbl> & <dbl> & <dbl> & <dbl> & <dbl> & <dbl> & <dbl> & <dbl> & <chr> & <chr>\\\\\n",
       "\\hline\n",
       "\t -0.09128393 & 10.42298 & 10.51427 & -2.859029 & 0.00427778 & 3100.475 & -0.1538867 & -0.02868117 & Welch Two Sample t-test & two.sided\\\\\n",
       "\\end{tabular}\n"
      ],
      "text/markdown": [
       "\n",
       "A tibble: 1 × 10\n",
       "\n",
       "| estimate &lt;dbl&gt; | estimate1 &lt;dbl&gt; | estimate2 &lt;dbl&gt; | statistic &lt;dbl&gt; | p.value &lt;dbl&gt; | parameter &lt;dbl&gt; | conf.low &lt;dbl&gt; | conf.high &lt;dbl&gt; | method &lt;chr&gt; | alternative &lt;chr&gt; |\n",
       "|---|---|---|---|---|---|---|---|---|---|\n",
       "| -0.09128393 | 10.42298 | 10.51427 | -2.859029 | 0.00427778 | 3100.475 | -0.1538867 | -0.02868117 | Welch Two Sample t-test | two.sided |\n",
       "\n"
      ],
      "text/plain": [
       "  estimate    estimate1 estimate2 statistic p.value    parameter conf.low  \n",
       "1 -0.09128393 10.42298  10.51427  -2.859029 0.00427778 3100.475  -0.1538867\n",
       "  conf.high   method                  alternative\n",
       "1 -0.02868117 Welch Two Sample t-test two.sided  "
      ]
     },
     "metadata": {},
     "output_type": "display_data"
    },
    {
     "name": "stdout",
     "output_type": "stream",
     "text": [
      "95% Confidence Interval From t-distribution:"
     ]
    },
    {
     "data": {
      "text/html": [
       "<table class=\"dataframe\">\n",
       "<caption>A tibble: 1 × 2</caption>\n",
       "<thead>\n",
       "\t<tr><th scope=col>conf.low</th><th scope=col>conf.high</th></tr>\n",
       "\t<tr><th scope=col>&lt;dbl&gt;</th><th scope=col>&lt;dbl&gt;</th></tr>\n",
       "</thead>\n",
       "<tbody>\n",
       "\t<tr><td>-0.1538867</td><td>-0.02868117</td></tr>\n",
       "</tbody>\n",
       "</table>\n"
      ],
      "text/latex": [
       "A tibble: 1 × 2\n",
       "\\begin{tabular}{ll}\n",
       " conf.low & conf.high\\\\\n",
       " <dbl> & <dbl>\\\\\n",
       "\\hline\n",
       "\t -0.1538867 & -0.02868117\\\\\n",
       "\\end{tabular}\n"
      ],
      "text/markdown": [
       "\n",
       "A tibble: 1 × 2\n",
       "\n",
       "| conf.low &lt;dbl&gt; | conf.high &lt;dbl&gt; |\n",
       "|---|---|\n",
       "| -0.1538867 | -0.02868117 |\n",
       "\n"
      ],
      "text/plain": [
       "  conf.low   conf.high  \n",
       "1 -0.1538867 -0.02868117"
      ]
     },
     "metadata": {},
     "output_type": "display_data"
    }
   ],
   "source": [
    "# Using t.test and tidy to obtain confidence interval from t-distribution\n",
    "\n",
    "t_test <- tidy(t.test(wine_quality_red$alcohol, wine_quality_white$alcohol))\n",
    "cat(\"Table 5: Result of t.test\")\n",
    "t_test\n",
    "\n",
    "t_ci <- t_test %>% \n",
    "select(conf.low, conf.high)\n",
    "\n",
    "cat(\"95% Confidence Interval From t-distribution:\")\n",
    "t_ci"
   ]
  },
  {
   "cell_type": "markdown",
   "id": "65cd9a52",
   "metadata": {},
   "source": [
    "<b>Lower Bound : -0.1539</b>\n",
    "\n",
    "<b>Upper Bound : -0.0287</b>"
   ]
  },
  {
   "cell_type": "markdown",
   "id": "32291f55-777f-4193-aed5-fefc3f52c8b0",
   "metadata": {},
   "source": [
    "This interval is quite similar to the previous interval obtained by bootstrapping. It also supports the hypothesis test results since 0 is not in the interval."
   ]
  },
  {
   "cell_type": "markdown",
   "id": "943389a3",
   "metadata": {},
   "source": [
    "### Overview of 95% Confidence Intervals for Difference in Means of Alcohol Content In Red and White Wine"
   ]
  },
  {
   "cell_type": "markdown",
   "id": "d8a3b870",
   "metadata": {},
   "source": [
    "Confidence interval using Bootstrapping: <b>[-0.1514, -0.0291]\n",
    "    \n",
    "Confidence interval using CLT: <b>[-0.2772, -0.0169]\n",
    "\n",
    "Confidence interval using t.test: <b>[-0.1539, -0.0287]"
   ]
  },
  {
   "cell_type": "markdown",
   "id": "235dc371-35a3-4332-9e2d-54e79c3df184",
   "metadata": {
    "tags": []
   },
   "source": [
    "# Discussion\n",
    "## Findings\n",
    "#### Hypothesis Test\n",
    "From the hypothesis test conducted in the report, a p-value of 0.06 is obtained. At a 5% significance level, this p-value leads to a rejection of the null hypothesis. This suggests that with 95% confidence, the mean alcohol content of red and white wines is significantly different. This conclusion supports the estimates made in the preliminary results that white wine had a slightly higher and not equal mean alcohol content compared to red wine.\n",
    "\n",
    "#### Comparing Bootstrapping and Asymptotics Methods For 95% Confidence Intervals\n",
    "Overall, the confidence intervals obtained by all three methods (bootstrapping, CLT, t-distribution) were relatively similar. Each of the intervals did not contain the value 0, which supports the hypothesis test results that the mean alcohol content in red and white wines are not equal. Furthermore, the negative signs for the confidence intervals support the preliminary results that suggested that white wines had a higher alcohol concentration than red wines.\n",
    "\n",
    "Moreover, the confidence intervals obtained by bootstrapping [-0.1514, -0.0291] and the t-distribution were remarkably similar [-0.1539, -0.0287]. Although the interval obtained through the CLT [-0.2772, -0.0169] was reasonably close, the interval is wider than the others and relatively different from bootstrapping and t-distribution intervals. Additionally, as shown in Figure 6, some of the confidence interval estimates using the CLT did contain zero, which would contradict the findings obtained from both the hypothesis test and confidence intervals from bootstrapping and the t-distribution.\n",
    "\n",
    "Hence, the interval obtained by the CLT and the assumption of normality is likely the least reliable of the 95% confidence intervals. This may be because the t-distribution accounts for additional uncertainty that the normal distribution does not account for due to the heavier tails of the t-distribution. Hence, the t-distribution can give a more precise estimation of the interval.\n",
    "\n",
    "Overall, the three confidence intervals all support the hypothesis test results. Although the difference in means is relatively small, the confidence intervals suggest that the mean alcohol content by percent volume of white wines is significantly higher than red wines with a 95% confidence.\n",
    "\n",
    "\n",
    "## What impact could such findings have?\n",
    "The study provides information on how the mean alcohol content of red and white wines differs. The study suggests that white wines have a higher mean alcohol content by percent volume than red wines. These findings can impact both producers of wine and consumers. \n",
    "To reduce the risk of alcohol intoxication and its pertaining consequences to limiting alcohol consumption, bartenders are required to keep a tally of each person's consumption — in \"standard drinks” (P. Cortez, n.d.). For example, 5 fluid ounces of wine is considered 1 standard drink (The Nutrition Source, 2012). While, from this study, red and white wine have varying mean alcohol contents, they are treated the same (Q. Zhang, n.d.). This can harm the consumer should the consumer drink white wine (being of a higher alcohol percentage) (P. Cortez, n.d.).\n",
    "From the consumer's point-of-view, it can impact purchasing decisions depending on how intoxicated one hopes to get. It is also important for the consumer to note that, given such differing mean alcohol contents, even though they are both the same type of liquor (i.e., wine), it is crucial to be wary of which liquor one is purchasing as consuming the same amount of the two liquors it can lead to different levels of intoxication. \n",
    "\n",
    "\n",
    "## What future questions could this lead to?\n",
    "The study can be further analyzed by possibly exploring the relation between alcohol content and the other variables in the dataset. Such as testing if any of the other variables are correlated with the alcohol concentration to help make a regression model in future. Perhaps something can be said about the different liquors and the correlation between that and the total sulphur dioxide.\n",
    "\n",
    "Since consuming liquor is so popular regardless of its several negative consequences, it is worth further studying the correlation further. It could be interesting to explore more datasets that can help in comparing the impact that red wine and white wine (and their associated mean alcohol content) can have on the average blood alcohol level, which can be separated by the height, weight, age, and gender of an individual. This can provide insight into how different types of wines affect people's bodies differently. It can be interesting to understand how weight, for instance, can be a factor, resulting in those within a particular weight category being more cautious when consuming a specific type of wine.\n",
    "\n"
   ]
  },
  {
   "cell_type": "markdown",
   "id": "caa450c4",
   "metadata": {},
   "source": [
    "\n",
    "\n",
    "\n",
    "Word Count: 1997"
   ]
  },
  {
   "cell_type": "markdown",
   "id": "37ab7c6b-9232-42cd-a12d-8caaacbb4bb6",
   "metadata": {
    "tags": []
   },
   "source": [
    "# References\n",
    "P. Cortez, A. Cerdeira, F. Almeida, T. Matos and J. Reis. Modeling wine preferences by data mining from physicochemical properties. In Decision Support Systems, Elsevier, 47(4):547-553, 2009.\n",
    "\n",
    "The Nutrition Source, Harvard T.H. Chan, 18 Sept. 2012, https://www.hsph.harvard.edu/nutritionsource/healthy-drinks/drinks-to-consume-in-moderation/alcohol-full-story/.\n",
    "\n",
    "Zhang, Qing-An, et al. “Preliminary Study of the Effect of Ultrasound on Physicochemical Properties of Red Wine.” CyTA - Journal of Food, vol. 14, no. 1, 2015, pp. 55–64., https://doi.org/10.1080/19476337.2015.1045036.\n"
   ]
  }
 ],
 "metadata": {
  "kernelspec": {
   "display_name": "R",
   "language": "R",
   "name": "ir"
  },
  "language_info": {
   "codemirror_mode": "r",
   "file_extension": ".r",
   "mimetype": "text/x-r-source",
   "name": "R",
   "pygments_lexer": "r",
   "version": "4.1.2"
  }
 },
 "nbformat": 4,
 "nbformat_minor": 5
}
