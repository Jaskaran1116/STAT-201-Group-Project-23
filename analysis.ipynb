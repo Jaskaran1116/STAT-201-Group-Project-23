{
 "cells": [
  {
   "cell_type": "markdown",
   "id": "d044236b-ceff-4dd9-8740-333f0c213f24",
   "metadata": {
    "tags": []
   },
   "source": [
    "# Comparing Alcohol Content in Red and White Wines"
   ]
  },
  {
   "cell_type": "markdown",
   "id": "963cf8a2-3894-45d7-9549-067fcda5e48d",
   "metadata": {},
   "source": [
    "##### By: Jaskaran Singh, Justin Wong, Matthew Gillies, Shehab Khan"
   ]
  },
  {
   "cell_type": "markdown",
   "id": "935dc1c2-0952-4bb8-b46e-d330a2399583",
   "metadata": {},
   "source": [
    "Wine Quality Data Set:\n",
    "https://archive.ics.uci.edu/ml/datasets/Wine+Quality"
   ]
  },
  {
   "cell_type": "markdown",
   "id": "816dd235-b45b-4890-b1b1-150a0bcf2bb9",
   "metadata": {},
   "source": [
    "# Introduction"
   ]
  },
  {
   "cell_type": "markdown",
   "id": "16d663ff-399d-4e0b-9f60-daecff9b48cd",
   "metadata": {},
   "source": [
    "For those who drink wine, knowing the alcohol content of the wine is often very important to them. The alcohol content of both red and white wines are a quality of interest for both consumers and producers. In our study,  the mean alcohol content of wines from red and white wine datasets are compared. The first data set contains 1599 red wines with data on their composition and quality. The other data set contains 4898 white wines with data on their composition and quality. A hypothesis test will be performed comparing the mean alcohol content of the 2 types of wine and a confidence interval of the difference of means of alcohol content in the two types of wine(red and white) will be obtained. Another aspect of our report will be to estimate this confidence interval using asymptotics and will compare the two techniques. Along with this the quantiles for the alcohol concentration in red and white wine will be analyzed.\n",
    "\n",
    "## Attribute Information \n",
    "- `fixed acidity` - Primary fixed acids found in wine such as tartaric and malic acid. \n",
    "- `volatile acidity` - It is the gaseous acids present in the wine \n",
    "- `citric acid` - It is a weak organic fluid, found in citrus fruits naturally\n",
    "- `residual sugar` - Amount of sugar left after fermentation \n",
    "- `chlorides` - Amount of salt present in wine \n",
    "- `free sulfur dioxide` - So2 is used for prevention of wine by oxidation and microbial spoilage \n",
    "- `total sulfur dioxide`\n",
    "- `density` - The density of the wine \n",
    "- `pH` - Used for checking the amount of acidity \n",
    "- `sulphates` - Additional sulfites preserve the freshness and protects the wine from oxidation and bacteria \n",
    "- `alcohol` - Percent of alcohol present in the wine\n",
    "- `quality` - Output variable \n",
    "\n"
   ]
  },
  {
   "cell_type": "markdown",
   "id": "5da4893a-8ee2-4958-a8fc-3ac13d81a371",
   "metadata": {},
   "source": [
    "# Methods and Results\n",
    "## Preliminary Results"
   ]
  },
  {
   "cell_type": "code",
   "execution_count": 205,
   "id": "be3bd660-7d27-49bc-9224-91beee1314bc",
   "metadata": {},
   "outputs": [],
   "source": [
    "suppressPackageStartupMessages({\n",
    "library(cowplot)\n",
    "library(digest)\n",
    "library(gridExtra)\n",
    "library(repr)\n",
    "library(tidyverse)\n",
    "library(tidymodels)\n",
    "library(GGally)\n",
    "library(infer)\n",
    "})\n"
   ]
  },
  {
   "cell_type": "code",
   "execution_count": 206,
   "id": "7d217eff-9f52-4f22-834b-2bb2ef83353e",
   "metadata": {},
   "outputs": [
    {
     "name": "stdout",
     "output_type": "stream",
     "text": [
      "Figure 1: Initial Wine Data"
     ]
    },
    {
     "data": {
      "text/html": [
       "<table class=\"dataframe\">\n",
       "<caption>A data.frame: 6 × 13</caption>\n",
       "<thead>\n",
       "\t<tr><th></th><th scope=col>fixed.acidity</th><th scope=col>volatile.acidity</th><th scope=col>citric.acid</th><th scope=col>residual.sugar</th><th scope=col>chlorides</th><th scope=col>free.sulfur.dioxide</th><th scope=col>total.sulfur.dioxide</th><th scope=col>density</th><th scope=col>pH</th><th scope=col>sulphates</th><th scope=col>alcohol</th><th scope=col>quality</th><th scope=col>type</th></tr>\n",
       "\t<tr><th></th><th scope=col>&lt;dbl&gt;</th><th scope=col>&lt;dbl&gt;</th><th scope=col>&lt;dbl&gt;</th><th scope=col>&lt;dbl&gt;</th><th scope=col>&lt;dbl&gt;</th><th scope=col>&lt;dbl&gt;</th><th scope=col>&lt;dbl&gt;</th><th scope=col>&lt;dbl&gt;</th><th scope=col>&lt;dbl&gt;</th><th scope=col>&lt;dbl&gt;</th><th scope=col>&lt;dbl&gt;</th><th scope=col>&lt;dbl&gt;</th><th scope=col>&lt;chr&gt;</th></tr>\n",
       "</thead>\n",
       "<tbody>\n",
       "\t<tr><th scope=row>1</th><td> 7.4</td><td>0.70</td><td>0.00</td><td>1.9</td><td>0.076</td><td>11</td><td>34</td><td>0.9978</td><td>3.51</td><td>0.56</td><td>9.4</td><td>5</td><td>red</td></tr>\n",
       "\t<tr><th scope=row>2</th><td> 7.8</td><td>0.88</td><td>0.00</td><td>2.6</td><td>0.098</td><td>25</td><td>67</td><td>0.9968</td><td>3.20</td><td>0.68</td><td>9.8</td><td>5</td><td>red</td></tr>\n",
       "\t<tr><th scope=row>3</th><td> 7.8</td><td>0.76</td><td>0.04</td><td>2.3</td><td>0.092</td><td>15</td><td>54</td><td>0.9970</td><td>3.26</td><td>0.65</td><td>9.8</td><td>5</td><td>red</td></tr>\n",
       "\t<tr><th scope=row>4</th><td>11.2</td><td>0.28</td><td>0.56</td><td>1.9</td><td>0.075</td><td>17</td><td>60</td><td>0.9980</td><td>3.16</td><td>0.58</td><td>9.8</td><td>6</td><td>red</td></tr>\n",
       "\t<tr><th scope=row>5</th><td> 7.4</td><td>0.70</td><td>0.00</td><td>1.9</td><td>0.076</td><td>11</td><td>34</td><td>0.9978</td><td>3.51</td><td>0.56</td><td>9.4</td><td>5</td><td>red</td></tr>\n",
       "\t<tr><th scope=row>6</th><td> 7.4</td><td>0.66</td><td>0.00</td><td>1.8</td><td>0.075</td><td>13</td><td>40</td><td>0.9978</td><td>3.51</td><td>0.56</td><td>9.4</td><td>5</td><td>red</td></tr>\n",
       "</tbody>\n",
       "</table>\n"
      ],
      "text/latex": [
       "A data.frame: 6 × 13\n",
       "\\begin{tabular}{r|lllllllllllll}\n",
       "  & fixed.acidity & volatile.acidity & citric.acid & residual.sugar & chlorides & free.sulfur.dioxide & total.sulfur.dioxide & density & pH & sulphates & alcohol & quality & type\\\\\n",
       "  & <dbl> & <dbl> & <dbl> & <dbl> & <dbl> & <dbl> & <dbl> & <dbl> & <dbl> & <dbl> & <dbl> & <dbl> & <chr>\\\\\n",
       "\\hline\n",
       "\t1 &  7.4 & 0.70 & 0.00 & 1.9 & 0.076 & 11 & 34 & 0.9978 & 3.51 & 0.56 & 9.4 & 5 & red\\\\\n",
       "\t2 &  7.8 & 0.88 & 0.00 & 2.6 & 0.098 & 25 & 67 & 0.9968 & 3.20 & 0.68 & 9.8 & 5 & red\\\\\n",
       "\t3 &  7.8 & 0.76 & 0.04 & 2.3 & 0.092 & 15 & 54 & 0.9970 & 3.26 & 0.65 & 9.8 & 5 & red\\\\\n",
       "\t4 & 11.2 & 0.28 & 0.56 & 1.9 & 0.075 & 17 & 60 & 0.9980 & 3.16 & 0.58 & 9.8 & 6 & red\\\\\n",
       "\t5 &  7.4 & 0.70 & 0.00 & 1.9 & 0.076 & 11 & 34 & 0.9978 & 3.51 & 0.56 & 9.4 & 5 & red\\\\\n",
       "\t6 &  7.4 & 0.66 & 0.00 & 1.8 & 0.075 & 13 & 40 & 0.9978 & 3.51 & 0.56 & 9.4 & 5 & red\\\\\n",
       "\\end{tabular}\n"
      ],
      "text/markdown": [
       "\n",
       "A data.frame: 6 × 13\n",
       "\n",
       "| <!--/--> | fixed.acidity &lt;dbl&gt; | volatile.acidity &lt;dbl&gt; | citric.acid &lt;dbl&gt; | residual.sugar &lt;dbl&gt; | chlorides &lt;dbl&gt; | free.sulfur.dioxide &lt;dbl&gt; | total.sulfur.dioxide &lt;dbl&gt; | density &lt;dbl&gt; | pH &lt;dbl&gt; | sulphates &lt;dbl&gt; | alcohol &lt;dbl&gt; | quality &lt;dbl&gt; | type &lt;chr&gt; |\n",
       "|---|---|---|---|---|---|---|---|---|---|---|---|---|---|\n",
       "| 1 |  7.4 | 0.70 | 0.00 | 1.9 | 0.076 | 11 | 34 | 0.9978 | 3.51 | 0.56 | 9.4 | 5 | red |\n",
       "| 2 |  7.8 | 0.88 | 0.00 | 2.6 | 0.098 | 25 | 67 | 0.9968 | 3.20 | 0.68 | 9.8 | 5 | red |\n",
       "| 3 |  7.8 | 0.76 | 0.04 | 2.3 | 0.092 | 15 | 54 | 0.9970 | 3.26 | 0.65 | 9.8 | 5 | red |\n",
       "| 4 | 11.2 | 0.28 | 0.56 | 1.9 | 0.075 | 17 | 60 | 0.9980 | 3.16 | 0.58 | 9.8 | 6 | red |\n",
       "| 5 |  7.4 | 0.70 | 0.00 | 1.9 | 0.076 | 11 | 34 | 0.9978 | 3.51 | 0.56 | 9.4 | 5 | red |\n",
       "| 6 |  7.4 | 0.66 | 0.00 | 1.8 | 0.075 | 13 | 40 | 0.9978 | 3.51 | 0.56 | 9.4 | 5 | red |\n",
       "\n"
      ],
      "text/plain": [
       "  fixed.acidity volatile.acidity citric.acid residual.sugar chlorides\n",
       "1  7.4          0.70             0.00        1.9            0.076    \n",
       "2  7.8          0.88             0.00        2.6            0.098    \n",
       "3  7.8          0.76             0.04        2.3            0.092    \n",
       "4 11.2          0.28             0.56        1.9            0.075    \n",
       "5  7.4          0.70             0.00        1.9            0.076    \n",
       "6  7.4          0.66             0.00        1.8            0.075    \n",
       "  free.sulfur.dioxide total.sulfur.dioxide density pH   sulphates alcohol\n",
       "1 11                  34                   0.9978  3.51 0.56      9.4    \n",
       "2 25                  67                   0.9968  3.20 0.68      9.8    \n",
       "3 15                  54                   0.9970  3.26 0.65      9.8    \n",
       "4 17                  60                   0.9980  3.16 0.58      9.8    \n",
       "5 11                  34                   0.9978  3.51 0.56      9.4    \n",
       "6 13                  40                   0.9978  3.51 0.56      9.4    \n",
       "  quality type\n",
       "1 5       red \n",
       "2 5       red \n",
       "3 5       red \n",
       "4 6       red \n",
       "5 5       red \n",
       "6 5       red "
      ]
     },
     "metadata": {},
     "output_type": "display_data"
    }
   ],
   "source": [
    "# Read the two dataset(red wine and white wine csv) into jupyter notebook\n",
    "\n",
    "wine_quality <- read_delim('winequality-red.csv', show_col_types = FALSE)\n",
    "names(wine_quality) <- make.names(names(wine_quality), unique = TRUE)\n",
    "\n",
    "wine_quality <- cbind(wine_quality, type = \"red\")\n",
    "\n",
    "\n",
    "wine_quality_white <- read_delim('winequality-white.csv', show_col_types = FALSE)\n",
    "names(wine_quality_white) <- make.names(names(wine_quality_white), unique = TRUE)\n",
    "\n",
    "wine_quality_white <- cbind(wine_quality_white, type = \"white\")\n",
    "\n",
    "# Now we would combine the two datasets based on the type of wine(red and white)\n",
    "\n",
    "combined_data <- rbind(wine_quality, wine_quality_white)  \n",
    "cat(\"Figure 1: Initial Wine Data\")\n",
    "head(combined_data) "
   ]
  },
  {
   "cell_type": "markdown",
   "id": "04f385ba-659e-4caa-a7c7-5d165d6aee3a",
   "metadata": {},
   "source": [
    "### Observed means for alcohol content in red and white wine\n",
    "A random sample of size 100 was taken from each dataset and the average alcohol content was estimated for both red and white wine."
   ]
  },
  {
   "cell_type": "code",
   "execution_count": 207,
   "id": "456fb8f7-e46e-4e88-b333-a1c12ab323ab",
   "metadata": {},
   "outputs": [
    {
     "name": "stderr",
     "output_type": "stream",
     "text": [
      "Adding missing grouping variables: `replicate`\n",
      "\n",
      "Adding missing grouping variables: `replicate`\n",
      "\n"
     ]
    },
    {
     "name": "stdout",
     "output_type": "stream",
     "text": [
      "Mean of alcohol content from red wine sample:"
     ]
    },
    {
     "data": {
      "text/html": [
       "10.2775"
      ],
      "text/latex": [
       "10.2775"
      ],
      "text/markdown": [
       "10.2775"
      ],
      "text/plain": [
       "[1] 10.2775"
      ]
     },
     "metadata": {},
     "output_type": "display_data"
    },
    {
     "name": "stdout",
     "output_type": "stream",
     "text": [
      "Mean of alcohol content from white wine sample:"
     ]
    },
    {
     "data": {
      "text/html": [
       "10.429"
      ],
      "text/latex": [
       "10.429"
      ],
      "text/markdown": [
       "10.429"
      ],
      "text/plain": [
       "[1] 10.429"
      ]
     },
     "metadata": {},
     "output_type": "display_data"
    }
   ],
   "source": [
    "set.seed(4242)\n",
    "\n",
    "#Taking a sample of size 100 from the dataset\n",
    "\n",
    "#red wine sample\n",
    "alcohol_sample <- wine_quality %>% \n",
    "    rep_sample_n(size = 100, replace = FALSE) %>% \n",
    "    select(alcohol)\n",
    "\n",
    "#white wine sample\n",
    "alcohol_white_sample <- wine_quality_white %>% \n",
    "     rep_sample_n(size = 100, replace = FALSE) %>% \n",
    "     select(alcohol)\n",
    "\n",
    "\n",
    "#Calculate the mean of alcohol content from the red wine sample \n",
    "observed_alc_mean <- alcohol_sample %>% \n",
    "    specify(response = alcohol) %>% \n",
    "    calculate(stat = \"mean\")\n",
    "\n",
    "#Calculate the mean of alcohol content from the white wine sample\n",
    "observed_alc_white_mean <- alcohol_white_sample %>% \n",
    "    specify(response = alcohol) %>% \n",
    "    calculate(stat = \"mean\")\n",
    "\n",
    "cat(\"Mean of alcohol content from red wine sample:\")\n",
    "pull(observed_alc_mean)\n",
    "cat(\"Mean of alcohol content from white wine sample:\")\n",
    "pull(observed_alc_white_mean)\n",
    "\n"
   ]
  },
  {
   "cell_type": "markdown",
   "id": "dac34400-5a2f-4203-9a58-0b6f99eb645a",
   "metadata": {},
   "source": [
    "It can be estimated that the mean alcohol content in red wine is 10.277(vol.%) and the mean alcohol content in white wine is 10.429(vol.%)"
   ]
  },
  {
   "cell_type": "markdown",
   "id": "09465a4b-fe61-4502-b0e9-a53faaf3b601",
   "metadata": {},
   "source": [
    "### Investigation on Quantiles for the alcohol content in red and white wine "
   ]
  },
  {
   "cell_type": "code",
   "execution_count": 208,
   "id": "8dacd9ef-8091-4529-9117-d614bbbe01d5",
   "metadata": {},
   "outputs": [],
   "source": [
    "## Take a sample of the datasets and select the variable of interest (alcohol)\n",
    "sample <- wine_quality %>%\n",
    "    rep_sample_n(reps = 1, size = 200, replace = FALSE) %>%\n",
    "    ungroup() %>%\n",
    "    select(alcohol)\n",
    "\n",
    "sample_white <- wine_quality_white %>%\n",
    "    rep_sample_n(reps = 1, size = 200, replace = FALSE) %>%\n",
    "    ungroup() %>%\n",
    "    select(alcohol)\n"
   ]
  },
  {
   "cell_type": "code",
   "execution_count": 209,
   "id": "4bf2e726-ccf6-4a24-9dcf-8d1a36f1704d",
   "metadata": {},
   "outputs": [
    {
     "data": {
      "text/html": [
       "<strong>25%:</strong> 9.5"
      ],
      "text/latex": [
       "\\textbf{25\\textbackslash{}\\%:} 9.5"
      ],
      "text/markdown": [
       "**25%:** 9.5"
      ],
      "text/plain": [
       "25% \n",
       "9.5 "
      ]
     },
     "metadata": {},
     "output_type": "display_data"
    },
    {
     "data": {
      "text/html": [
       "<strong>75%:</strong> 11"
      ],
      "text/latex": [
       "\\textbf{75\\textbackslash{}\\%:} 11"
      ],
      "text/markdown": [
       "**75%:** 11"
      ],
      "text/plain": [
       "75% \n",
       " 11 "
      ]
     },
     "metadata": {},
     "output_type": "display_data"
    },
    {
     "data": {
      "text/html": [
       "<strong>25%:</strong> 9.4"
      ],
      "text/latex": [
       "\\textbf{25\\textbackslash{}\\%:} 9.4"
      ],
      "text/markdown": [
       "**25%:** 9.4"
      ],
      "text/plain": [
       "25% \n",
       "9.4 "
      ]
     },
     "metadata": {},
     "output_type": "display_data"
    },
    {
     "data": {
      "text/html": [
       "<strong>75%:</strong> 11.325"
      ],
      "text/latex": [
       "\\textbf{75\\textbackslash{}\\%:} 11.325"
      ],
      "text/markdown": [
       "**75%:** 11.325"
      ],
      "text/plain": [
       "   75% \n",
       "11.325 "
      ]
     },
     "metadata": {},
     "output_type": "display_data"
    },
    {
     "data": {
      "text/html": [
       "<strong>75%:</strong> 1.5"
      ],
      "text/latex": [
       "\\textbf{75\\textbackslash{}\\%:} 1.5"
      ],
      "text/markdown": [
       "**75%:** 1.5"
      ],
      "text/plain": [
       "75% \n",
       "1.5 "
      ]
     },
     "metadata": {},
     "output_type": "display_data"
    },
    {
     "data": {
      "text/html": [
       "<strong>75%:</strong> 1.925"
      ],
      "text/latex": [
       "\\textbf{75\\textbackslash{}\\%:} 1.925"
      ],
      "text/markdown": [
       "**75%:** 1.925"
      ],
      "text/plain": [
       "  75% \n",
       "1.925 "
      ]
     },
     "metadata": {},
     "output_type": "display_data"
    }
   ],
   "source": [
    "## Calculate 0.25th and 0.75th quantiles\n",
    "\n",
    "#0.25th quantile for red wine \n",
    "lower_quantile <- sample %>%\n",
    "    pull(alcohol) %>%\n",
    "    quantile(0.25)\n",
    "\n",
    "#0.75th quantile for red wine\n",
    "upper_quantile <- sample %>%\n",
    "    pull(alcohol) %>%\n",
    "    quantile(0.75)\n",
    "\n",
    "#0.25th quantile for white wine \n",
    "lower_quantile_white <- sample_white %>%\n",
    "    pull(alcohol) %>%\n",
    "    quantile(0.25)\n",
    "\n",
    "#0.75th quantile for white wine \n",
    "upper_quantile_white <- sample_white %>%\n",
    "    pull(alcohol) %>%\n",
    "    quantile(0.75)\n",
    "\n",
    "# difference of upper and lower quantile for red wine \n",
    "iqr <- upper_quantile - lower_quantile\n",
    "\n",
    "#difference of upper and lower quantile for white wine \n",
    "iqr_white <- upper_quantile_white - lower_quantile_white\n",
    "\n",
    "\n",
    "\n",
    "lower_quantile #0.25th quantile for red wine \n",
    "upper_quantile #0.75th quantile for red wine\n",
    "lower_quantile_white #0.25th quantile for white wine \n",
    "upper_quantile_white #0.75th quantile for white wine \n",
    "iqr # difference of upper and lower quantile for red wine \n",
    "iqr_white #difference of upper and lower quantile for white wine "
   ]
  },
  {
   "cell_type": "markdown",
   "id": "9619fa21-32bc-40fb-aa03-c5e2281ea154",
   "metadata": {},
   "source": [
    "From the values produced above we see that the alcohol content in white wine is not equal to the alcohol content in red wine. "
   ]
  },
  {
   "cell_type": "code",
   "execution_count": 210,
   "id": "893b559a-ab71-48c4-a818-80af622a2b12",
   "metadata": {},
   "outputs": [
    {
     "name": "stdout",
     "output_type": "stream",
     "text": [
      "Figure 2: Sample distributions of red and white wine populations"
     ]
    },
    {
     "data": {
      "image/png": "[encoded data removed]",
      "text/plain": [
       "plot without title"
      ]
     },
     "metadata": {
      "image/png": {
       "height": 480,
       "width": 480
      }
     },
     "output_type": "display_data"
    }
   ],
   "source": [
    "options(repr.plot.width = 8, repr.plot.height = 8)\n",
    "## Plot the distribution of the sample with quantiles \n",
    "quantile_plot <- \n",
    "    sample %>% \n",
    "    ggplot(aes(x = alcohol)) +\n",
    "    theme_bw() +\n",
    "    geom_histogram(binwidth = 0.25, color = 'white') +\n",
    "    geom_vline(xintercept = lower_quantile, colour = \"red\", size = 1) +\n",
    "    geom_vline(xintercept = upper_quantile, colour = \"red\", size = 1) +\n",
    "    labs(title = \"Sample Distribution of red wine population (200 observations)\",\n",
    "         x = \"Alcohol Concentration\") +\n",
    "    theme(plot.title = element_text(size = 9)) +\n",
    "    theme(axis.title = element_text(size = 15))\n",
    "\n",
    "quantile_plot_white <- \n",
    "    sample_white %>% \n",
    "    ggplot(aes(x = alcohol)) +\n",
    "    theme_bw() +\n",
    "    geom_histogram(binwidth = 0.25, color = 'white') +\n",
    "    geom_vline(xintercept = lower_quantile_white, colour = \"red\", size = 1) +\n",
    "    geom_vline(xintercept = upper_quantile_white, colour = \"red\", size = 1) +\n",
    "    labs(title = \"Sample Distribution of white wine population (200 observations)\",\n",
    "         x = \"Alcohol Concentration\") +\n",
    "    theme(plot.title = element_text(size = 9)) +\n",
    "    theme(axis.title = element_text(size = 15))\n",
    "\n",
    "\n",
    "\n",
    "plots_row <- plot_grid(quantile_plot + \n",
    "                           theme(axis.text.x = element_text(angle = 90)),\n",
    "\n",
    "                           quantile_plot_white +  \n",
    "                           theme(axis.text.x = element_text(angle = 90)), \n",
    "                           ncol = 2)\n",
    "\n",
    "dist_grid <- plot_grid(plots_row, \n",
    "                        rel_heights = c(0.5, 1), rel_widths = c(2, 1))\n",
    "cat(\"Figure 2: Sample distributions of red and white wine populations\")\n",
    "dist_grid\n"
   ]
  },
  {
   "cell_type": "markdown",
   "id": "1af74031-2a0b-4623-8621-0d14f6bfdfa4",
   "metadata": {},
   "source": [
    "After examining the histograms, the previous statement can be refuted, as it seems there is an usual amount of \n",
    "values around the point 9.5. It seems that the sample taken from the red wine population is slightly right-skewed, which explains the larger IQR. Therefore an estimate is formed that the variance of alcohol in red wine and alcohol in white wine are approximately similar. To test this observation a hypothesis test will be conducted examining to see if the difference in means of the alcohol contents are significant with a 5% significance level.\n"
   ]
  },
  {
   "cell_type": "markdown",
   "id": "b258e0fe-af8a-4168-8b7b-b396f59b1ad5",
   "metadata": {},
   "source": [
    "### Methods: Plan\n",
    "This dataset is trustworthy since it comes from a reliable source since it was from a database recommended on the course page. Moreover, an academic paper (Cortez et. al) was written on this data, further suggesting that it is a reliable source of data.\n",
    "To summarize the preliminary findings, the observed mean alcohol content for both red and white wines was estimated using sampling. Furthermore, the IQR of the alcohol content of both types of wine was analyzed to compare the differences in alcohol content. This illustrated that the alcohol contents of both wines were fairly similar. However, to test the significance of this difference a hypothesis test will be conducted on these variables. \n",
    "\n",
    "A hypothesis test will be conducted using the infer package where in the null hypothesis states that there is no significant difference between average alcohol amount in red wine and average alcohol amount in white wine. Additionally a 95% confidence interval for the difference in means will be determined to further support the analysis. \n",
    "\n",
    "## Results\n",
    "### Hypothesis Test\n",
    "H<sub>0</sub> : There is no significant difference between average alcohol amount in red wine and average alcohol amount in white wine (Alcohol Content of Red Wine - Alcohol Content of White Wine)\n",
    "\n",
    "H<sub>A</sub> : There is significant difference between average alcohol amount in red wine and average alcohol amount in white wine (Alcohol Content of Red Wine - Alcohol Content of White Wine)"
   ]
  },
  {
   "cell_type": "code",
   "execution_count": 211,
   "id": "d20559fb-6271-4018-ad19-9deb8df9927f",
   "metadata": {},
   "outputs": [
    {
     "name": "stdout",
     "output_type": "stream",
     "text": [
      "Figure 3: Filtered data containing only alcohol amount and type of wine"
     ]
    },
    {
     "data": {
      "text/html": [
       "<table class=\"dataframe\">\n",
       "<caption>A data.frame: 6 × 2</caption>\n",
       "<thead>\n",
       "\t<tr><th></th><th scope=col>alcohol</th><th scope=col>type</th></tr>\n",
       "\t<tr><th></th><th scope=col>&lt;dbl&gt;</th><th scope=col>&lt;chr&gt;</th></tr>\n",
       "</thead>\n",
       "<tbody>\n",
       "\t<tr><th scope=row>1</th><td>9.4</td><td>red</td></tr>\n",
       "\t<tr><th scope=row>2</th><td>9.8</td><td>red</td></tr>\n",
       "\t<tr><th scope=row>3</th><td>9.8</td><td>red</td></tr>\n",
       "\t<tr><th scope=row>4</th><td>9.8</td><td>red</td></tr>\n",
       "\t<tr><th scope=row>5</th><td>9.4</td><td>red</td></tr>\n",
       "\t<tr><th scope=row>6</th><td>9.4</td><td>red</td></tr>\n",
       "</tbody>\n",
       "</table>\n"
      ],
      "text/latex": [
       "A data.frame: 6 × 2\n",
       "\\begin{tabular}{r|ll}\n",
       "  & alcohol & type\\\\\n",
       "  & <dbl> & <chr>\\\\\n",
       "\\hline\n",
       "\t1 & 9.4 & red\\\\\n",
       "\t2 & 9.8 & red\\\\\n",
       "\t3 & 9.8 & red\\\\\n",
       "\t4 & 9.8 & red\\\\\n",
       "\t5 & 9.4 & red\\\\\n",
       "\t6 & 9.4 & red\\\\\n",
       "\\end{tabular}\n"
      ],
      "text/markdown": [
       "\n",
       "A data.frame: 6 × 2\n",
       "\n",
       "| <!--/--> | alcohol &lt;dbl&gt; | type &lt;chr&gt; |\n",
       "|---|---|---|\n",
       "| 1 | 9.4 | red |\n",
       "| 2 | 9.8 | red |\n",
       "| 3 | 9.8 | red |\n",
       "| 4 | 9.8 | red |\n",
       "| 5 | 9.4 | red |\n",
       "| 6 | 9.4 | red |\n",
       "\n"
      ],
      "text/plain": [
       "  alcohol type\n",
       "1 9.4     red \n",
       "2 9.8     red \n",
       "3 9.8     red \n",
       "4 9.8     red \n",
       "5 9.4     red \n",
       "6 9.4     red "
      ]
     },
     "metadata": {},
     "output_type": "display_data"
    }
   ],
   "source": [
    "# Selecting the columns of interest from the data\n",
    "alcohol_data <-\n",
    "combined_data %>% \n",
    "select(alcohol, type) %>% \n",
    "filter(!is.na(alcohol))\n",
    "cat(\"Figure 3: Filtered data containing only alcohol amount and type of wine\")\n",
    "head(alcohol_data)"
   ]
  },
  {
   "cell_type": "code",
   "execution_count": 212,
   "id": "9081dbdb-05e7-41f2-b59a-0cec58fb3cb3",
   "metadata": {},
   "outputs": [
    {
     "name": "stdout",
     "output_type": "stream",
     "text": [
      "Figure 4: Number of data points for red and white wine"
     ]
    },
    {
     "data": {
      "text/html": [
       "<table class=\"dataframe\">\n",
       "<caption>A data.frame: 2 × 2</caption>\n",
       "<thead>\n",
       "\t<tr><th scope=col>type</th><th scope=col>n</th></tr>\n",
       "\t<tr><th scope=col>&lt;chr&gt;</th><th scope=col>&lt;int&gt;</th></tr>\n",
       "</thead>\n",
       "<tbody>\n",
       "\t<tr><td>red  </td><td>1599</td></tr>\n",
       "\t<tr><td>white</td><td>4898</td></tr>\n",
       "</tbody>\n",
       "</table>\n"
      ],
      "text/latex": [
       "A data.frame: 2 × 2\n",
       "\\begin{tabular}{ll}\n",
       " type & n\\\\\n",
       " <chr> & <int>\\\\\n",
       "\\hline\n",
       "\t red   & 1599\\\\\n",
       "\t white & 4898\\\\\n",
       "\\end{tabular}\n"
      ],
      "text/markdown": [
       "\n",
       "A data.frame: 2 × 2\n",
       "\n",
       "| type &lt;chr&gt; | n &lt;int&gt; |\n",
       "|---|---|\n",
       "| red   | 1599 |\n",
       "| white | 4898 |\n",
       "\n"
      ],
      "text/plain": [
       "  type  n   \n",
       "1 red   1599\n",
       "2 white 4898"
      ]
     },
     "metadata": {},
     "output_type": "display_data"
    }
   ],
   "source": [
    "# Counting the amount of each type\n",
    "wines_count <-\n",
    "    alcohol_data %>% \n",
    "    count(type)\n",
    "cat(\"Figure 4: Number of data points for red and white wine\")\n",
    "wines_count"
   ]
  },
  {
   "cell_type": "code",
   "execution_count": 213,
   "id": "a455bea5-0ddb-4986-917e-8d167dac249d",
   "metadata": {},
   "outputs": [
    {
     "data": {
      "text/html": [
       "<table class=\"dataframe\">\n",
       "<caption>A infer: 1 × 1</caption>\n",
       "<thead>\n",
       "\t<tr><th scope=col>stat</th></tr>\n",
       "\t<tr><th scope=col>&lt;dbl&gt;</th></tr>\n",
       "</thead>\n",
       "<tbody>\n",
       "\t<tr><td>-0.09128393</td></tr>\n",
       "</tbody>\n",
       "</table>\n"
      ],
      "text/latex": [
       "A infer: 1 × 1\n",
       "\\begin{tabular}{l}\n",
       " stat\\\\\n",
       " <dbl>\\\\\n",
       "\\hline\n",
       "\t -0.09128393\\\\\n",
       "\\end{tabular}\n"
      ],
      "text/markdown": [
       "\n",
       "A infer: 1 × 1\n",
       "\n",
       "| stat &lt;dbl&gt; |\n",
       "|---|\n",
       "| -0.09128393 |\n",
       "\n"
      ],
      "text/plain": [
       "  stat       \n",
       "1 -0.09128393"
      ]
     },
     "metadata": {},
     "output_type": "display_data"
    }
   ],
   "source": [
    "# Calculating the observed test statistic using the infer package\n",
    "obs_diff_in_means <- \n",
    "    alcohol_data  %>% \n",
    "    specify(formula = alcohol ~ type) %>%\n",
    "    calculate(stat = \"diff in means\", order = c(\"red\", \"white\"))\n",
    "obs_diff_in_means"
   ]
  },
  {
   "cell_type": "code",
   "execution_count": 214,
   "id": "cc73b9ad-eb6f-4541-a304-0916eb37c11c",
   "metadata": {},
   "outputs": [
    {
     "data": {
      "text/html": [
       "<table class=\"dataframe\">\n",
       "<caption>A infer: 6 × 2</caption>\n",
       "<thead>\n",
       "\t<tr><th scope=col>replicate</th><th scope=col>stat</th></tr>\n",
       "\t<tr><th scope=col>&lt;int&gt;</th><th scope=col>&lt;dbl&gt;</th></tr>\n",
       "</thead>\n",
       "<tbody>\n",
       "\t<tr><td>1</td><td> 0.01655833</td></tr>\n",
       "\t<tr><td>2</td><td> 0.01361893</td></tr>\n",
       "\t<tr><td>3</td><td> 0.02062868</td></tr>\n",
       "\t<tr><td>4</td><td> 0.06468639</td></tr>\n",
       "\t<tr><td>5</td><td>-0.05336770</td></tr>\n",
       "\t<tr><td>6</td><td> 0.03065248</td></tr>\n",
       "</tbody>\n",
       "</table>\n"
      ],
      "text/latex": [
       "A infer: 6 × 2\n",
       "\\begin{tabular}{ll}\n",
       " replicate & stat\\\\\n",
       " <int> & <dbl>\\\\\n",
       "\\hline\n",
       "\t 1 &  0.01655833\\\\\n",
       "\t 2 &  0.01361893\\\\\n",
       "\t 3 &  0.02062868\\\\\n",
       "\t 4 &  0.06468639\\\\\n",
       "\t 5 & -0.05336770\\\\\n",
       "\t 6 &  0.03065248\\\\\n",
       "\\end{tabular}\n"
      ],
      "text/markdown": [
       "\n",
       "A infer: 6 × 2\n",
       "\n",
       "| replicate &lt;int&gt; | stat &lt;dbl&gt; |\n",
       "|---|---|\n",
       "| 1 |  0.01655833 |\n",
       "| 2 |  0.01361893 |\n",
       "| 3 |  0.02062868 |\n",
       "| 4 |  0.06468639 |\n",
       "| 5 | -0.05336770 |\n",
       "| 6 |  0.03065248 |\n",
       "\n"
      ],
      "text/plain": [
       "  replicate stat       \n",
       "1 1          0.01655833\n",
       "2 2          0.01361893\n",
       "3 3          0.02062868\n",
       "4 4          0.06468639\n",
       "5 5         -0.05336770\n",
       "6 6          0.03065248"
      ]
     },
     "metadata": {},
     "output_type": "display_data"
    }
   ],
   "source": [
    "set.seed(1234)\n",
    "\n",
    "# Generating 1000 samples from the null distribution\n",
    "null_diff_in_means <- \n",
    "    alcohol_data %>% \n",
    "    specify(formula = alcohol ~ type) %>%\n",
    "    hypothesize(null = \"independence\") %>% \n",
    "    generate(reps = 1000, type = \"permute\")  %>%\n",
    "    calculate(stat = \"diff in means\", order = c(\"red\", \"white\"))\n",
    "head(null_diff_in_means)"
   ]
  },
  {
   "cell_type": "code",
   "execution_count": 215,
   "id": "aff7c603-3c73-40af-96bf-f3206d63fd8a",
   "metadata": {},
   "outputs": [
    {
     "name": "stdout",
     "output_type": "stream",
     "text": [
      "Figure 5: Results of hypothesis test with test-statistic shown"
     ]
    },
    {
     "data": {
      "image/png": "[encoded data removed]",
      "text/plain": [
       "plot without title"
      ]
     },
     "metadata": {
      "image/png": {
       "height": 480,
       "width": 480
      }
     },
     "output_type": "display_data"
    }
   ],
   "source": [
    "options(repr.plot.width = 8, repr.plot.height = 8)\n",
    "\n",
    "# Plot results of hypothesis test and observe the test-statistic using the vertical bar \n",
    "diff_in_means_plot <-\n",
    "    visualize(null_diff_in_means, bins = 10) + \n",
    "    shade_p_value(obs_stat = obs_diff_in_means, direction = \"both\") +\n",
    "    xlab(\"Difference in means\") +\n",
    "    theme(text = element_text(size = 20))\n",
    "cat(\"Figure 5: Results of hypothesis test with test-statistic shown\")\n",
    "diff_in_means_plot"
   ]
  },
  {
   "cell_type": "markdown",
   "id": "1d16c6a5-6748-44bc-910a-cc37a5a3f118",
   "metadata": {},
   "source": [
    "The above distribution shows the null distribution of the difference in means and where the test statistic lies. This distribution supports the analysis since there is hardly any shaded region, suggesting that the likelihood of the null hypothesis being true is quite small. If the null hypothesis was true, the shaded area would be much larger. "
   ]
  },
  {
   "cell_type": "code",
   "execution_count": 216,
   "id": "3880d47e-733c-4d84-9999-0cea2ffddb18",
   "metadata": {},
   "outputs": [
    {
     "data": {
      "text/html": [
       "<table class=\"dataframe\">\n",
       "<caption>A tibble: 1 × 1</caption>\n",
       "<thead>\n",
       "\t<tr><th scope=col>p_value</th></tr>\n",
       "\t<tr><th scope=col>&lt;dbl&gt;</th></tr>\n",
       "</thead>\n",
       "<tbody>\n",
       "\t<tr><td>0.006</td></tr>\n",
       "</tbody>\n",
       "</table>\n"
      ],
      "text/latex": [
       "A tibble: 1 × 1\n",
       "\\begin{tabular}{l}\n",
       " p\\_value\\\\\n",
       " <dbl>\\\\\n",
       "\\hline\n",
       "\t 0.006\\\\\n",
       "\\end{tabular}\n"
      ],
      "text/markdown": [
       "\n",
       "A tibble: 1 × 1\n",
       "\n",
       "| p_value &lt;dbl&gt; |\n",
       "|---|\n",
       "| 0.006 |\n",
       "\n"
      ],
      "text/plain": [
       "  p_value\n",
       "1 0.006  "
      ]
     },
     "metadata": {},
     "output_type": "display_data"
    }
   ],
   "source": [
    "# Finding the p-value\n",
    "p_value <-\n",
    "    null_diff_in_means %>% \n",
    "    get_p_value(obs_stat =  obs_diff_in_means, direction = \"both\")\n",
    "p_value"
   ]
  },
  {
   "cell_type": "markdown",
   "id": "a454a922-270f-4317-bc5d-1ecff0d6d0a4",
   "metadata": {},
   "source": [
    "The obtained p-value is 0.006. At 5% significance level (0.05), the null hypothesis is rejected since the observed p-value is less than the significance level. Based on the hypothesis test, there is a 95% confidence that the alcohol content of red wine is not equal to the alcohol content of white wine. The hypothesis test supports previous findings that estimates that white wine would have a higher mean alcohol content of 10.429(vol.%) as compared to red wine that has a mean alcohol content of 10.277(vol.%). "
   ]
  },
  {
   "cell_type": "markdown",
   "id": "b3ed9627-16dd-48ca-8c4c-85954d272b82",
   "metadata": {},
   "source": [
    "### 95% Confidence Interval for Difference in Means Using Bootstrapping\n",
    "\n",
    "Next, the 95% confidence interval for the difference in means is constructed to examine whether the observed value of difference in means (-0.0912) lies within the bounds of the interval. "
   ]
  },
  {
   "cell_type": "code",
   "execution_count": 260,
   "id": "a326e3e6-09e3-4c97-b136-10065707179b",
   "metadata": {},
   "outputs": [
    {
     "data": {
      "text/html": [
       "<table class=\"dataframe\">\n",
       "<caption>A infer: 6 × 2</caption>\n",
       "<thead>\n",
       "\t<tr><th scope=col>replicate</th><th scope=col>stat</th></tr>\n",
       "\t<tr><th scope=col>&lt;int&gt;</th><th scope=col>&lt;dbl&gt;</th></tr>\n",
       "</thead>\n",
       "<tbody>\n",
       "\t<tr><td>1</td><td>-0.04611298</td></tr>\n",
       "\t<tr><td>2</td><td>-0.11425852</td></tr>\n",
       "\t<tr><td>3</td><td>-0.06270524</td></tr>\n",
       "\t<tr><td>4</td><td>-0.08153959</td></tr>\n",
       "\t<tr><td>5</td><td>-0.10979920</td></tr>\n",
       "\t<tr><td>6</td><td>-0.12491275</td></tr>\n",
       "</tbody>\n",
       "</table>\n"
      ],
      "text/latex": [
       "A infer: 6 × 2\n",
       "\\begin{tabular}{ll}\n",
       " replicate & stat\\\\\n",
       " <int> & <dbl>\\\\\n",
       "\\hline\n",
       "\t 1 & -0.04611298\\\\\n",
       "\t 2 & -0.11425852\\\\\n",
       "\t 3 & -0.06270524\\\\\n",
       "\t 4 & -0.08153959\\\\\n",
       "\t 5 & -0.10979920\\\\\n",
       "\t 6 & -0.12491275\\\\\n",
       "\\end{tabular}\n"
      ],
      "text/markdown": [
       "\n",
       "A infer: 6 × 2\n",
       "\n",
       "| replicate &lt;int&gt; | stat &lt;dbl&gt; |\n",
       "|---|---|\n",
       "| 1 | -0.04611298 |\n",
       "| 2 | -0.11425852 |\n",
       "| 3 | -0.06270524 |\n",
       "| 4 | -0.08153959 |\n",
       "| 5 | -0.10979920 |\n",
       "| 6 | -0.12491275 |\n",
       "\n"
      ],
      "text/plain": [
       "  replicate stat       \n",
       "1 1         -0.04611298\n",
       "2 2         -0.11425852\n",
       "3 3         -0.06270524\n",
       "4 4         -0.08153959\n",
       "5 5         -0.10979920\n",
       "6 6         -0.12491275"
      ]
     },
     "metadata": {},
     "output_type": "display_data"
    }
   ],
   "source": [
    "# Finding bootstrap distribution for the difference in means \n",
    "diff_in_means_bootstrap_dist <- \n",
    "    alcohol_data %>%\n",
    "    specify(formula = alcohol ~ type) %>%\n",
    "    generate(reps = 1000, type = \"bootstrap\") %>%\n",
    "    calculate(stat = \"diff in means\", order = c(\"red\", \"white\"))  \n",
    "head(diff_in_means_bootstrap_dist)"
   ]
  },
  {
   "cell_type": "code",
   "execution_count": 261,
   "id": "fd1e400f-e157-42ad-85b0-6c02845551c9",
   "metadata": {},
   "outputs": [
    {
     "name": "stdout",
     "output_type": "stream",
     "text": [
      "For the 95% confidence interval:"
     ]
    },
    {
     "data": {
      "text/html": [
       "<table class=\"dataframe\">\n",
       "<caption>A tibble: 1 × 2</caption>\n",
       "<thead>\n",
       "\t<tr><th scope=col>lower_ci</th><th scope=col>upper_ci</th></tr>\n",
       "\t<tr><th scope=col>&lt;dbl&gt;</th><th scope=col>&lt;dbl&gt;</th></tr>\n",
       "</thead>\n",
       "<tbody>\n",
       "\t<tr><td>-0.1513903</td><td>-0.01982609</td></tr>\n",
       "</tbody>\n",
       "</table>\n"
      ],
      "text/latex": [
       "A tibble: 1 × 2\n",
       "\\begin{tabular}{ll}\n",
       " lower\\_ci & upper\\_ci\\\\\n",
       " <dbl> & <dbl>\\\\\n",
       "\\hline\n",
       "\t -0.1513903 & -0.01982609\\\\\n",
       "\\end{tabular}\n"
      ],
      "text/markdown": [
       "\n",
       "A tibble: 1 × 2\n",
       "\n",
       "| lower_ci &lt;dbl&gt; | upper_ci &lt;dbl&gt; |\n",
       "|---|---|\n",
       "| -0.1513903 | -0.01982609 |\n",
       "\n"
      ],
      "text/plain": [
       "  lower_ci   upper_ci   \n",
       "1 -0.1513903 -0.01982609"
      ]
     },
     "metadata": {},
     "output_type": "display_data"
    }
   ],
   "source": [
    "# Finding the 95% confidence interval\n",
    "diff_in_means_ci <- \n",
    "    diff_in_means_bootstrap_dist %>% \n",
    "    get_confidence_interval(level = 0.95, type = \"percentile\")\n",
    "cat(\"For the 95% confidence interval:\")\n",
    "diff_in_means_ci"
   ]
  },
  {
   "cell_type": "markdown",
   "id": "71d3a7c9-3e52-406c-bf00-9faf0812983e",
   "metadata": {},
   "source": [
    "<b>Lower Bound : -0.1514</b>\n",
    "\n",
    "<b>Upper Bound : -0.0291</b>"
   ]
  },
  {
   "cell_type": "code",
   "execution_count": 262,
   "id": "de31c892-2447-4fa8-b244-a30d5490d58a",
   "metadata": {},
   "outputs": [
    {
     "name": "stdout",
     "output_type": "stream",
     "text": [
      "Figure 6: Distribution of the differnce in means with 95% CI shaded"
     ]
    },
    {
     "data": {
      "image/png": "[encoded data removed]",
      "text/plain": [
       "plot without title"
      ]
     },
     "metadata": {
      "image/png": {
       "height": 480,
       "width": 480
      }
     },
     "output_type": "display_data"
    }
   ],
   "source": [
    "options(repr.plot.width = 8, repr.plot.height = 8)\n",
    "# Plotting the difference in means\n",
    "diff_in_means_ci_plot <-\n",
    "    visualize(diff_in_means_bootstrap_dist) + \n",
    "    shade_confidence_interval(endpoints = diff_in_means_ci) + \n",
    "    theme(text = element_text(size = 20)) + \n",
    "    xlab(\"Difference in Means\")\n",
    "cat(\"Figure 6: Distribution of the differnce in means with 95% CI shaded\")\n",
    "diff_in_means_ci_plot"
   ]
  },
  {
   "cell_type": "markdown",
   "id": "701986f6-94ef-43a8-a2c2-f78997f94710",
   "metadata": {},
   "source": [
    "From the distribution, it can be concluded that observed value of difference in means i.e -0.09128 is contained inside the confidence interval. This means that if repeated samples are taken, there is a 95% confidence that the observed value would lie inside the confidence interval."
   ]
  },
  {
   "cell_type": "markdown",
   "id": "b64b3c3a-0e41-4e29-a8b1-2049b5f9b4ef",
   "metadata": {},
   "source": [
    "### 95% Confidence Interval for Difference in Means Using Asymptotics"
   ]
  },
  {
   "cell_type": "markdown",
   "id": "d42132e8-baa0-4c7b-9358-d06713d6daa9",
   "metadata": {},
   "source": [
    "Next, the difference of means of the two wines are analyzed using asymptotics under assumption of normality."
   ]
  },
  {
   "cell_type": "code",
   "execution_count": 263,
   "id": "869fe61c-34cd-451f-8e01-fdca1da4ffc7",
   "metadata": {},
   "outputs": [
    {
     "data": {
      "text/html": [
       "<table class=\"dataframe\">\n",
       "<caption>A tibble: 6 × 2</caption>\n",
       "<thead>\n",
       "\t<tr><th scope=col>alcohol</th><th scope=col>type</th></tr>\n",
       "\t<tr><th scope=col>&lt;dbl&gt;</th><th scope=col>&lt;chr&gt;</th></tr>\n",
       "</thead>\n",
       "<tbody>\n",
       "\t<tr><td>11.1</td><td>red</td></tr>\n",
       "\t<tr><td>12.7</td><td>red</td></tr>\n",
       "\t<tr><td>11.5</td><td>red</td></tr>\n",
       "\t<tr><td>12.8</td><td>red</td></tr>\n",
       "\t<tr><td> 9.5</td><td>red</td></tr>\n",
       "\t<tr><td>10.8</td><td>red</td></tr>\n",
       "</tbody>\n",
       "</table>\n"
      ],
      "text/latex": [
       "A tibble: 6 × 2\n",
       "\\begin{tabular}{ll}\n",
       " alcohol & type\\\\\n",
       " <dbl> & <chr>\\\\\n",
       "\\hline\n",
       "\t 11.1 & red\\\\\n",
       "\t 12.7 & red\\\\\n",
       "\t 11.5 & red\\\\\n",
       "\t 12.8 & red\\\\\n",
       "\t  9.5 & red\\\\\n",
       "\t 10.8 & red\\\\\n",
       "\\end{tabular}\n"
      ],
      "text/markdown": [
       "\n",
       "A tibble: 6 × 2\n",
       "\n",
       "| alcohol &lt;dbl&gt; | type &lt;chr&gt; |\n",
       "|---|---|\n",
       "| 11.1 | red |\n",
       "| 12.7 | red |\n",
       "| 11.5 | red |\n",
       "| 12.8 | red |\n",
       "|  9.5 | red |\n",
       "| 10.8 | red |\n",
       "\n"
      ],
      "text/plain": [
       "  alcohol type\n",
       "1 11.1    red \n",
       "2 12.7    red \n",
       "3 11.5    red \n",
       "4 12.8    red \n",
       "5  9.5    red \n",
       "6 10.8    red "
      ]
     },
     "metadata": {},
     "output_type": "display_data"
    }
   ],
   "source": [
    "# Taking the sample of 500 for each type of wine\n",
    "set.seed(1234)\n",
    "alcohol_sample <- \n",
    "    alcohol_data %>% \n",
    "    group_by(type) %>% \n",
    "    sample_n(size = case_when(type == \"red\" ~ 500,\n",
    "                              type == \"white\" ~ 500), replace = FALSE) %>% \n",
    "    ungroup()\n",
    "head(alcohol_sample)"
   ]
  },
  {
   "cell_type": "code",
   "execution_count": 264,
   "id": "0b34aa8e-8264-4489-8289-5cb2735b425f",
   "metadata": {},
   "outputs": [
    {
     "data": {
      "image/png": "[encoded data removed]",
      "text/plain": [
       "plot without title"
      ]
     },
     "metadata": {
      "image/png": {
       "height": 480,
       "width": 540
      }
     },
     "output_type": "display_data"
    }
   ],
   "source": [
    "# Observe the sample distribution of each type of Wine\n",
    "set.seed(1234)\n",
    "options(repr.plot.width = 9, repr.plot.height = 8)\n",
    "\n",
    "alocohol_samp_dist_plot <- \n",
    "    alcohol_sample %>% \n",
    "    ggplot() + \n",
    "    geom_histogram(aes(alcohol), binwidth = 1, color = 'white') +\n",
    "    facet_wrap(~ type) + \n",
    "    theme(text = element_text(size = 16)) +\n",
    "    ggtitle(\"Sample Distribution of Alcohol Content of Red and White Wines\") + \n",
    "    xlab(\"Alcohol Content\")\n",
    "alocohol_samp_dist_plot\n",
    "\n"
   ]
  },
  {
   "cell_type": "code",
   "execution_count": 270,
   "id": "edc8cd13-ff94-4876-8980-7f42fd802046",
   "metadata": {},
   "outputs": [
    {
     "data": {
      "text/html": [
       "<table class=\"dataframe\">\n",
       "<caption>A tibble: 2 × 3</caption>\n",
       "<thead>\n",
       "\t<tr><th scope=col>type</th><th scope=col>sample_mean</th><th scope=col>sample_std_error</th></tr>\n",
       "\t<tr><th scope=col>&lt;chr&gt;</th><th scope=col>&lt;dbl&gt;</th><th scope=col>&lt;dbl&gt;</th></tr>\n",
       "</thead>\n",
       "<tbody>\n",
       "\t<tr><td>red  </td><td>10.41770</td><td>0.04854378</td></tr>\n",
       "\t<tr><td>white</td><td>10.54878</td><td>0.05530210</td></tr>\n",
       "</tbody>\n",
       "</table>\n"
      ],
      "text/latex": [
       "A tibble: 2 × 3\n",
       "\\begin{tabular}{lll}\n",
       " type & sample\\_mean & sample\\_std\\_error\\\\\n",
       " <chr> & <dbl> & <dbl>\\\\\n",
       "\\hline\n",
       "\t red   & 10.41770 & 0.04854378\\\\\n",
       "\t white & 10.54878 & 0.05530210\\\\\n",
       "\\end{tabular}\n"
      ],
      "text/markdown": [
       "\n",
       "A tibble: 2 × 3\n",
       "\n",
       "| type &lt;chr&gt; | sample_mean &lt;dbl&gt; | sample_std_error &lt;dbl&gt; |\n",
       "|---|---|---|\n",
       "| red   | 10.41770 | 0.04854378 |\n",
       "| white | 10.54878 | 0.05530210 |\n",
       "\n"
      ],
      "text/plain": [
       "  type  sample_mean sample_std_error\n",
       "1 red   10.41770    0.04854378      \n",
       "2 white 10.54878    0.05530210      "
      ]
     },
     "metadata": {},
     "output_type": "display_data"
    }
   ],
   "source": [
    "# Obtain the sample averages and standard error alcohol content for each type of wine.\n",
    "alcohol_summary <- \n",
    "    alcohol_sample %>% \n",
    "    group_by(type) %>% \n",
    "    summarise(sample_mean = mean(alcohol),\n",
    "              sample_std_error = sd(alcohol)/sqrt(n()))\n",
    "alcohol_summary"
   ]
  },
  {
   "cell_type": "code",
   "execution_count": 266,
   "id": "3748c89a",
   "metadata": {},
   "outputs": [
    {
     "data": {
      "text/html": [
       "<table class=\"dataframe\">\n",
       "<caption>A tibble: 1 × 2</caption>\n",
       "<thead>\n",
       "\t<tr><th scope=col>lower_ci</th><th scope=col>upper_ci</th></tr>\n",
       "\t<tr><th scope=col>&lt;dbl&gt;</th><th scope=col>&lt;dbl&gt;</th></tr>\n",
       "</thead>\n",
       "<tbody>\n",
       "\t<tr><td>-0.2753049</td><td>0.01314486</td></tr>\n",
       "</tbody>\n",
       "</table>\n"
      ],
      "text/latex": [
       "A tibble: 1 × 2\n",
       "\\begin{tabular}{ll}\n",
       " lower\\_ci & upper\\_ci\\\\\n",
       " <dbl> & <dbl>\\\\\n",
       "\\hline\n",
       "\t -0.2753049 & 0.01314486\\\\\n",
       "\\end{tabular}\n"
      ],
      "text/markdown": [
       "\n",
       "A tibble: 1 × 2\n",
       "\n",
       "| lower_ci &lt;dbl&gt; | upper_ci &lt;dbl&gt; |\n",
       "|---|---|\n",
       "| -0.2753049 | 0.01314486 |\n",
       "\n"
      ],
      "text/plain": [
       "  lower_ci   upper_ci  \n",
       "1 -0.2753049 0.01314486"
      ]
     },
     "metadata": {},
     "output_type": "display_data"
    }
   ],
   "source": [
    "# Obtain a 95% confidence interval for the difference between the means using the CLT. \n",
    "red_mean <- alcohol_summary$sample_mean[1]\n",
    "red_var <- alcohol_summary$sample_std_error[1]^2\n",
    "white_mean <- alcohol_summary$sample_mean[2]\n",
    "white_var <- alcohol_summary$sample_std_error[2]^2\n",
    "\n",
    "alcohol_clt_ci <- \n",
    "    tibble(lower_ci = (red_mean - white_mean - qnorm(0.975) * sqrt(white_var + red_var)),\n",
    "           upper_ci = (red_mean - white_mean + qnorm(0.975) * sqrt(white_var + red_var)))\n",
    "alcohol_clt_ci"
   ]
  },
  {
   "cell_type": "markdown",
   "id": "9df7fe0d-287e-4dbf-b831-55fd7cf7db96",
   "metadata": {},
   "source": [
    "Under the assumption of normality the confidence interval for the difference of means in alcohol content is [-0.2753049, 0.01314486]. Next the accuracy of this interval is tested below."
   ]
  },
  {
   "cell_type": "code",
   "execution_count": 267,
   "id": "ba72f680-6b6f-4667-aa3b-fd2c4699ddf3",
   "metadata": {},
   "outputs": [
    {
     "name": "stderr",
     "output_type": "stream",
     "text": [
      "`summarise()` has grouped output by 'replicate'. You can override using the `.groups` argument.\n",
      "\n"
     ]
    },
    {
     "data": {
      "text/html": [
       "<table class=\"dataframe\">\n",
       "<caption>A grouped_df: 6 × 7</caption>\n",
       "<thead>\n",
       "\t<tr><th scope=col>replicate</th><th scope=col>sample_mean_red</th><th scope=col>sample_mean_white</th><th scope=col>sample_std_error_red</th><th scope=col>sample_std_error_white</th><th scope=col>n_red</th><th scope=col>n_white</th></tr>\n",
       "\t<tr><th scope=col>&lt;int&gt;</th><th scope=col>&lt;dbl&gt;</th><th scope=col>&lt;dbl&gt;</th><th scope=col>&lt;dbl&gt;</th><th scope=col>&lt;dbl&gt;</th><th scope=col>&lt;int&gt;</th><th scope=col>&lt;int&gt;</th></tr>\n",
       "</thead>\n",
       "<tbody>\n",
       "\t<tr><td>1</td><td>10.41770</td><td>10.54878</td><td>0.04854378</td><td>0.05530210</td><td>500</td><td>500</td></tr>\n",
       "\t<tr><td>2</td><td>10.44727</td><td>10.57767</td><td>0.04838444</td><td>0.05518236</td><td>500</td><td>500</td></tr>\n",
       "\t<tr><td>3</td><td>10.44077</td><td>10.51393</td><td>0.04801631</td><td>0.05703223</td><td>500</td><td>500</td></tr>\n",
       "\t<tr><td>4</td><td>10.40510</td><td>10.55533</td><td>0.04856629</td><td>0.05610298</td><td>500</td><td>500</td></tr>\n",
       "\t<tr><td>5</td><td>10.47183</td><td>10.53833</td><td>0.04990138</td><td>0.05529266</td><td>500</td><td>500</td></tr>\n",
       "\t<tr><td>6</td><td>10.38977</td><td>10.55136</td><td>0.04561252</td><td>0.05455038</td><td>500</td><td>500</td></tr>\n",
       "</tbody>\n",
       "</table>\n"
      ],
      "text/latex": [
       "A grouped\\_df: 6 × 7\n",
       "\\begin{tabular}{lllllll}\n",
       " replicate & sample\\_mean\\_red & sample\\_mean\\_white & sample\\_std\\_error\\_red & sample\\_std\\_error\\_white & n\\_red & n\\_white\\\\\n",
       " <int> & <dbl> & <dbl> & <dbl> & <dbl> & <int> & <int>\\\\\n",
       "\\hline\n",
       "\t 1 & 10.41770 & 10.54878 & 0.04854378 & 0.05530210 & 500 & 500\\\\\n",
       "\t 2 & 10.44727 & 10.57767 & 0.04838444 & 0.05518236 & 500 & 500\\\\\n",
       "\t 3 & 10.44077 & 10.51393 & 0.04801631 & 0.05703223 & 500 & 500\\\\\n",
       "\t 4 & 10.40510 & 10.55533 & 0.04856629 & 0.05610298 & 500 & 500\\\\\n",
       "\t 5 & 10.47183 & 10.53833 & 0.04990138 & 0.05529266 & 500 & 500\\\\\n",
       "\t 6 & 10.38977 & 10.55136 & 0.04561252 & 0.05455038 & 500 & 500\\\\\n",
       "\\end{tabular}\n"
      ],
      "text/markdown": [
       "\n",
       "A grouped_df: 6 × 7\n",
       "\n",
       "| replicate &lt;int&gt; | sample_mean_red &lt;dbl&gt; | sample_mean_white &lt;dbl&gt; | sample_std_error_red &lt;dbl&gt; | sample_std_error_white &lt;dbl&gt; | n_red &lt;int&gt; | n_white &lt;int&gt; |\n",
       "|---|---|---|---|---|---|---|\n",
       "| 1 | 10.41770 | 10.54878 | 0.04854378 | 0.05530210 | 500 | 500 |\n",
       "| 2 | 10.44727 | 10.57767 | 0.04838444 | 0.05518236 | 500 | 500 |\n",
       "| 3 | 10.44077 | 10.51393 | 0.04801631 | 0.05703223 | 500 | 500 |\n",
       "| 4 | 10.40510 | 10.55533 | 0.04856629 | 0.05610298 | 500 | 500 |\n",
       "| 5 | 10.47183 | 10.53833 | 0.04990138 | 0.05529266 | 500 | 500 |\n",
       "| 6 | 10.38977 | 10.55136 | 0.04561252 | 0.05455038 | 500 | 500 |\n",
       "\n"
      ],
      "text/plain": [
       "  replicate sample_mean_red sample_mean_white sample_std_error_red\n",
       "1 1         10.41770        10.54878          0.04854378          \n",
       "2 2         10.44727        10.57767          0.04838444          \n",
       "3 3         10.44077        10.51393          0.04801631          \n",
       "4 4         10.40510        10.55533          0.04856629          \n",
       "5 5         10.47183        10.53833          0.04990138          \n",
       "6 6         10.38977        10.55136          0.04561252          \n",
       "  sample_std_error_white n_red n_white\n",
       "1 0.05530210             500   500    \n",
       "2 0.05518236             500   500    \n",
       "3 0.05703223             500   500    \n",
       "4 0.05610298             500   500    \n",
       "5 0.05529266             500   500    \n",
       "6 0.05455038             500   500    "
      ]
     },
     "metadata": {},
     "output_type": "display_data"
    }
   ],
   "source": [
    "# Testing accuracy of the confidence interval\n",
    "\n",
    "set.seed(1234)\n",
    "\n",
    "# Obtain the means\n",
    "true_means <-\n",
    "    alcohol_data %>% \n",
    "    group_by(type) %>% \n",
    "    summarise(sample_mean = mean(alcohol)) %>% \n",
    "    pull(sample_mean)\n",
    "\n",
    "# Obtain the true difference in mean\n",
    "true_diff = true_means[1] - true_means[2]\n",
    "\n",
    "alcohol_multiple_samples <- \n",
    "    tibble(replicate = 1:100) %>% \n",
    "    mutate(sample = map(replicate,\n",
    "                        `.f` = ~\n",
    "                            alcohol_data %>% \n",
    "                            group_by(type) %>% \n",
    "                            sample_n(size = case_when(type == \"red\" ~ 500,\n",
    "                                                      type == \"white\" ~ 500), replace = FALSE) %>% \n",
    "                            ungroup() \n",
    "                    )\n",
    "    ) %>% \n",
    "    unnest(sample) %>% \n",
    "    group_by(replicate, type) %>% \n",
    "    summarise(sample_mean = mean(alcohol),\n",
    "              sample_std_error = sd(alcohol)/sqrt(n()),\n",
    "              n = n()) %>% \n",
    "    pivot_wider(names_from = type, values_from = c(sample_mean, sample_std_error, n))\n",
    "\n",
    "head(alcohol_multiple_samples)\n",
    "\n"
   ]
  },
  {
   "cell_type": "code",
   "execution_count": 268,
   "id": "ac9be70d-5f45-4331-91a6-32102ad0ede5",
   "metadata": {},
   "outputs": [
    {
     "data": {
      "text/html": [
       "<table class=\"dataframe\">\n",
       "<caption>A grouped_df: 6 × 4</caption>\n",
       "<thead>\n",
       "\t<tr><th scope=col>replicate</th><th scope=col>lower_ci</th><th scope=col>upper_ci</th><th scope=col>captured</th></tr>\n",
       "\t<tr><th scope=col>&lt;int&gt;</th><th scope=col>&lt;dbl&gt;</th><th scope=col>&lt;dbl&gt;</th><th scope=col>&lt;lgl&gt;</th></tr>\n",
       "</thead>\n",
       "<tbody>\n",
       "\t<tr><td>1</td><td>-0.2753049</td><td> 0.013144862</td><td>TRUE</td></tr>\n",
       "\t<tr><td>2</td><td>-0.2742425</td><td> 0.013442483</td><td>TRUE</td></tr>\n",
       "\t<tr><td>3</td><td>-0.2192891</td><td> 0.072955727</td><td>TRUE</td></tr>\n",
       "\t<tr><td>4</td><td>-0.2956704</td><td>-0.004796225</td><td>TRUE</td></tr>\n",
       "\t<tr><td>5</td><td>-0.2124802</td><td> 0.079480164</td><td>TRUE</td></tr>\n",
       "\t<tr><td>6</td><td>-0.3009610</td><td>-0.022225621</td><td>TRUE</td></tr>\n",
       "</tbody>\n",
       "</table>\n"
      ],
      "text/latex": [
       "A grouped\\_df: 6 × 4\n",
       "\\begin{tabular}{llll}\n",
       " replicate & lower\\_ci & upper\\_ci & captured\\\\\n",
       " <int> & <dbl> & <dbl> & <lgl>\\\\\n",
       "\\hline\n",
       "\t 1 & -0.2753049 &  0.013144862 & TRUE\\\\\n",
       "\t 2 & -0.2742425 &  0.013442483 & TRUE\\\\\n",
       "\t 3 & -0.2192891 &  0.072955727 & TRUE\\\\\n",
       "\t 4 & -0.2956704 & -0.004796225 & TRUE\\\\\n",
       "\t 5 & -0.2124802 &  0.079480164 & TRUE\\\\\n",
       "\t 6 & -0.3009610 & -0.022225621 & TRUE\\\\\n",
       "\\end{tabular}\n"
      ],
      "text/markdown": [
       "\n",
       "A grouped_df: 6 × 4\n",
       "\n",
       "| replicate &lt;int&gt; | lower_ci &lt;dbl&gt; | upper_ci &lt;dbl&gt; | captured &lt;lgl&gt; |\n",
       "|---|---|---|---|\n",
       "| 1 | -0.2753049 |  0.013144862 | TRUE |\n",
       "| 2 | -0.2742425 |  0.013442483 | TRUE |\n",
       "| 3 | -0.2192891 |  0.072955727 | TRUE |\n",
       "| 4 | -0.2956704 | -0.004796225 | TRUE |\n",
       "| 5 | -0.2124802 |  0.079480164 | TRUE |\n",
       "| 6 | -0.3009610 | -0.022225621 | TRUE |\n",
       "\n"
      ],
      "text/plain": [
       "  replicate lower_ci   upper_ci     captured\n",
       "1 1         -0.2753049  0.013144862 TRUE    \n",
       "2 2         -0.2742425  0.013442483 TRUE    \n",
       "3 3         -0.2192891  0.072955727 TRUE    \n",
       "4 4         -0.2956704 -0.004796225 TRUE    \n",
       "5 5         -0.2124802  0.079480164 TRUE    \n",
       "6 6         -0.3009610 -0.022225621 TRUE    "
      ]
     },
     "metadata": {},
     "output_type": "display_data"
    }
   ],
   "source": [
    "# Obtaining multiple confidence intervals from different samples.\n",
    "alcohol_multiple_ci <-\n",
    "    alcohol_multiple_samples %>% \n",
    "    mutate(lower_ci = sample_mean_red - sample_mean_white - qnorm(0.975) * sqrt(sample_std_error_red^2+sample_std_error_white^2),\n",
    "           upper_ci = sample_mean_red - sample_mean_white + qnorm(0.975) * sqrt(sample_std_error_red^2+sample_std_error_white^2)) %>% \n",
    "    select(replicate, lower_ci, upper_ci) %>% \n",
    "    mutate(captured = between(true_diff, lower_ci, upper_ci))\n",
    "head(alcohol_multiple_ci)\n",
    "\n"
   ]
  },
  {
   "cell_type": "code",
   "execution_count": 269,
   "id": "db700520-2a36-472a-9e7a-b2831858838c",
   "metadata": {},
   "outputs": [
    {
     "data": {
      "image/png": "[encoded data removed]",
      "text/plain": [
       "plot without title"
      ]
     },
     "metadata": {
      "image/png": {
       "height": 480,
       "width": 540
      }
     },
     "output_type": "display_data"
    }
   ],
   "source": [
    "# Plotting multiple confidence intervals and observing if they capture the true difference in emans\n",
    "alcohol_multiple_ci %>% \n",
    "    ggplot() +\n",
    "    scale_colour_manual(breaks = c(\"TRUE\", \"FALSE\"), \n",
    "                        values = c(\"grey\", \"black\")) +\n",
    "    geom_segment(aes(x = lower_ci,\n",
    "                     xend = upper_ci,\n",
    "                     y = replicate,\n",
    "                     yend = replicate,\n",
    "                     colour = captured)) +\n",
    "    geom_vline(xintercept = true_diff, colour = \"red\", size = 1) +\n",
    "    labs(title = \"100 95% Confidence Intervals\",\n",
    "         x = 'Difference in means',\n",
    "         y = \"Sample ID\",\n",
    "         colour = \"Captured?\") +\n",
    "    theme_bw() + \n",
    "    theme(text = element_text(size = 18))\n",
    "\n"
   ]
  },
  {
   "cell_type": "markdown",
   "id": "dd64c2ef-666f-4f66-bc5a-5ab74564b24b",
   "metadata": {},
   "source": [
    "The plot above shows that even though the population is not Normal, the CLT approximation is fairly accurate."
   ]
  },
  {
   "cell_type": "markdown",
   "id": "235dc371-35a3-4332-9e2d-54e79c3df184",
   "metadata": {},
   "source": [
    "# Discussion\n",
    "## Findings\n",
    "#### Hypothesis Test\n",
    "From the hypothesis test conducted in the report, a p-value of 0.06 is obtained. Using a 5% significance level, this p-value leads to a rejection of the null hypothesis. This suggests that with 95% certainty, the mean alcohol content of red and white wines are significantly different. This conclusion supports the estimates made in the preliminary results that white wine had a slightly higher mean alcohol content than red wine.\n",
    "\n",
    "#### Comparing Bootstrapping and Asymptotics Methods\n",
    "The confidence intervals for the different methods yielded significanlty different results. \n",
    "\n",
    "The 95% confidence interval constructed using bootstrapping wad [-0.1515, -0.0291]. Since this interval does not contain zero, it suggests that the difference in means of the alcohol content is significant. \n",
    "\n",
    "In contrast, the asymptotic method obtained a 95% confidence interval of [-0.2753, 0.0131]. This interval does contain zero. Hence, it suggests that the difference in alcohol content is not significant between red and white wines.\n",
    "\n",
    "The confidence interval obtained by bootstrapping supports the results of the hypothesis test while the interval obtained with the asymptotic method appears to contradict the hypothesis test. Since the interval based on the CLT is quite wider than the bootstrap interval, it is likely that the bootstrapping interval is more trustworthy. \n",
    "\n",
    "## What impact could such findings have?\n",
    "These findings could provide insights for wine making companies as well as consumers regarding what the alcohol content in wines are.\n",
    "## What future questions could this lead to?\n",
    "The study can be further analyzed by possibly exploring the relation between alcohol content and the other variables in the dataset. We could see if any of the other variables are correlated with the alcohol concentration to help make a regression model in future. "
   ]
  },
  {
   "cell_type": "markdown",
   "id": "37ab7c6b-9232-42cd-a12d-8caaacbb4bb6",
   "metadata": {
    "tags": []
   },
   "source": [
    "# References\n",
    "Zhang, Qing-An, et al. “Preliminary Study of the Effect of Ultrasound on Physicochemical Properties of Red Wine.” CyTA - Journal of Food, vol. 14, no. 1, 2015, pp. 55–64., https://doi.org/10.1080/19476337.2015.1045036.\n",
    "\n",
    "P. Cortez, A. Cerdeira, F. Almeida, T. Matos and J. Reis. Modeling wine preferences by data mining from physicochemical properties. In Decision Support Systems, Elsevier, 47(4):547-553, 2009."
   ]
  }
 ],
 "metadata": {
  "kernelspec": {
   "display_name": "R",
   "language": "R",
   "name": "ir"
  },
  "language_info": {
   "codemirror_mode": "r",
   "file_extension": ".r",
   "mimetype": "text/x-r-source",
   "name": "R",
   "pygments_lexer": "r",
   "version": "4.1.2"
  }
 },
 "nbformat": 4,
 "nbformat_minor": 5
}
